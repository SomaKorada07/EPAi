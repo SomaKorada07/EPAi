{
 "cells": [
  {
   "cell_type": "code",
   "execution_count": 1,
   "metadata": {},
   "outputs": [
    {
     "name": "stdout",
     "output_type": "stream",
     "text": [
      "Requirement already satisfied: faker in c:\\users\\somak\\appdata\\local\\continuum\\anaconda3\\lib\\site-packages (4.1.3)\n",
      "Requirement already satisfied: python-dateutil>=2.4 in c:\\users\\somak\\appdata\\local\\continuum\\anaconda3\\lib\\site-packages (from faker) (2.8.0)\n",
      "Requirement already satisfied: text-unidecode==1.3 in c:\\users\\somak\\appdata\\local\\continuum\\anaconda3\\lib\\site-packages (from faker) (1.3)\n",
      "Requirement already satisfied: six>=1.5 in c:\\users\\somak\\appdata\\local\\continuum\\anaconda3\\lib\\site-packages (from python-dateutil>=2.4->faker) (1.12.0)\n"
     ]
    }
   ],
   "source": [
    "!pip install faker"
   ]
  },
  {
   "cell_type": "code",
   "execution_count": 24,
   "metadata": {},
   "outputs": [],
   "source": [
    "from collections import namedtuple, Counter\n",
    "import datetime\n",
    "import re\n",
    "import random\n",
    "import string\n",
    "from time import perf_counter\n",
    "from functools import wraps\n",
    "from faker import Faker"
   ]
  },
  {
   "cell_type": "code",
   "execution_count": 23,
   "metadata": {},
   "outputs": [],
   "source": [
    "faker = Faker()"
   ]
  },
  {
   "cell_type": "code",
   "execution_count": 4,
   "metadata": {},
   "outputs": [],
   "source": [
    "def timed(fn: \"Function\"):\n",
    "    \"\"\"\n",
    "    Decorator to calculate run time of a function.\n",
    "    \"\"\"\n",
    "    @wraps(fn)\n",
    "    def calculate_time(*args, **kwargs):\n",
    "        start = perf_counter()\n",
    "        result = fn(*args, **kwargs)\n",
    "        end = perf_counter()\n",
    "        time_elapsed = (end - start)\n",
    "        print('Run time: {0:.4f}s'.format(time_elapsed))\n",
    "        return result\n",
    "    return calculate_time"
   ]
  },
  {
   "cell_type": "code",
   "execution_count": 15,
   "metadata": {},
   "outputs": [],
   "source": [
    "def generate_fake_profiles_np(num_profiles: int):\n",
    "  \"\"\"\n",
    "  Function, takes a number as input and generates those many number\n",
    "  of fake user profiles. Each of those profiles is stored as a named \n",
    "  tuple and a list of such namedtuples is returned.\n",
    "  \"\"\"\n",
    "  fake_profiles = []\n",
    "  CreateProfiles = namedtuple('CreateProfiles', \" \".join(list((faker.profile()).keys())))\n",
    "  for _ in range(num_profiles):\n",
    "    fake_profiles.append(CreateProfiles(**faker.profile()))\n",
    "  return fake_profiles"
   ]
  },
  {
   "cell_type": "code",
   "execution_count": 16,
   "metadata": {},
   "outputs": [],
   "source": [
    "@timed\n",
    "def calculate_time_np():\n",
    "  \"\"\"\n",
    "  Makes use of the generated profiles, stored in the form of list of named\n",
    "  tuples and process the profiles to give some results. The results include\n",
    "  the blood group with maximum occurance, mean location calculated from the\n",
    "  location of all the profiles, person Oldest person with the profile and the\n",
    "  average age.\n",
    "  \"\"\"\n",
    "  num_profiles = 10000\n",
    "  fake_profiles = generate_fake_profiles_np(num_profiles)\n",
    "  date_today = datetime.date.today()\n",
    "  blood_group = dict()\n",
    "  max_age = {'age': 0, 'proflie': None}\n",
    "  cur_loc_coord_sum = [0, 0]\n",
    "  sum_ages = 0\n",
    "  for _ in fake_profiles:\n",
    "    blood_group[_.blood_group] = blood_group[_.blood_group] + 1 if _.blood_group in blood_group else 1\n",
    "    age = (date_today - _.birthdate).days\n",
    "    if  age > max_age['age']:\n",
    "      max_age['age'] = age\n",
    "      max_age['profile'] = _\n",
    "    cur_loc_coord_sum[0] += _.current_location[0]\n",
    "    cur_loc_coord_sum[1] += _.current_location[1]\n",
    "    sum_ages += int(age / 365)\n",
    "  \n",
    "  data = namedtuple('data', 'largest_blood_type mean_current_location oldest_person average_age')\n",
    "  bg_l = max(blood_group, key = blood_group.get)\n",
    "  mean_current_location = (cur_loc_coord_sum[0]/num_profiles, cur_loc_coord_sum[1]/num_profiles)\n",
    "  return data((bg_l, blood_group[bg_l]), mean_current_location, (max_age['profile'], int(max_age['age']/365)), int(sum_ages/num_profiles))"
   ]
  },
  {
   "cell_type": "code",
   "execution_count": 17,
   "metadata": {},
   "outputs": [
    {
     "name": "stdout",
     "output_type": "stream",
     "text": [
      "Run time: 47.0934s\n"
     ]
    },
    {
     "data": {
      "text/plain": [
       "data(largest_blood_type=('AB+', 1296), mean_current_location=(Decimal('1.04821986615'), Decimal('-0.4176551301')), oldest_person=(CreateProfiles(job='Chartered legal executive (England and Wales)', company='Holmes Inc', ssn='853-66-8060', residence='53432 Smith Summit Suite 995\\nMelissaton, MT 64452', current_location=(Decimal('-51.8753525'), Decimal('-116.224890')), blood_group='B+', website=['https://www.payne-sanchez.com/', 'https://www.edwards-gonzalez.biz/', 'http://www.evans.com/', 'http://www.jones-gomez.info/'], username='osteele', name='Joshua Owens', sex='M', address='40104 David Expressway Apt. 304\\nEast Victoriahaven, MS 86830', mail='ewilliams@gmail.com', birthdate=datetime.date(1904, 10, 14)), 116), average_age=57)"
      ]
     },
     "execution_count": 17,
     "metadata": {},
     "output_type": "execute_result"
    }
   ],
   "source": [
    "calculate_time_np()"
   ]
  },
  {
   "cell_type": "code",
   "execution_count": 18,
   "metadata": {},
   "outputs": [],
   "source": [
    "def generate_fake_profiles_dict(num_profiles):\n",
    "  \"\"\"\n",
    "  Function, takes a number as input and generates those many number\n",
    "  of fake user profiles. Each of those profiles is stored as a dictionary\n",
    "  and a list of such dictionaries is returned.\n",
    "  \"\"\"\n",
    "  fake_profiles = []\n",
    "  for _ in range(num_profiles):\n",
    "    fake_profiles.append(faker.profile())\n",
    "  return fake_profiles"
   ]
  },
  {
   "cell_type": "code",
   "execution_count": 20,
   "metadata": {},
   "outputs": [],
   "source": [
    "@timed\n",
    "def calculate_time_dict():\n",
    "  \"\"\"\n",
    "  Makes use of the generated profiles, stored in the form of list of dictionaries\n",
    "  and process the profiles to give some results. The results include the blood\n",
    "  group with maximum occurance, mean location calculated from the location of all\n",
    "  the profiles, person Oldest person with the profile and the average age.\n",
    "  \"\"\"\n",
    "  num_profiles = 10000\n",
    "  fake_profiles = generate_fake_profiles_dict(num_profiles)\n",
    "  date_today = datetime.date.today()\n",
    "  blood_group = dict()\n",
    "  max_age = {'age': 0, 'proflie': None}\n",
    "  cur_loc_coord_sum = [0, 0]\n",
    "  sum_ages = 0\n",
    "  for _ in fake_profiles:\n",
    "    blood_group[_['blood_group']] = blood_group[_['blood_group']] + 1 if _['blood_group'] in blood_group else 1\n",
    "    age = (date_today - _['birthdate']).days\n",
    "    if  age > max_age['age']:\n",
    "      max_age['age'] = age\n",
    "      max_age['profile'] = _\n",
    "    cur_loc_coord_sum[0] += _['current_location'][0]\n",
    "    cur_loc_coord_sum[1] += _['current_location'][1]\n",
    "    sum_ages += int(age / 365)\n",
    "  bg_l = max(blood_group, key = blood_group.get)\n",
    "  mean_current_location = (cur_loc_coord_sum[0] / num_profiles, cur_loc_coord_sum[1] / num_profiles)\n",
    "  return {'largest_blood_type': (bg_l, blood_group[bg_l]), 'mean_current_location': mean_current_location, 'oldest_person': (max_age['profile'], int(max_age['age']/365)), 'average_age': int(sum_ages/num_profiles)}"
   ]
  },
  {
   "cell_type": "code",
   "execution_count": 21,
   "metadata": {},
   "outputs": [
    {
     "name": "stdout",
     "output_type": "stream",
     "text": [
      "Run time: 45.1540s\n"
     ]
    },
    {
     "data": {
      "text/plain": [
       "{'largest_blood_type': ('B-', 1287),\n",
       " 'mean_current_location': (Decimal('-0.91941042465'), Decimal('1.073366058')),\n",
       " 'oldest_person': ({'job': 'Production engineer',\n",
       "   'company': 'Barnett, Caldwell and Ross',\n",
       "   'ssn': '801-72-2356',\n",
       "   'residence': '14810 Lisa Shoal Apt. 668\\nRaymondtown, OR 78887',\n",
       "   'current_location': (Decimal('22.5153275'), Decimal('115.929224')),\n",
       "   'blood_group': 'A+',\n",
       "   'website': ['http://www.ryan.com/',\n",
       "    'https://www.hall.info/',\n",
       "    'http://www.green-diaz.com/',\n",
       "    'http://www.rice-richardson.net/'],\n",
       "   'username': 'aaronrobinson',\n",
       "   'name': 'Jessica Larsen',\n",
       "   'sex': 'F',\n",
       "   'address': '321 Nguyen Fords Suite 404\\nLake Evanbury, MI 18019',\n",
       "   'mail': 'cherylhoffman@hotmail.com',\n",
       "   'birthdate': datetime.date(1904, 10, 14)},\n",
       "  116),\n",
       " 'average_age': 57}"
      ]
     },
     "execution_count": 21,
     "metadata": {},
     "output_type": "execute_result"
    }
   ],
   "source": [
    "calculate_time_dict()"
   ]
  },
  {
   "cell_type": "code",
   "execution_count": 29,
   "metadata": {},
   "outputs": [],
   "source": [
    "def generate_companies(num_companies: int):\n",
    "  \"\"\"\n",
    "  Function takes number of companies as input and returns a list of named\n",
    "  tuples, each of which is a Company data consisting of Name, Symbol Open,\n",
    "  High, Close and Weight in given in the calculation of derivative index.\n",
    "  \"\"\"\n",
    "  companies = []\n",
    "  weights = [round(random.random(), 5) for i in range(num_companies)]\n",
    "  sum_weights = sum(weights)\n",
    "  weights = [round(_/sum_weights, 5) for _ in weights]\n",
    "  symbols = []\n",
    "  Company = namedtuple('Company', 'Name Symbol Open High Close Weight')\n",
    "  for _ in range(num_companies):\n",
    "    co_name = faker.company()\n",
    "    symbol = (''.join([i[0] for i in re.split('[,. ]+', co_name.replace(\"-\", \" \"))])).lower()\n",
    "    temp = ''\n",
    "    while True:\n",
    "      if symbol + temp not in symbols:\n",
    "        symbols.append(symbol + temp)\n",
    "        break\n",
    "      temp = random.choice(string.ascii_lowercase)\n",
    "    symbol += temp\n",
    "    open = round(random.randint(1500, 5000) * random.uniform(1.0001, 1.0002), 2)\n",
    "    high = round(open * random.uniform(1.0, 1.5), 2)\n",
    "    high = high if high > open else open\n",
    "    close = round(open * random.uniform(0.8, 1.75), 2)\n",
    "    close = close if high > close else high\n",
    "    companies.append(Company(co_name, symbol, open, high, close, weights[_]))\n",
    "  return companies"
   ]
  },
  {
   "cell_type": "code",
   "execution_count": 30,
   "metadata": {},
   "outputs": [],
   "source": [
    "companies = generate_companies(100)"
   ]
  },
  {
   "cell_type": "code",
   "execution_count": 28,
   "metadata": {},
   "outputs": [
    {
     "data": {
      "text/plain": [
       "[Company(Name='Perez Group', Symbol='pg', Open=544.09, High=619.77, Close=518.63, Weight=0.0166),\n",
       " Company(Name='Walker and Sons', Symbol='was', Open=1933.33, High=1933.33, Close=1933.33, Weight=0.00615),\n",
       " Company(Name='Le Ltd', Symbol='ll', Open=2243.29, High=2270.2, Close=1868.02, Weight=0.00386),\n",
       " Company(Name='Johnson LLC', Symbol='jl', Open=1366.18, High=1366.18, Close=1106.68, Weight=0.00848),\n",
       " Company(Name='Wood-Joseph', Symbol='wj', Open=2665.49, High=2807.36, Close=2668.92, Weight=0.00072),\n",
       " Company(Name='Martin Group', Symbol='mg', Open=3607.49, High=3607.49, Close=3033.84, Weight=0.00608),\n",
       " Company(Name='Fletcher, Stephens and Williams', Symbol='fsaw', Open=542.07, High=542.07, Close=498.78, Weight=0.0115),\n",
       " Company(Name='Barton PLC', Symbol='bp', Open=2377.46, High=2585.81, Close=2340.95, Weight=0.01453),\n",
       " Company(Name='Parker-Chase', Symbol='pc', Open=3422.51, High=3858.72, Close=3526.51, Weight=0.01051),\n",
       " Company(Name='Smith PLC', Symbol='sp', Open=890.11, High=1013.45, Close=893.49, Weight=0.01628),\n",
       " Company(Name='Braun-Farley', Symbol='bf', Open=3360.37, High=3360.37, Close=3360.37, Weight=0.01794),\n",
       " Company(Name='Reid, Moore and Carr', Symbol='rmac', Open=598.1, High=630.96, Close=629.61, Weight=0.01673),\n",
       " Company(Name='Wilson, Martin and Franklin', Symbol='wmaf', Open=429.05, High=431.8, Close=431.8, Weight=0.00424),\n",
       " Company(Name='Parker PLC', Symbol='pp', Open=2123.37, High=2405.88, Close=2378.42, Weight=0.00889),\n",
       " Company(Name='Martinez PLC', Symbol='mp', Open=3192.52, High=3506.85, Close=3506.85, Weight=0.0032),\n",
       " Company(Name='Payne, Williams and Patterson', Symbol='pwap', Open=2752.45, High=3026.03, Close=2476.82, Weight=0.00534),\n",
       " Company(Name='Reynolds, Walker and Harris', Symbol='rwah', Open=419.06, High=446.97, Close=429.53, Weight=0.00365),\n",
       " Company(Name='Lewis, Collins and Davis', Symbol='lcad', Open=653.08, High=653.08, Close=570.11, Weight=0.00338),\n",
       " Company(Name='Anderson-Cook', Symbol='ac', Open=3930.76, High=4478.7, Close=4368.1, Weight=0.0079),\n",
       " Company(Name='Cardenas, Roberson and Mcmahon', Symbol='cram', Open=1053.12, High=1226.85, Close=881.84, Weight=0.01399),\n",
       " Company(Name='Johnson-Harris', Symbol='jh', Open=3367.55, High=3367.55, Close=3367.55, Weight=0.0078),\n",
       " Company(Name='Thompson, Huffman and Smith', Symbol='thas', Open=3713.74, High=3713.74, Close=3537.01, Weight=0.00087),\n",
       " Company(Name='King-Villegas', Symbol='kv', Open=3997.46, High=3997.46, Close=3997.46, Weight=0.01075),\n",
       " Company(Name='Hudson LLC', Symbol='hl', Open=3902.56, High=4679.74, Close=4657.43, Weight=0.01315),\n",
       " Company(Name='Gordon, Banks and Cole', Symbol='gbac', Open=93.02, High=93.02, Close=88.97, Weight=0.01533),\n",
       " Company(Name='Kaufman-Johnson', Symbol='kj', Open=3759.58, High=3759.58, Close=3629.66, Weight=0.01648),\n",
       " Company(Name='Young-Wilkins', Symbol='yw', Open=3377.35, High=3377.35, Close=3105.31, Weight=0.00417),\n",
       " Company(Name='Lucas, Guerrero and Terry', Symbol='lgat', Open=2906.52, High=2906.52, Close=2597.4, Weight=0.01349),\n",
       " Company(Name='Juarez PLC', Symbol='jp', Open=338.07, High=390.75, Close=270.84, Weight=0.00098),\n",
       " Company(Name='Schmidt-Gray', Symbol='sg', Open=2367.29, High=2419.18, Close=2307.01, Weight=0.01694),\n",
       " Company(Name='Haas-Bond', Symbol='hb', Open=3004.53, High=3004.53, Close=3004.53, Weight=0.00341),\n",
       " Company(Name='Edwards, Adkins and Brown', Symbol='eaab', Open=371.05, High=433.69, Close=364.32, Weight=0.00444),\n",
       " Company(Name='Hill, Anderson and Schultz', Symbol='haas', Open=2912.34, High=3126.76, Close=2567.45, Weight=0.0177),\n",
       " Company(Name='Wells-Newman', Symbol='wn', Open=1950.2, High=2236.36, Close=1836.16, Weight=0.01661),\n",
       " Company(Name='Adams LLC', Symbol='al', Open=862.15, High=995.06, Close=734.54, Weight=0.00674),\n",
       " Company(Name='Joyce-Adkins', Symbol='ja', Open=2269.28, High=2630.41, Close=2417.98, Weight=0.00588),\n",
       " Company(Name='Johnson LLC', Symbol='jlx', Open=1132.15, High=1283.53, Close=918.07, Weight=0.01136),\n",
       " Company(Name='Boyd-Robertson', Symbol='br', Open=2378.25, High=2704.08, Close=2318.91, Weight=0.00515),\n",
       " Company(Name='Kaufman, Smith and Brown', Symbol='ksab', Open=3410.53, High=3410.53, Close=3410.53, Weight=0.01379),\n",
       " Company(Name='Saunders, Davis and Ashley', Symbol='sdaa', Open=87.01, High=92.18, Close=83.48, Weight=0.01285),\n",
       " Company(Name='Griffith Inc', Symbol='gi', Open=3119.61, High=3640.99, Close=2514.15, Weight=0.00434),\n",
       " Company(Name='Hoffman, Ibarra and Horne', Symbol='hiah', Open=2915.34, High=2915.34, Close=2596.67, Weight=0.01682),\n",
       " Company(Name='Garcia, Steele and Leonard', Symbol='gsal', Open=3212.55, High=3212.55, Close=2612.47, Weight=0.01276),\n",
       " Company(Name='Hall, Ochoa and Whitehead', Symbol='hoaw', Open=2158.42, High=2416.95, Close=2223.12, Weight=0.00283),\n",
       " Company(Name='Moore-Warren', Symbol='mw', Open=1916.3, High=1916.3, Close=1879.45, Weight=0.00855),\n",
       " Company(Name='Fowler, Walsh and Bailey', Symbol='fwab', Open=2970.52, High=2970.52, Close=2497.24, Weight=0.00818),\n",
       " Company(Name='Weber, Griffith and Vaughn', Symbol='wgav', Open=1466.15, High=1466.15, Close=1466.15, Weight=0.01344),\n",
       " Company(Name='Lynch, Allen and Bell', Symbol='laab', Open=2725.46, High=2725.46, Close=2482.76, Weight=0.01441),\n",
       " Company(Name='Bennett Ltd', Symbol='bl', Open=158.02, High=188.66, Close=171.88, Weight=0.01325),\n",
       " Company(Name='Morse, Lowery and Adkins', Symbol='mlaa', Open=3696.63, High=3696.63, Close=3696.63, Weight=0.01709),\n",
       " Company(Name='Smith, Williams and Andersen', Symbol='swaa', Open=89.01, High=89.01, Close=78.37, Weight=0.01398),\n",
       " Company(Name='Bennett-Jacobs', Symbol='bj', Open=112.02, High=112.02, Close=112.02, Weight=0.00011),\n",
       " Company(Name='Gutierrez, Mata and Smith', Symbol='gmas', Open=822.1, High=822.1, Close=705.11, Weight=0.01425),\n",
       " Company(Name='Olson-Johnson', Symbol='oj', Open=2154.29, High=2154.29, Close=2154.29, Weight=0.00495),\n",
       " Company(Name='Jones-Harper', Symbol='jhp', Open=1203.13, High=1203.13, Close=1203.13, Weight=0.00058),\n",
       " Company(Name='Long, Lewis and Brown', Symbol='llab', Open=3673.42, High=3673.42, Close=3673.42, Weight=0.00798),\n",
       " Company(Name='Mcmillan Ltd', Symbol='ml', Open=1747.21, High=1747.21, Close=1664.5, Weight=0.01604),\n",
       " Company(Name='Newman, Levine and Stein', Symbol='nlas', Open=1308.15, High=1308.15, Close=1289.16, Weight=0.00649),\n",
       " Company(Name='Cooke-Robinson', Symbol='cr', Open=210.02, High=243.52, Close=243.52, Weight=0.0169),\n",
       " Company(Name='Simpson, Huynh and Ingram', Symbol='shai', Open=115.01, High=115.27, Close=115.27, Weight=0.01657),\n",
       " Company(Name='Carter, Huang and Thomas', Symbol='chat', Open=2349.26, High=2349.26, Close=2349.26, Weight=0.0052),\n",
       " Company(Name='Schneider, Cochran and Ewing', Symbol='scae', Open=1196.12, High=1196.12, Close=994.2, Weight=0.01445),\n",
       " Company(Name='Ellis-Archer', Symbol='ea', Open=900.11, High=900.11, Close=900.11, Weight=0.01332),\n",
       " Company(Name='Simpson Group', Symbol='sgy', Open=2924.57, High=3252.38, Close=3034.78, Weight=0.01828),\n",
       " Company(Name='Miles Group', Symbol='mgr', Open=3091.43, High=3641.14, Close=3558.3, Weight=0.00199),\n",
       " Company(Name='Wise Inc', Symbol='wi', Open=1611.17, High=1611.17, Close=1611.17, Weight=0.01337),\n",
       " Company(Name='King Ltd', Symbol='kl', Open=486.05, High=575.49, Close=498.14, Weight=0.0177),\n",
       " Company(Name='Lopez and Sons', Symbol='las', Open=1708.31, High=1948.68, Close=1948.68, Weight=0.01598),\n",
       " Company(Name='Burton-Juarez', Symbol='bjw', Open=2054.37, High=2054.37, Close=2054.37, Weight=0.00083),\n",
       " Company(Name='Park, Griffin and Simmons', Symbol='pgas', Open=3072.47, High=3219.33, Close=2851.61, Weight=0.01715),\n",
       " Company(Name='Aguirre, Briggs and Carroll', Symbol='abac', Open=1139.2, High=1139.2, Close=1075.73, Weight=0.01769),\n",
       " Company(Name='Weaver PLC', Symbol='wp', Open=1607.2, High=1607.2, Close=1452.72, Weight=0.00723),\n",
       " Company(Name='Johnson Inc', Symbol='ji', Open=2999.35, High=2999.35, Close=2999.35, Weight=0.00314),\n",
       " Company(Name='Clark-Martinez', Symbol='cm', Open=781.13, High=781.13, Close=781.13, Weight=0.00035),\n",
       " Company(Name='Woods-Maxwell', Symbol='wm', Open=70.01, High=70.01, Close=69.49, Weight=0.00675),\n",
       " Company(Name='Riddle Group', Symbol='rg', Open=3132.61, High=3478.46, Close=3262.54, Weight=0.0185),\n",
       " Company(Name='Smith Ltd', Symbol='sl', Open=3123.44, High=3328.1, Close=2974.73, Weight=0.01622),\n",
       " Company(Name='Weaver and Sons', Symbol='wasg', Open=879.15, High=950.73, Close=763.13, Weight=0.0046),\n",
       " Company(Name='Perez, Randolph and Johnson', Symbol='praj', Open=1067.11, High=1248.0, Close=1173.9, Weight=0.01639),\n",
       " Company(Name='Goodwin-Chen', Symbol='gc', Open=1844.33, High=1844.33, Close=1844.33, Weight=0.01092),\n",
       " Company(Name='Mercer, Rodriguez and Ramos', Symbol='mrar', Open=3550.38, High=3550.38, Close=3151.51, Weight=0.01425),\n",
       " Company(Name='Sweeney, Boyd and Espinoza', Symbol='sbae', Open=1289.15, High=1379.92, Close=1379.92, Weight=0.0107),\n",
       " Company(Name='Mata Inc', Symbol='mi', Open=2090.38, High=2090.38, Close=1969.66, Weight=0.00485),\n",
       " Company(Name='Mckinney-Gibbs', Symbol='mgd', Open=1440.25, High=1701.5, Close=1687.47, Weight=0.00531),\n",
       " Company(Name='Castillo LLC', Symbol='cl', Open=3143.46, High=3143.46, Close=2658.02, Weight=0.00859),\n",
       " Company(Name='Weaver, Grant and Little', Symbol='wgal', Open=890.1, High=890.1, Close=843.28, Weight=0.01162),\n",
       " Company(Name='Baird Inc', Symbol='bi', Open=2878.46, High=2878.46, Close=2878.46, Weight=0.00547),\n",
       " Company(Name='Prince, Davis and Galvan', Symbol='pdag', Open=3260.53, High=3401.22, Close=3352.32, Weight=0.0013),\n",
       " Company(Name='Potter-George', Symbol='pgm', Open=1620.22, High=1620.22, Close=1620.22, Weight=0.01883),\n",
       " Company(Name='Johnson LLC', Symbol='jli', Open=2588.37, High=2588.37, Close=2588.37, Weight=0.0161),\n",
       " Company(Name='Boyer-Casey', Symbol='bc', Open=3113.49, High=3495.45, Close=3134.53, Weight=0.01097),\n",
       " Company(Name='Higgins Group', Symbol='hg', Open=1030.19, High=1079.26, Close=903.27, Weight=0.00048),\n",
       " Company(Name='Harrell PLC', Symbol='hp', Open=1539.24, High=1539.24, Close=1377.25, Weight=0.00665),\n",
       " Company(Name='Mcbride-Peterson', Symbol='mpk', Open=587.07, High=667.43, Close=568.62, Weight=0.01062),\n",
       " Company(Name='Guerrero, Johnson and Cooley', Symbol='gjac', Open=1684.23, High=1725.12, Close=1725.12, Weight=0.00252),\n",
       " Company(Name='Morton, Mccarthy and Brown', Symbol='mmab', Open=2272.42, High=2704.37, Close=2227.88, Weight=0.00684),\n",
       " Company(Name='Townsend, Marshall and Smith', Symbol='tmas', Open=87.01, High=87.01, Close=87.01, Weight=0.01755),\n",
       " Company(Name='Perry-Brady', Symbol='pb', Open=1318.22, High=1318.22, Close=1318.22, Weight=0.01834),\n",
       " Company(Name='Glenn, Ferrell and Oneill', Symbol='gfao', Open=865.09, High=907.0, Close=816.77, Weight=0.00933),\n",
       " Company(Name='Baker, Osborne and Gilbert', Symbol='boag', Open=1473.28, High=1473.28, Close=1394.09, Weight=0.01219)]"
      ]
     },
     "execution_count": 28,
     "metadata": {},
     "output_type": "execute_result"
    }
   ],
   "source": [
    "companies"
   ]
  },
  {
   "cell_type": "code",
   "execution_count": 33,
   "metadata": {},
   "outputs": [],
   "source": [
    "def get_index(num_companies: int) -> \"namedtuple\":\n",
    "  \"\"\"\n",
    "  Generates and gives the Index open, high and close of a \n",
    "  small stock exchange simulation of listed stocks.\n",
    "  input: num_companies, number of stocks in the exchange\n",
    "  output: namedtuple('INDEX', 'Index_Open Index_High Index_Close')\n",
    "  \"\"\"\n",
    "  companies = generate_companies(num_companies)\n",
    "  index_open = round(sum([_.Open * _.Weight for _ in companies]), 2)\n",
    "  index_high = round(sum([_.High * _.Weight for _ in companies]), 2)\n",
    "  index_close = round(sum([_.Close * _.Weight for _ in companies]), 2)\n",
    "  INDEX = namedtuple('INDEX', 'Index_Open Index_High Index_Close')\n",
    "  return INDEX(index_open, index_high, index_close)"
   ]
  },
  {
   "cell_type": "code",
   "execution_count": 34,
   "metadata": {},
   "outputs": [
    {
     "data": {
      "text/plain": [
       "INDEX(Index_Open=3435.85, Index_High=4307.94, Index_Close=3792.92)"
      ]
     },
     "execution_count": 34,
     "metadata": {},
     "output_type": "execute_result"
    }
   ],
   "source": [
    "get_index(100)"
   ]
  },
  {
   "cell_type": "code",
   "execution_count": null,
   "metadata": {},
   "outputs": [],
   "source": []
  }
 ],
 "metadata": {
  "kernelspec": {
   "display_name": "Python 3",
   "language": "python",
   "name": "python3"
  },
  "language_info": {
   "codemirror_mode": {
    "name": "ipython",
    "version": 3
   },
   "file_extension": ".py",
   "mimetype": "text/x-python",
   "name": "python",
   "nbconvert_exporter": "python",
   "pygments_lexer": "ipython3",
   "version": "3.7.4"
  }
 },
 "nbformat": 4,
 "nbformat_minor": 2
}
