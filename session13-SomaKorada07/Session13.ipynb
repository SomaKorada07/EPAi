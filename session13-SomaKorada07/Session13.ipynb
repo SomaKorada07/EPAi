{
 "cells": [
  {
   "cell_type": "code",
   "execution_count": 1,
   "metadata": {},
   "outputs": [],
   "source": [
    "from polygon import Polygon\n",
    "from polygonsequence import PolySeq"
   ]
  },
  {
   "cell_type": "code",
   "execution_count": 2,
   "metadata": {},
   "outputs": [],
   "source": [
    "p1 = Polygon(10, 15) # No. of edges: 10, circumradius: 15\n",
    "p2 = Polygon(10, 15) # No. of edges: 10, circumradius: 15\n",
    "p3 = Polygon(12, 25) # No. of edges: 12, circumradius: 25"
   ]
  },
  {
   "cell_type": "code",
   "execution_count": 3,
   "metadata": {},
   "outputs": [
    {
     "data": {
      "text/plain": [
       "Polygon class with 10 edges, 15 circumradius, 144.0 interior angle, 9.270509831248422 edge length, 14.265847744427303 apothem, 66.12584088290322 area and 92.70509831248421 perimeter"
      ]
     },
     "execution_count": 3,
     "metadata": {},
     "output_type": "execute_result"
    }
   ],
   "source": [
    "p1"
   ]
  },
  {
   "cell_type": "code",
   "execution_count": 4,
   "metadata": {},
   "outputs": [
    {
     "data": {
      "text/plain": [
       "Polygon class with 10 edges, 15 circumradius, 144.0 interior angle, 9.270509831248422 edge length, 14.265847744427303 apothem, 66.12584088290322 area and 92.70509831248421 perimeter"
      ]
     },
     "execution_count": 4,
     "metadata": {},
     "output_type": "execute_result"
    }
   ],
   "source": [
    "p2"
   ]
  },
  {
   "cell_type": "code",
   "execution_count": 5,
   "metadata": {},
   "outputs": [
    {
     "data": {
      "text/plain": [
       "Polygon class with 12 edges, 25 circumradius, 150.0 interior angle, 12.940952255126037 edge length, 24.148145657226706 apothem, 156.24999999999997 area and 155.29142706151245 perimeter"
      ]
     },
     "execution_count": 5,
     "metadata": {},
     "output_type": "execute_result"
    }
   ],
   "source": [
    "p3"
   ]
  },
  {
   "cell_type": "code",
   "execution_count": 6,
   "metadata": {},
   "outputs": [
    {
     "name": "stdout",
     "output_type": "stream",
     "text": [
      "Polygon P1\n",
      "Number of Vertices: 10\n",
      "Number of edges: 10\n",
      "Circumradius: 15\n",
      "Interior angle: 144.0\n",
      "Edge length: 9.270509831248422\n",
      "Apothem: 14.265847744427303\n",
      "Area: 66.12584088290322\n",
      "Perimeter: 92.70509831248421\n"
     ]
    }
   ],
   "source": [
    "print(\"Polygon P1\")\n",
    "print(f\"Number of Vertices: {p1._num_vertices}\")\n",
    "print(f\"Number of edges: {p1._num_edges}\")\n",
    "print(f\"Circumradius: {p1._circumradius}\")\n",
    "print(f\"Interior angle: {p1._int_angle}\")\n",
    "print(f\"Edge length: {p1._edge_len}\")\n",
    "print(f\"Apothem: {p1._apothem}\")\n",
    "print(f\"Area: {p1._area}\")\n",
    "print(f\"Perimeter: {p1._perimeter}\")"
   ]
  },
  {
   "cell_type": "code",
   "execution_count": 7,
   "metadata": {},
   "outputs": [
    {
     "data": {
      "text/plain": [
       "True"
      ]
     },
     "execution_count": 7,
     "metadata": {},
     "output_type": "execute_result"
    }
   ],
   "source": [
    "p1 == p2"
   ]
  },
  {
   "cell_type": "code",
   "execution_count": 8,
   "metadata": {},
   "outputs": [
    {
     "data": {
      "text/plain": [
       "False"
      ]
     },
     "execution_count": 8,
     "metadata": {},
     "output_type": "execute_result"
    }
   ],
   "source": [
    "p2 == p3"
   ]
  },
  {
   "cell_type": "code",
   "execution_count": 9,
   "metadata": {},
   "outputs": [
    {
     "data": {
      "text/plain": [
       "True"
      ]
     },
     "execution_count": 9,
     "metadata": {},
     "output_type": "execute_result"
    }
   ],
   "source": [
    "p3 > p1"
   ]
  },
  {
   "cell_type": "code",
   "execution_count": 10,
   "metadata": {},
   "outputs": [
    {
     "data": {
      "text/plain": [
       "True"
      ]
     },
     "execution_count": 10,
     "metadata": {},
     "output_type": "execute_result"
    }
   ],
   "source": [
    "p2 < p3"
   ]
  },
  {
   "cell_type": "markdown",
   "metadata": {},
   "source": [
    "Objective 2"
   ]
  },
  {
   "cell_type": "code",
   "execution_count": 11,
   "metadata": {},
   "outputs": [],
   "source": [
    "seq = PolySeq(25, 10)"
   ]
  },
  {
   "cell_type": "code",
   "execution_count": 12,
   "metadata": {},
   "outputs": [
    {
     "data": {
      "text/plain": [
       "23"
      ]
     },
     "execution_count": 12,
     "metadata": {},
     "output_type": "execute_result"
    }
   ],
   "source": [
    "len(seq)"
   ]
  },
  {
   "cell_type": "code",
   "execution_count": 13,
   "metadata": {},
   "outputs": [
    {
     "data": {
      "text/plain": [
       "Polygon class with 3 edges, 10 circumradius, 60.0 interior angle, 17.32050807568877 edge length, 5.000000000000001 apothem, 43.30127018922194 area and 51.96152422706631 perimeter"
      ]
     },
     "execution_count": 13,
     "metadata": {},
     "output_type": "execute_result"
    }
   ],
   "source": [
    "seq[0]"
   ]
  },
  {
   "cell_type": "code",
   "execution_count": 14,
   "metadata": {},
   "outputs": [
    {
     "data": {
      "text/plain": [
       "Polygon class with 25 edges, 10 circumradius, 165.6 interior angle, 2.506664671286085 edge length, 9.921147013144779 apothem, 12.434494358242741 area and 62.66661678215213 perimeter"
      ]
     },
     "execution_count": 14,
     "metadata": {},
     "output_type": "execute_result"
    }
   ],
   "source": [
    "seq[-1]"
   ]
  },
  {
   "cell_type": "code",
   "execution_count": 15,
   "metadata": {},
   "outputs": [
    {
     "data": {
      "text/plain": [
       "Polygon class with 4 edges, 10 circumradius, 90.0 interior angle, 14.142135623730951 edge length, 7.0710678118654755 apothem, 50.00000000000001 area and 56.568542494923804 perimeter"
      ]
     },
     "execution_count": 15,
     "metadata": {},
     "output_type": "execute_result"
    }
   ],
   "source": [
    "seq.max_eff_polygon"
   ]
  },
  {
   "cell_type": "code",
   "execution_count": 16,
   "metadata": {},
   "outputs": [
    {
     "data": {
      "text/plain": [
       "[Polygon class with 3 edges, 10 circumradius, 60.0 interior angle, 17.32050807568877 edge length, 5.000000000000001 apothem, 43.30127018922194 area and 51.96152422706631 perimeter,\n",
       " Polygon class with 4 edges, 10 circumradius, 90.0 interior angle, 14.142135623730951 edge length, 7.0710678118654755 apothem, 50.00000000000001 area and 56.568542494923804 perimeter,\n",
       " Polygon class with 5 edges, 10 circumradius, 108.0 interior angle, 11.755705045849464 edge length, 8.090169943749475 apothem, 47.55282581475768 area and 58.77852522924732 perimeter]"
      ]
     },
     "execution_count": 16,
     "metadata": {},
     "output_type": "execute_result"
    }
   ],
   "source": [
    "seq[:3]"
   ]
  },
  {
   "cell_type": "code",
   "execution_count": null,
   "metadata": {},
   "outputs": [],
   "source": []
  }
 ],
 "metadata": {
  "kernelspec": {
   "display_name": "Python 3",
   "language": "python",
   "name": "python3"
  },
  "language_info": {
   "codemirror_mode": {
    "name": "ipython",
    "version": 3
   },
   "file_extension": ".py",
   "mimetype": "text/x-python",
   "name": "python",
   "nbconvert_exporter": "python",
   "pygments_lexer": "ipython3",
   "version": "3.7.4"
  }
 },
 "nbformat": 4,
 "nbformat_minor": 4
}
