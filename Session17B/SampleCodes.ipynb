{
 "cells": [
  {
   "cell_type": "markdown",
   "metadata": {},
   "source": [
    "1."
   ]
  },
  {
   "cell_type": "code",
   "execution_count": 1,
   "metadata": {},
   "outputs": [
    {
     "name": "stdout",
     "output_type": "stream",
     "text": [
      "Sqaure: 25\n"
     ]
    }
   ],
   "source": [
    "# write a python program to find and print square of a number\n",
    "num = 5\n",
    "square = num ** 2\n",
    "print(f'Sqaure: {square}')"
   ]
  },
  {
   "cell_type": "markdown",
   "metadata": {},
   "source": [
    "2."
   ]
  },
  {
   "cell_type": "code",
   "execution_count": 12,
   "metadata": {},
   "outputs": [
    {
     "data": {
      "text/plain": [
       "25"
      ]
     },
     "execution_count": 12,
     "metadata": {},
     "output_type": "execute_result"
    }
   ],
   "source": [
    "# write a python program to find square of a number which user provides and return the square\n",
    "def square_number(num : 'userinput') -> square:\n",
    "    \"\"\"\n",
    "    to return the sqaure of a number given by user\n",
    "    \"\"\"\n",
    "    square = num ** 2\n",
    "    return square\n",
    "\n",
    "square_number(5)"
   ]
  },
  {
   "cell_type": "markdown",
   "metadata": {},
   "source": [
    "3."
   ]
  },
  {
   "cell_type": "code",
   "execution_count": 5,
   "metadata": {},
   "outputs": [
    {
     "data": {
      "text/plain": [
       "125"
      ]
     },
     "execution_count": 5,
     "metadata": {},
     "output_type": "execute_result"
    }
   ],
   "source": [
    "# write a python program to find power of a number which user provides and return the result\n",
    "def power_number(num, power):\n",
    "    result = num ** power\n",
    "    return result\n",
    "\n",
    "power_number(5, 3)"
   ]
  },
  {
   "cell_type": "markdown",
   "metadata": {},
   "source": [
    "4."
   ]
  },
  {
   "cell_type": "code",
   "execution_count": 13,
   "metadata": {},
   "outputs": [
    {
     "data": {
      "text/plain": [
       "True"
      ]
     },
     "execution_count": 13,
     "metadata": {},
     "output_type": "execute_result"
    }
   ],
   "source": [
    "# write a python program to check if the function is annotated\n",
    "def check_annotations(func_name):\n",
    "    if func_name.__annotations__:\n",
    "        return True\n",
    "    else:\n",
    "        return False\n",
    "    \n",
    "check_annotations(square_number)"
   ]
  },
  {
   "cell_type": "markdown",
   "metadata": {},
   "source": [
    "5."
   ]
  },
  {
   "cell_type": "code",
   "execution_count": 14,
   "metadata": {},
   "outputs": [
    {
     "data": {
      "text/plain": [
       "True"
      ]
     },
     "execution_count": 14,
     "metadata": {},
     "output_type": "execute_result"
    }
   ],
   "source": [
    "# write a python program to check if the function has docstrings\n",
    "def check_docstrings(func_name):\n",
    "    if func_name.__doc__:\n",
    "        return True\n",
    "    else:\n",
    "        return False\n",
    "    \n",
    "check_docstrings(square_number)"
   ]
  },
  {
   "cell_type": "markdown",
   "metadata": {},
   "source": [
    "6."
   ]
  },
  {
   "cell_type": "code",
   "execution_count": 19,
   "metadata": {},
   "outputs": [
    {
     "ename": "AssertionError",
     "evalue": "File is missing!",
     "output_type": "error",
     "traceback": [
      "\u001b[1;31m---------------------------------------------------------------------------\u001b[0m",
      "\u001b[1;31mAssertionError\u001b[0m                            Traceback (most recent call last)",
      "\u001b[1;32m<ipython-input-19-8e85ce5b4829>\u001b[0m in \u001b[0;36m<module>\u001b[1;34m\u001b[0m\n\u001b[0;32m      4\u001b[0m     \u001b[1;32massert\u001b[0m \u001b[0mos\u001b[0m\u001b[1;33m.\u001b[0m\u001b[0mpath\u001b[0m\u001b[1;33m.\u001b[0m\u001b[0misfile\u001b[0m\u001b[1;33m(\u001b[0m\u001b[1;34m\"tweets1.csv\"\u001b[0m\u001b[1;33m)\u001b[0m\u001b[1;33m,\u001b[0m \u001b[1;34m\"File is missing!\"\u001b[0m\u001b[1;33m\u001b[0m\u001b[1;33m\u001b[0m\u001b[0m\n\u001b[0;32m      5\u001b[0m \u001b[1;33m\u001b[0m\u001b[0m\n\u001b[1;32m----> 6\u001b[1;33m \u001b[0mfile_exists\u001b[0m\u001b[1;33m(\u001b[0m\u001b[1;33m)\u001b[0m\u001b[1;33m\u001b[0m\u001b[1;33m\u001b[0m\u001b[0m\n\u001b[0m",
      "\u001b[1;32m<ipython-input-19-8e85ce5b4829>\u001b[0m in \u001b[0;36mfile_exists\u001b[1;34m()\u001b[0m\n\u001b[0;32m      2\u001b[0m \u001b[1;32mimport\u001b[0m \u001b[0mos\u001b[0m\u001b[1;33m\u001b[0m\u001b[1;33m\u001b[0m\u001b[0m\n\u001b[0;32m      3\u001b[0m \u001b[1;32mdef\u001b[0m \u001b[0mfile_exists\u001b[0m\u001b[1;33m(\u001b[0m\u001b[1;33m)\u001b[0m\u001b[1;33m:\u001b[0m\u001b[1;33m\u001b[0m\u001b[1;33m\u001b[0m\u001b[0m\n\u001b[1;32m----> 4\u001b[1;33m     \u001b[1;32massert\u001b[0m \u001b[0mos\u001b[0m\u001b[1;33m.\u001b[0m\u001b[0mpath\u001b[0m\u001b[1;33m.\u001b[0m\u001b[0misfile\u001b[0m\u001b[1;33m(\u001b[0m\u001b[1;34m\"tweets1.csv\"\u001b[0m\u001b[1;33m)\u001b[0m\u001b[1;33m,\u001b[0m \u001b[1;34m\"File is missing!\"\u001b[0m\u001b[1;33m\u001b[0m\u001b[1;33m\u001b[0m\u001b[0m\n\u001b[0m\u001b[0;32m      5\u001b[0m \u001b[1;33m\u001b[0m\u001b[0m\n\u001b[0;32m      6\u001b[0m \u001b[0mfile_exists\u001b[0m\u001b[1;33m(\u001b[0m\u001b[1;33m)\u001b[0m\u001b[1;33m\u001b[0m\u001b[1;33m\u001b[0m\u001b[0m\n",
      "\u001b[1;31mAssertionError\u001b[0m: File is missing!"
     ]
    }
   ],
   "source": [
    "# write a python program to check if a file exists\n",
    "import os\n",
    "\n",
    "def file_exists():\n",
    "    assert os.path.isfile(\"tweets1.csv\"), \"File is missing!\"\n",
    "\n",
    "file_exists()"
   ]
  },
  {
   "cell_type": "markdown",
   "metadata": {},
   "source": [
    "7."
   ]
  },
  {
   "cell_type": "code",
   "execution_count": 23,
   "metadata": {},
   "outputs": [
    {
     "ename": "AssertionError",
     "evalue": "File is missing!",
     "output_type": "error",
     "traceback": [
      "\u001b[1;31m---------------------------------------------------------------------------\u001b[0m",
      "\u001b[1;31mAssertionError\u001b[0m                            Traceback (most recent call last)",
      "\u001b[1;32m<ipython-input-23-36abab30323c>\u001b[0m in \u001b[0;36m<module>\u001b[1;34m\u001b[0m\n\u001b[0;32m      4\u001b[0m     \u001b[1;32massert\u001b[0m \u001b[0mos\u001b[0m\u001b[1;33m.\u001b[0m\u001b[0mpath\u001b[0m\u001b[1;33m.\u001b[0m\u001b[0misfile\u001b[0m\u001b[1;33m(\u001b[0m\u001b[0mfile_name\u001b[0m\u001b[1;33m)\u001b[0m\u001b[1;33m,\u001b[0m \u001b[1;34m\"File is missing!\"\u001b[0m\u001b[1;33m\u001b[0m\u001b[1;33m\u001b[0m\u001b[0m\n\u001b[0;32m      5\u001b[0m \u001b[1;33m\u001b[0m\u001b[0m\n\u001b[1;32m----> 6\u001b[1;33m \u001b[0muser_file_exists\u001b[0m\u001b[1;33m(\u001b[0m\u001b[1;34m\"tweets1.csv\"\u001b[0m\u001b[1;33m)\u001b[0m\u001b[1;33m\u001b[0m\u001b[1;33m\u001b[0m\u001b[0m\n\u001b[0m",
      "\u001b[1;32m<ipython-input-23-36abab30323c>\u001b[0m in \u001b[0;36muser_file_exists\u001b[1;34m(file_name)\u001b[0m\n\u001b[0;32m      2\u001b[0m \u001b[1;32mimport\u001b[0m \u001b[0mos\u001b[0m\u001b[1;33m\u001b[0m\u001b[1;33m\u001b[0m\u001b[0m\n\u001b[0;32m      3\u001b[0m \u001b[1;32mdef\u001b[0m \u001b[0muser_file_exists\u001b[0m\u001b[1;33m(\u001b[0m\u001b[0mfile_name\u001b[0m\u001b[1;33m)\u001b[0m\u001b[1;33m:\u001b[0m\u001b[1;33m\u001b[0m\u001b[1;33m\u001b[0m\u001b[0m\n\u001b[1;32m----> 4\u001b[1;33m     \u001b[1;32massert\u001b[0m \u001b[0mos\u001b[0m\u001b[1;33m.\u001b[0m\u001b[0mpath\u001b[0m\u001b[1;33m.\u001b[0m\u001b[0misfile\u001b[0m\u001b[1;33m(\u001b[0m\u001b[0mfile_name\u001b[0m\u001b[1;33m)\u001b[0m\u001b[1;33m,\u001b[0m \u001b[1;34m\"File is missing!\"\u001b[0m\u001b[1;33m\u001b[0m\u001b[1;33m\u001b[0m\u001b[0m\n\u001b[0m\u001b[0;32m      5\u001b[0m \u001b[1;33m\u001b[0m\u001b[0m\n\u001b[0;32m      6\u001b[0m \u001b[0muser_file_exists\u001b[0m\u001b[1;33m(\u001b[0m\u001b[1;34m\"tweets1.csv\"\u001b[0m\u001b[1;33m)\u001b[0m\u001b[1;33m\u001b[0m\u001b[1;33m\u001b[0m\u001b[0m\n",
      "\u001b[1;31mAssertionError\u001b[0m: File is missing!"
     ]
    }
   ],
   "source": [
    "# write a python program to check if a file given by user exists\n",
    "import os\n",
    "\n",
    "def user_file_exists(file_name):\n",
    "    assert os.path.isfile(file_name), \"File is missing!\"\n",
    "\n",
    "user_file_exists(\"tweets1.csv\")"
   ]
  },
  {
   "cell_type": "markdown",
   "metadata": {},
   "source": [
    "8."
   ]
  },
  {
   "cell_type": "code",
   "execution_count": 28,
   "metadata": {},
   "outputs": [
    {
     "data": {
      "text/plain": [
       "225"
      ]
     },
     "execution_count": 28,
     "metadata": {},
     "output_type": "execute_result"
    }
   ],
   "source": [
    "# write a python program to print the length of a file\n",
    "def file_length():\n",
    "    file = open(\"polygon.py\", \"r\")\n",
    "    file_words = file.read().split()\n",
    "    file.close()\n",
    "    return len(file_words)\n",
    "\n",
    "file_length()"
   ]
  },
  {
   "cell_type": "markdown",
   "metadata": {},
   "source": [
    "9."
   ]
  },
  {
   "cell_type": "code",
   "execution_count": 29,
   "metadata": {},
   "outputs": [
    {
     "data": {
      "text/plain": [
       "225"
      ]
     },
     "execution_count": 29,
     "metadata": {},
     "output_type": "execute_result"
    }
   ],
   "source": [
    "# write a python program to print the length of a file user has provided\n",
    "def user_file_length(file_name):\n",
    "    file = open(file_name, \"r\")\n",
    "    file_words = file.read().split()\n",
    "    file.close()\n",
    "    return len(file_words)\n",
    "\n",
    "user_file_length(\"polygon.py\")"
   ]
  },
  {
   "cell_type": "markdown",
   "metadata": {},
   "source": [
    "10."
   ]
  },
  {
   "cell_type": "code",
   "execution_count": 27,
   "metadata": {},
   "outputs": [
    {
     "data": {
      "text/plain": [
       "['\"\"\"',\n",
       " 'polygon.py',\n",
       " '\"\"\"',\n",
       " 'import',\n",
       " 'math',\n",
       " 'class',\n",
       " 'Polygon():',\n",
       " 'def',\n",
       " '__init__(self,',\n",
       " 'num_edges,',\n",
       " 'circumradius):',\n",
       " 'self.circumradius',\n",
       " '=',\n",
       " 'circumradius',\n",
       " 'self.num_edges',\n",
       " '=',\n",
       " 'num_edges',\n",
       " '@property',\n",
       " 'def',\n",
       " 'circumradius(self):',\n",
       " 'return',\n",
       " 'self._circumradius',\n",
       " '@circumradius.setter',\n",
       " 'def',\n",
       " 'circumradius(self,',\n",
       " 'circumradius):',\n",
       " 'self._circumradius',\n",
       " '=',\n",
       " 'circumradius',\n",
       " '@property',\n",
       " 'def',\n",
       " 'num_edges(self):',\n",
       " 'return',\n",
       " 'self._num_edges',\n",
       " '@property',\n",
       " 'def',\n",
       " 'num_vertices(self):',\n",
       " 'if',\n",
       " 'self._num_vertices',\n",
       " 'is',\n",
       " 'None:',\n",
       " 'self._num_vertices',\n",
       " '=',\n",
       " 'self.num_edges',\n",
       " 'return',\n",
       " 'self._num_vertices',\n",
       " '@property',\n",
       " 'def',\n",
       " 'int_angle(self):',\n",
       " 'if',\n",
       " 'self._int_angle',\n",
       " 'is',\n",
       " 'None:',\n",
       " 'self._int_angle',\n",
       " '=',\n",
       " '(self.num_edges',\n",
       " '-',\n",
       " '2)',\n",
       " '*',\n",
       " '(180',\n",
       " '/',\n",
       " 'self.num_edges)',\n",
       " 'return',\n",
       " 'self._int_angle',\n",
       " '@property',\n",
       " 'def',\n",
       " 'edge_len(self):',\n",
       " 'if',\n",
       " 'self._edge_len',\n",
       " 'is',\n",
       " 'None:',\n",
       " 'self._edge_len',\n",
       " '=',\n",
       " '2',\n",
       " '*',\n",
       " 'self.circumradius',\n",
       " '*',\n",
       " 'math.sin(math.pi',\n",
       " '/',\n",
       " 'self.num_edges)',\n",
       " 'return',\n",
       " 'self._edge_len',\n",
       " '@property',\n",
       " 'def',\n",
       " 'apothem(self):',\n",
       " 'if',\n",
       " 'self._apothem',\n",
       " 'is',\n",
       " 'None:',\n",
       " 'self._apothem',\n",
       " '=',\n",
       " 'self.circumradius',\n",
       " '*',\n",
       " 'math.cos(math.pi',\n",
       " '/',\n",
       " 'self.num_edges)',\n",
       " 'return',\n",
       " 'self._apothem',\n",
       " '@property',\n",
       " 'def',\n",
       " 'area(self):',\n",
       " 'if',\n",
       " 'self._area',\n",
       " 'is',\n",
       " 'None:',\n",
       " 'self._area',\n",
       " '=',\n",
       " '0.5',\n",
       " '*',\n",
       " 'self.edge_len',\n",
       " '*',\n",
       " 'self.apothem',\n",
       " 'return',\n",
       " 'self._area',\n",
       " '@property',\n",
       " 'def',\n",
       " 'perimeter(self):',\n",
       " 'if',\n",
       " 'self._perimeter',\n",
       " 'is',\n",
       " 'None:',\n",
       " 'self._perimeter',\n",
       " '=',\n",
       " 'self.num_edges',\n",
       " '*',\n",
       " 'self.edge_len',\n",
       " 'return',\n",
       " 'self._perimeter',\n",
       " '@num_edges.setter',\n",
       " 'def',\n",
       " 'num_edges(self,',\n",
       " 'num_edges):',\n",
       " 'if(num_edges',\n",
       " '<',\n",
       " '3):',\n",
       " 'raise',\n",
       " 'ValueError(\"Edge',\n",
       " 'should',\n",
       " 'be',\n",
       " 'greater',\n",
       " 'than',\n",
       " '3!\")',\n",
       " 'else:',\n",
       " 'self._num_edges',\n",
       " '=',\n",
       " 'num_edges',\n",
       " 'self._num_vertices',\n",
       " '=',\n",
       " 'None',\n",
       " 'self._int_angle',\n",
       " '=',\n",
       " 'None',\n",
       " 'self._edge_len',\n",
       " '=',\n",
       " 'None',\n",
       " 'self._apothem',\n",
       " '=',\n",
       " 'None',\n",
       " 'self._area',\n",
       " '=',\n",
       " 'None',\n",
       " 'self._perimeter',\n",
       " '=',\n",
       " 'None',\n",
       " 'def',\n",
       " '__repr__(self):',\n",
       " 'return',\n",
       " 'f\"Polygon',\n",
       " 'class',\n",
       " 'with',\n",
       " '{self.num_edges}',\n",
       " 'edges,',\n",
       " '{self.circumradius}',\n",
       " 'circumradius,',\n",
       " '{self.int_angle}',\n",
       " 'interior',\n",
       " 'angle,',\n",
       " '{self.edge_len}',\n",
       " 'edge',\n",
       " 'length,',\n",
       " '{self.apothem}',\n",
       " 'apothem,',\n",
       " '{self.area}',\n",
       " 'area',\n",
       " 'and',\n",
       " '{self.perimeter}',\n",
       " 'perimeter\"',\n",
       " 'def',\n",
       " '__eq__(self,',\n",
       " 'polygon2):',\n",
       " 'if',\n",
       " 'type(polygon2)',\n",
       " 'is',\n",
       " 'not',\n",
       " 'Polygon:',\n",
       " 'raise',\n",
       " 'TypeError(\"Expected',\n",
       " 'type',\n",
       " 'of',\n",
       " 'Polygon.\")',\n",
       " 'return',\n",
       " '(self.num_vertices',\n",
       " '==',\n",
       " 'polygon2.num_vertices',\n",
       " 'and',\n",
       " 'self.circumradius',\n",
       " '==',\n",
       " 'polygon2.circumradius)',\n",
       " 'def',\n",
       " '__gt__(self,',\n",
       " 'polygon2):',\n",
       " 'if',\n",
       " 'type(polygon2)',\n",
       " 'is',\n",
       " 'not',\n",
       " 'Polygon:',\n",
       " 'raise',\n",
       " 'TypeError(\"Expected',\n",
       " 'type',\n",
       " 'of',\n",
       " 'Polygon.\")',\n",
       " 'return',\n",
       " '(self.num_vertices',\n",
       " '>',\n",
       " 'polygon2.num_vertices)']"
      ]
     },
     "execution_count": 27,
     "metadata": {},
     "output_type": "execute_result"
    }
   ],
   "source": [
    "# write a python program to print the contents of a file\n",
    "def file_contents():\n",
    "    file = open(\"polygon.py\", \"r\")\n",
    "    file_words = file.read().split()\n",
    "    file.close()\n",
    "    return file_words\n",
    "\n",
    "file_contents()"
   ]
  },
  {
   "cell_type": "markdown",
   "metadata": {},
   "source": [
    "11."
   ]
  },
  {
   "cell_type": "code",
   "execution_count": 30,
   "metadata": {},
   "outputs": [
    {
     "data": {
      "text/plain": [
       "['\"\"\"',\n",
       " 'polygon.py',\n",
       " '\"\"\"',\n",
       " 'import',\n",
       " 'math',\n",
       " 'class',\n",
       " 'Polygon():',\n",
       " 'def',\n",
       " '__init__(self,',\n",
       " 'num_edges,',\n",
       " 'circumradius):',\n",
       " 'self.circumradius',\n",
       " '=',\n",
       " 'circumradius',\n",
       " 'self.num_edges',\n",
       " '=',\n",
       " 'num_edges',\n",
       " '@property',\n",
       " 'def',\n",
       " 'circumradius(self):',\n",
       " 'return',\n",
       " 'self._circumradius',\n",
       " '@circumradius.setter',\n",
       " 'def',\n",
       " 'circumradius(self,',\n",
       " 'circumradius):',\n",
       " 'self._circumradius',\n",
       " '=',\n",
       " 'circumradius',\n",
       " '@property',\n",
       " 'def',\n",
       " 'num_edges(self):',\n",
       " 'return',\n",
       " 'self._num_edges',\n",
       " '@property',\n",
       " 'def',\n",
       " 'num_vertices(self):',\n",
       " 'if',\n",
       " 'self._num_vertices',\n",
       " 'is',\n",
       " 'None:',\n",
       " 'self._num_vertices',\n",
       " '=',\n",
       " 'self.num_edges',\n",
       " 'return',\n",
       " 'self._num_vertices',\n",
       " '@property',\n",
       " 'def',\n",
       " 'int_angle(self):',\n",
       " 'if',\n",
       " 'self._int_angle',\n",
       " 'is',\n",
       " 'None:',\n",
       " 'self._int_angle',\n",
       " '=',\n",
       " '(self.num_edges',\n",
       " '-',\n",
       " '2)',\n",
       " '*',\n",
       " '(180',\n",
       " '/',\n",
       " 'self.num_edges)',\n",
       " 'return',\n",
       " 'self._int_angle',\n",
       " '@property',\n",
       " 'def',\n",
       " 'edge_len(self):',\n",
       " 'if',\n",
       " 'self._edge_len',\n",
       " 'is',\n",
       " 'None:',\n",
       " 'self._edge_len',\n",
       " '=',\n",
       " '2',\n",
       " '*',\n",
       " 'self.circumradius',\n",
       " '*',\n",
       " 'math.sin(math.pi',\n",
       " '/',\n",
       " 'self.num_edges)',\n",
       " 'return',\n",
       " 'self._edge_len',\n",
       " '@property',\n",
       " 'def',\n",
       " 'apothem(self):',\n",
       " 'if',\n",
       " 'self._apothem',\n",
       " 'is',\n",
       " 'None:',\n",
       " 'self._apothem',\n",
       " '=',\n",
       " 'self.circumradius',\n",
       " '*',\n",
       " 'math.cos(math.pi',\n",
       " '/',\n",
       " 'self.num_edges)',\n",
       " 'return',\n",
       " 'self._apothem',\n",
       " '@property',\n",
       " 'def',\n",
       " 'area(self):',\n",
       " 'if',\n",
       " 'self._area',\n",
       " 'is',\n",
       " 'None:',\n",
       " 'self._area',\n",
       " '=',\n",
       " '0.5',\n",
       " '*',\n",
       " 'self.edge_len',\n",
       " '*',\n",
       " 'self.apothem',\n",
       " 'return',\n",
       " 'self._area',\n",
       " '@property',\n",
       " 'def',\n",
       " 'perimeter(self):',\n",
       " 'if',\n",
       " 'self._perimeter',\n",
       " 'is',\n",
       " 'None:',\n",
       " 'self._perimeter',\n",
       " '=',\n",
       " 'self.num_edges',\n",
       " '*',\n",
       " 'self.edge_len',\n",
       " 'return',\n",
       " 'self._perimeter',\n",
       " '@num_edges.setter',\n",
       " 'def',\n",
       " 'num_edges(self,',\n",
       " 'num_edges):',\n",
       " 'if(num_edges',\n",
       " '<',\n",
       " '3):',\n",
       " 'raise',\n",
       " 'ValueError(\"Edge',\n",
       " 'should',\n",
       " 'be',\n",
       " 'greater',\n",
       " 'than',\n",
       " '3!\")',\n",
       " 'else:',\n",
       " 'self._num_edges',\n",
       " '=',\n",
       " 'num_edges',\n",
       " 'self._num_vertices',\n",
       " '=',\n",
       " 'None',\n",
       " 'self._int_angle',\n",
       " '=',\n",
       " 'None',\n",
       " 'self._edge_len',\n",
       " '=',\n",
       " 'None',\n",
       " 'self._apothem',\n",
       " '=',\n",
       " 'None',\n",
       " 'self._area',\n",
       " '=',\n",
       " 'None',\n",
       " 'self._perimeter',\n",
       " '=',\n",
       " 'None',\n",
       " 'def',\n",
       " '__repr__(self):',\n",
       " 'return',\n",
       " 'f\"Polygon',\n",
       " 'class',\n",
       " 'with',\n",
       " '{self.num_edges}',\n",
       " 'edges,',\n",
       " '{self.circumradius}',\n",
       " 'circumradius,',\n",
       " '{self.int_angle}',\n",
       " 'interior',\n",
       " 'angle,',\n",
       " '{self.edge_len}',\n",
       " 'edge',\n",
       " 'length,',\n",
       " '{self.apothem}',\n",
       " 'apothem,',\n",
       " '{self.area}',\n",
       " 'area',\n",
       " 'and',\n",
       " '{self.perimeter}',\n",
       " 'perimeter\"',\n",
       " 'def',\n",
       " '__eq__(self,',\n",
       " 'polygon2):',\n",
       " 'if',\n",
       " 'type(polygon2)',\n",
       " 'is',\n",
       " 'not',\n",
       " 'Polygon:',\n",
       " 'raise',\n",
       " 'TypeError(\"Expected',\n",
       " 'type',\n",
       " 'of',\n",
       " 'Polygon.\")',\n",
       " 'return',\n",
       " '(self.num_vertices',\n",
       " '==',\n",
       " 'polygon2.num_vertices',\n",
       " 'and',\n",
       " 'self.circumradius',\n",
       " '==',\n",
       " 'polygon2.circumradius)',\n",
       " 'def',\n",
       " '__gt__(self,',\n",
       " 'polygon2):',\n",
       " 'if',\n",
       " 'type(polygon2)',\n",
       " 'is',\n",
       " 'not',\n",
       " 'Polygon:',\n",
       " 'raise',\n",
       " 'TypeError(\"Expected',\n",
       " 'type',\n",
       " 'of',\n",
       " 'Polygon.\")',\n",
       " 'return',\n",
       " '(self.num_vertices',\n",
       " '>',\n",
       " 'polygon2.num_vertices)']"
      ]
     },
     "execution_count": 30,
     "metadata": {},
     "output_type": "execute_result"
    }
   ],
   "source": [
    "# write a python program to print the contents of a file user has provided\n",
    "def user_file_contents(file_name):\n",
    "    file = open(file_name, \"r\")\n",
    "    file_words = file.read().split()\n",
    "    file.close()\n",
    "    return file_words\n",
    "\n",
    "user_file_contents(\"polygon.py\")"
   ]
  },
  {
   "cell_type": "markdown",
   "metadata": {},
   "source": [
    "12."
   ]
  },
  {
   "cell_type": "code",
   "execution_count": 31,
   "metadata": {},
   "outputs": [
    {
     "data": {
      "text/plain": [
       "True"
      ]
     },
     "execution_count": 31,
     "metadata": {},
     "output_type": "execute_result"
    }
   ],
   "source": [
    "# write a python program to check if a list of words are present in a file\n",
    "words = [\"class\", \"circumradius\", \"num_edges\"]\n",
    "def check_words_in_file():\n",
    "    check = True\n",
    "    f = open(\"polygon.py\", \"r\")\n",
    "    content = f.read()\n",
    "    f.close()\n",
    "    for c in words:\n",
    "        if c not in content:\n",
    "            check = False\n",
    "            pass\n",
    "    return check\n",
    "\n",
    "check_words_in_file()"
   ]
  },
  {
   "cell_type": "markdown",
   "metadata": {},
   "source": [
    "13."
   ]
  },
  {
   "cell_type": "code",
   "execution_count": 33,
   "metadata": {},
   "outputs": [
    {
     "data": {
      "text/plain": [
       "True"
      ]
     },
     "execution_count": 33,
     "metadata": {},
     "output_type": "execute_result"
    }
   ],
   "source": [
    "# write a python program to check if a list of words provided by user are present in a file provided by user\n",
    "def check_words_in_file(file_name, words_list):\n",
    "    check = True\n",
    "    f = open(file_name, \"r\")\n",
    "    content = f.read()\n",
    "    f.close()\n",
    "    for c in words_list:\n",
    "        if c not in content:\n",
    "            check = False\n",
    "            pass\n",
    "    return check\n",
    "\n",
    "words = [\"class\", \"circumradius\", \"num_edges\"]\n",
    "check_words_in_file(\"polygon.py\", words)"
   ]
  },
  {
   "cell_type": "markdown",
   "metadata": {},
   "source": [
    "14."
   ]
  },
  {
   "cell_type": "code",
   "execution_count": 112,
   "metadata": {},
   "outputs": [
    {
     "data": {
      "text/plain": [
       "'Not Found'"
      ]
     },
     "execution_count": 112,
     "metadata": {},
     "output_type": "execute_result"
    }
   ],
   "source": [
    "# write a python program to find the index of the element (indexed from 1) provided by user in a list provided by user\n",
    "def find_index(user_list, element):\n",
    "    match = None\n",
    "    for i, j in enumerate(user_list):\n",
    "        if element == j:\n",
    "            match = i + 1\n",
    "    \n",
    "    if not match:\n",
    "        return \"Not Found\"\n",
    "    else:\n",
    "        return match\n",
    "\n",
    "user_list = [1, 2, 3, 4, 5]\n",
    "element = 40\n",
    "find_index(user_list, element)    "
   ]
  },
  {
   "cell_type": "markdown",
   "metadata": {},
   "source": [
    "15."
   ]
  },
  {
   "cell_type": "code",
   "execution_count": 61,
   "metadata": {},
   "outputs": [
    {
     "data": {
      "text/plain": [
       "['1-a', '2-b', '3-c', '4-d']"
      ]
     },
     "execution_count": 61,
     "metadata": {},
     "output_type": "execute_result"
    }
   ],
   "source": [
    "# write a python program to combine two lists with a custom delimiter provided by the user\n",
    "def combine_lists(list1, list2, delimiter):\n",
    "    return [str(i) + delimiter + str(j) for i, j in zip(list1, list2)] \n",
    "\n",
    "list1 = [1, 2, 3, 4]\n",
    "list2 = ['a', 'b', 'c', 'd', 'e']\n",
    "delimiter = '-'\n",
    "combine_lists(list1, list2, delimiter)"
   ]
  },
  {
   "cell_type": "markdown",
   "metadata": {},
   "source": [
    "16."
   ]
  },
  {
   "cell_type": "code",
   "execution_count": 63,
   "metadata": {},
   "outputs": [
    {
     "data": {
      "text/plain": [
       "True"
      ]
     },
     "execution_count": 63,
     "metadata": {},
     "output_type": "execute_result"
    }
   ],
   "source": [
    "# write a python program to check if all elements of a list are present in another list\n",
    "def check_sub_list(sub_list, complete_list):\n",
    "    return all(item in complete_list for item in sub_list)\n",
    "\n",
    "list1 = ['a', 'b', 'c', 'd', 'e']\n",
    "list2 = ['a', 'b', 'c', 'd', 'e']\n",
    "check_sub_list(list1, list2)"
   ]
  },
  {
   "cell_type": "markdown",
   "metadata": {},
   "source": [
    "17."
   ]
  },
  {
   "cell_type": "code",
   "execution_count": 68,
   "metadata": {},
   "outputs": [
    {
     "data": {
      "text/plain": [
       "False"
      ]
     },
     "execution_count": 68,
     "metadata": {},
     "output_type": "execute_result"
    }
   ],
   "source": [
    "# write a python program to check if at least one element of a list are present in another list\n",
    "def check_sub_list(sub_list, complete_list):\n",
    "    return any(item in complete_list for item in sub_list)\n",
    "\n",
    "list1 = ['x']\n",
    "list2 = ['a', 'b', 'c', 'd', 'e']\n",
    "check_sub_list(list1, list2)"
   ]
  },
  {
   "cell_type": "markdown",
   "metadata": {},
   "source": [
    "18."
   ]
  },
  {
   "cell_type": "code",
   "execution_count": 111,
   "metadata": {},
   "outputs": [
    {
     "data": {
      "text/plain": [
       "['a', 'b', 'c', 'soma', 'd', 'e']"
      ]
     },
     "execution_count": 111,
     "metadata": {},
     "output_type": "execute_result"
    }
   ],
   "source": [
    "# write a python program to insert an element provided by user at the index (starting at 0) provided by user to a list provided by user\n",
    "def insert_element(user_list, element, index):\n",
    "    user_list.insert(index, element)\n",
    "    return user_list\n",
    "\n",
    "user_list = ['a', 'b', 'c', 'd', 'e']\n",
    "element = 'soma'\n",
    "index = 3\n",
    "insert_element(user_list, element, index)"
   ]
  },
  {
   "cell_type": "markdown",
   "metadata": {},
   "source": [
    "19."
   ]
  },
  {
   "cell_type": "code",
   "execution_count": 109,
   "metadata": {},
   "outputs": [
    {
     "data": {
      "text/plain": [
       "{'a': 3, 'b': 3, 'c': 3, 'd': 2, 'e': 2, 'z': 1}"
      ]
     },
     "execution_count": 109,
     "metadata": {},
     "output_type": "execute_result"
    }
   ],
   "source": [
    "# write a python program to return number of times each element in the list is repeated\n",
    "def count_element_repeated(list):\n",
    "    result = dict()\n",
    "    for i, j in enumerate(list):\n",
    "        if result and j in result.keys():\n",
    "            result[j] += 1\n",
    "        else:\n",
    "            result[j] = 1\n",
    "    return result\n",
    "\n",
    "user_list = ['a', 'b', 'c', 'd', 'e', 'a', 'b', 'c', 'd', 'e', 'a', 'b', 'c', 'z']\n",
    "count_element_repeated(user_list)"
   ]
  },
  {
   "cell_type": "markdown",
   "metadata": {},
   "source": [
    "20."
   ]
  },
  {
   "cell_type": "code",
   "execution_count": 115,
   "metadata": {},
   "outputs": [
    {
     "data": {
      "text/plain": [
       "['b', 'c', 'd', 'e', 'b', 'c', 'd', 'e', 'b', 'c', 'z']"
      ]
     },
     "execution_count": 115,
     "metadata": {},
     "output_type": "execute_result"
    }
   ],
   "source": [
    "# write a python program to remove a specific element provided by user from the list provided by user\n",
    "def remove_element(user_list, element):\n",
    "    user_list = list(filter(lambda x: x != element, user_list))\n",
    "    return user_list\n",
    "\n",
    "user_list = ['a', 'b', 'c', 'd', 'e', 'a', 'b', 'c', 'd', 'e', 'a', 'b', 'c', 'z']\n",
    "remove_element(user_list, 'a')"
   ]
  },
  {
   "cell_type": "markdown",
   "metadata": {},
   "source": [
    "21."
   ]
  },
  {
   "cell_type": "code",
   "execution_count": 118,
   "metadata": {},
   "outputs": [
    {
     "data": {
      "text/plain": [
       "['a', 'b', 'z', 'c', 'd', 'e']"
      ]
     },
     "execution_count": 118,
     "metadata": {},
     "output_type": "execute_result"
    }
   ],
   "source": [
    "# write a python program to return unique elements in a list provided by user\n",
    "def unique_elements(user_list):\n",
    "    return list(set(user_list))\n",
    "\n",
    "user_list = ['a', 'b', 'c', 'd', 'e', 'a', 'b', 'c', 'd', 'e', 'a', 'b', 'c', 'z']\n",
    "unique_elements(user_list)"
   ]
  },
  {
   "cell_type": "markdown",
   "metadata": {},
   "source": [
    "22."
   ]
  },
  {
   "cell_type": "code",
   "execution_count": 119,
   "metadata": {},
   "outputs": [
    {
     "data": {
      "text/plain": [
       "2500.0"
      ]
     },
     "execution_count": 119,
     "metadata": {},
     "output_type": "execute_result"
    }
   ],
   "source": [
    "# write a python program to calculate Simple Interest for the values provided by user\n",
    "def calculate_simple_interest(principle, time_period, rate):\n",
    "    return principle * time_period * rate / 100\n",
    "\n",
    "principle = 10000\n",
    "time_period = 5\n",
    "rate = 5\n",
    "calculate_simple_interest(principle, time_period, rate)"
   ]
  },
  {
   "cell_type": "markdown",
   "metadata": {},
   "source": [
    "23."
   ]
  },
  {
   "cell_type": "code",
   "execution_count": 122,
   "metadata": {},
   "outputs": [
    {
     "data": {
      "text/plain": [
       "6488.848034974573"
      ]
     },
     "execution_count": 122,
     "metadata": {},
     "output_type": "execute_result"
    }
   ],
   "source": [
    "# write a python program to calculate Compound Interest for the values provided by user\n",
    "def calculate_compound_interest(principle, time_period, rate):\n",
    "    return (principle * (pow((1 + rate / 100), time_period)) - principle)\n",
    "\n",
    "principle = 10000\n",
    "time_period = 10.25\n",
    "rate = 5\n",
    "calculate_compound_interest(principle, time_period, rate)"
   ]
  },
  {
   "cell_type": "markdown",
   "metadata": {},
   "source": [
    "24."
   ]
  },
  {
   "cell_type": "code",
   "execution_count": 205,
   "metadata": {},
   "outputs": [
    {
     "data": {
      "text/plain": [
       "[11, 13, 17, 19, 23]"
      ]
     },
     "execution_count": 205,
     "metadata": {},
     "output_type": "execute_result"
    }
   ],
   "source": [
    "# write a python program to print all prime numbers in an interval provided by user\n",
    "def prime_numbers(start, end):\n",
    "    prime = []\n",
    "    for i in range(start, end):\n",
    "        if i > 1:\n",
    "            for j in range(2, i):\n",
    "                if(i % j == 0):\n",
    "                    break\n",
    "            else:\n",
    "                prime.append(i)\n",
    "    return prime\n",
    "            \n",
    "prime_numbers(11, 25)"
   ]
  },
  {
   "cell_type": "markdown",
   "metadata": {},
   "source": [
    "25."
   ]
  },
  {
   "cell_type": "code",
   "execution_count": 126,
   "metadata": {},
   "outputs": [
    {
     "data": {
      "text/plain": [
       "False"
      ]
     },
     "execution_count": 126,
     "metadata": {},
     "output_type": "execute_result"
    }
   ],
   "source": [
    "# write a python program to check if an array provided by user is monotonic\n",
    "def isMonotonic(user_array): \n",
    "    return (all(user_array[i] <= user_array[i + 1] for i in range(len(user_array) - 1)) or\n",
    "            all(user_array[i] >= user_array[i + 1] for i in range(len(user_array) - 1)))\n",
    "\n",
    "user_array = [6, 5, 4, 7]\n",
    "isMonotonic(user_array)"
   ]
  },
  {
   "cell_type": "markdown",
   "metadata": {},
   "source": [
    "26."
   ]
  },
  {
   "cell_type": "code",
   "execution_count": 131,
   "metadata": {},
   "outputs": [
    {
     "name": "stdout",
     "output_type": "stream",
     "text": [
      "[[1, 2, 3, 4], [5, 6, 7, 8], [9]]\n"
     ]
    }
   ],
   "source": [
    "# write a python program to break a list into chunks of size provided by user\n",
    "def divide_chunks(user_list, size): \n",
    "    for i in range(0, len(user_list), size):  \n",
    "        yield user_list[i : i + size]\n",
    "\n",
    "user_list = [1, 2, 3, 4, 5, 6, 7, 8, 9]\n",
    "size = 4\n",
    "print(list(divide_chunks(user_list, size)))"
   ]
  },
  {
   "cell_type": "markdown",
   "metadata": {},
   "source": [
    "27."
   ]
  },
  {
   "cell_type": "code",
   "execution_count": 135,
   "metadata": {},
   "outputs": [
    {
     "data": {
      "text/plain": [
       "[10, 20, 30, 40, 50, -20, 60]"
      ]
     },
     "execution_count": 135,
     "metadata": {},
     "output_type": "execute_result"
    }
   ],
   "source": [
    "# write a python program to print duplicates in a list provided by user\n",
    "def repeated_elements(user_list):\n",
    "    repeated = []\n",
    "    for i in range(len(user_list)):\n",
    "        k = i + 1\n",
    "        for j in range(len(user_list)):\n",
    "            if user_list[i] == user_list[j] and user_list[i] not in repeated:\n",
    "                repeated.append(user_list[i])\n",
    "    return repeated\n",
    "\n",
    "user_list = [10, 20, 30, 20, 20, 30, 40, 50, -20, 60, 60, -20, -20]\n",
    "repeated_elements(user_list)"
   ]
  },
  {
   "cell_type": "markdown",
   "metadata": {},
   "source": [
    "28."
   ]
  },
  {
   "cell_type": "code",
   "execution_count": 137,
   "metadata": {},
   "outputs": [
    {
     "data": {
      "text/plain": [
       "'780,O Barak Obama apresentou hoje o Jornal Nacional...,0'"
      ]
     },
     "execution_count": 137,
     "metadata": {},
     "output_type": "execute_result"
    }
   ],
   "source": [
    "# write a python program to print random line from a file provided by user\n",
    "import random\n",
    "\n",
    "def random_line(file_name):\n",
    "    lines = open(file_name).read().splitlines()\n",
    "    return random.choice(lines)\n",
    "\n",
    "random_line(\"tweets.csv\")"
   ]
  },
  {
   "cell_type": "markdown",
   "metadata": {},
   "source": [
    "29."
   ]
  },
  {
   "cell_type": "code",
   "execution_count": 138,
   "metadata": {},
   "outputs": [
    {
     "name": "stdout",
     "output_type": "stream",
     "text": [
      "1379,#OBAMA:  DICTATOR IN TRAINING.  If he passes this training course in November this country is freaking SCREWED!,0\n",
      "1378,\"@xShwag haha i know im just so smart, i mean you gotta listen to obama cuz its obama. and lol i got my belly button pierced.\",1\n",
      "1377,RT @GatorNation41: gas was $1.92 when Obama took office...I guess he did promise he would change things http://t.co/TlfMmi0G,1\n",
      "1376,RT @AstoldByBass: #KimKardashiansNextBoyfriend Barack Obama,0\n",
      "1375,@liberalminds Its trending idiot.. Did you look at the tweets? LOL they are all making fun of Obama for his stupid Hashtag,0\n",
      "1374,RT @edshow: Women at Augusta? Obama says absolutely. Romney hedges. Comment on FB or tweet so we can share on #edshow!,0\n",
      "1373,RT @handrewschwartz: Ignatius reports Obama signaled Iran US wld accept civ nuke pgm if Khameni can assure Iran will never get nuke weapons http://t.co/KkaAhGPq,1\n",
      "1372,Obama hosts screening of 'To Kill a Mockingbird' http://t.co/ylSMZBNx,0\n",
      "1371, #mainstreammedia,0\n",
      "1370,\"@BrianBrownNet: Commentary: Barack Obama Mining Trayvon's Grave -  Poor Trayvon Martin, dying... http://t.co/gk6vL04x\",0\n",
      "1369,RT @MrMcMillin: hahahahahaha  http://t.co/LW1S5Iea #Obama #Clinton,0\n",
      "1368,\"RT @ForAmerica: Obama claims #ObamaCare was passed with a \"\"strong majority.\"\" How does he keep a straight face and say that? #tcot #VAsen #MOsen #FLsen\",2\n",
      "1367,OKAY. HOW ON THE EARTH DID BARACK OBAMA PUT THAT BLENDER ON HIS TWITTER? I WANT TOO.,1\n",
      "1366,The hundreds of millions of dollars in taxes Obama donor Warren Buffett owes to the federal government. #WhatsRomneyHiding,0\n",
      "1365,\"RT @GranholmTWR: Tonight @MikeAllen gives us the inside scoop on the election. Also, Obama's fmr. advisor Austan Goolsbee will talk jobs & the economy.\",1\n",
      "1364,You niggas are fake that's word to Obama - Lil B,0\n",
      "1363,\"Is Obama a dumb nigger, or what?!?!  Holder Says Court Power To Review Laws 'beyond Dispute' | Fox News http://t.co/yhJ55xhM via @addthis\",0\n",
      "1362,\"RT @ohgirlphrase: American kid \"\"You're from the UK? Ohhh cool, So do you have tea with the Queen?\"\". British kid: \"\"Do you like, go to Mcdonalds with Obama?\",0\n",
      "1361,@John_37058 How long do you think it will take Obama to write an executive order giving him the right to use it on us?,2\n",
      "1360,\"I bet Obama didn't think about calculus when he promised change. Yeah, we will bring change, but will we calculate the change? Damn home ...\",1\n",
      "1359,\"73% of Democrats said Bush could lower gas prices, but now only 33% think #Obama can. Graph: http://t.co/d2X461u2 @yaliberty\",0\n",
      "1358,RT @Ausflatfish #Obama Administration indicts 6th #whistleblower under the #Espionage Act http://t.co/xYdHGtKJ #media #journalism,0\n",
      "1357,@Androushka The liberals have seen to it that parents can have no choice in schools and may not send their children to schools like Obama's,0\n",
      "1356,\"Holder answers judge, defending both judiciary and Obama health care remarks http://t.co/EAS8WNVU\",0\n",
      "1355,@obama start tweeting dang,0\n",
      "1354,RT @poorconservativ: Obama Is Trying To Bully The Supreme Court With His Warning About Health Care Law  http://t.co/aKzIOEDM,0\n",
      "1353,RT @stonerjesus420: Six National Drug Policy Organizations Send Letter Asking Obama To End MMJ Crackdown: http://t.co/fFZKYkLF,0\n",
      "1352,\"Obama Respects the Supreme Court Says Eric Holder, Violence in Syria Continues in Anticipation of... http://t.co/QJYdOvLj #libertario #tlot\",1\n",
      "1351,Middle-class professionals only losers in Coalition government's tax changes - Telegrap http://t.co/ONvpI8jR you in USA HOLD OBAMA ON YR  SH,0\n",
      "1350,\"RT @thinkprogress: Romney, who has two Harvard degrees, blasts Obama for spending \"\"too much time at Harvard.\"\" http://t.co/avbgNT57\",0\n",
      "1349,\"Obama Respects the Supreme Court Says Eric Holder, Violence in Syria Continues in Anticipation of... http://t.co/8Mp8Bg3y #libertario #tlot\",1\n",
      "1348,\"Obama Respects the Supreme Court Says Eric Holder, Violence in Syria Continues in Anticipation of... http://t.co/DHvGqb1Z #libertario #tlot\",1\n",
      "1347,\"Obama Respects the Supreme Court Says Eric Holder, Violence in Syria Continues in Anticipation of... http://t.co/S4UHjSVS #libertario #tlot\",1\n",
      "1346,\"Obama Respects the Supreme Court Says Eric Holder, Violence in Syria Continues in Anticipation of... http://t.co/Duemei61 #libertario #tlot\",1\n",
      "1345,\"RT @Professor_Why: #WhatsRomneyHiding - his lack of knowledge regarding Constitutional Checks & Balances... Oh wait, that's our Constitutional \"\"scholar\"\" Obama!\",0\n",
      "1344,\"Obama Respects the Supreme Court Says Eric Holder, Violence in Syria Continues in Anticipation of... http://t.co/5QBOVrBw #libertario #tlot\",1\n",
      "1343,RT @edshow: Women at Augusta? Obama says absolutely. Romney hedges. Comment on FB or tweet so we can share on #edshow!,0\n",
      "1342,\"Obama Respects the Supreme Court Says Eric Holder, Violence in Syria Continues in Anticipation of... http://t.co/TUqvEApu #libertario #tlot\",1\n",
      "1341,#WhatsRomneyHiding ?  less than how much Obama's hiding from the public.  That's what.,0\n",
      "1340,#WhatsRomneyHiding? That he has a lot of money. OH WAIT ANYONE WITH A BRAIN ALREADY KNEW THAT. Dumbest hashtag ever. Obama has money too FYI,0\n",
      "1339,\"Obama Respects the Supreme Court Says Eric Holder, Violence in Syria Continues in Anticipation of... http://t.co/4PEbWUGs #libertario #tlot\",1\n",
      "1338,Top Secret Obama 2012 World War 3 Illuminati Antichrist Conspiracy!: http://t.co/iqg1xarL via @youtube,0\n",
      "1337,\"Amid Trayvon Martin case, Obama hosts screening of 'To Kill a Mockingbird' - http://t.co/vvaTNwON http://t.co/MzerPkAh\",0\n",
      "1336,@edshow I'M A WOMAN NOT A CATERPILLAR.  OBAMA IN 2012 #ED SHOW,0\n",
      "1335,RT @markknoller: Obama Campaign says Romney should make public 23 years of tax returns so Americans can assess any conflicts of interest.,1\n",
      "1334,#WhatsRomneyHiding The fact that he can beat Obama!,0\n",
      "1333,\"RT @CBSSports: Obama, Romney say admit women to Augusta golf club - http://t.co/OtHTaRDK\",0\n",
      "1332,@Gabby_Hoffman Community Organizers in one zip code in Chicago could do better than Obama.,1\n",
      "1331,Obama's Signing Of JOBS Act Likely Won't Dim GOP C...:  President Obama's signing of the JOBS Act gives him one ... http://t.co/pWArEGsR,0\n",
      "1330,FEAR IS THE MINDKILLER. OH NO ITS OBAMA..MUMMMYYYYYYYYYY!!!!!!!!! http://t.co/p2vrYRFz,0\n",
      "1329,RT @RT_America Obama's pretzel logic http://t.co/Shv83Z0F @PeterSchiff #Obama campaign,0\n",
      "1328,quisiera ser la hija de Obama. ah porque (?),0\n",
      "1327,\"Despite rising gas prices, energy policy experts Charles Ebinger & Susan Tierney say you can't blame Obama on #TheTavisSmileyShow this week.\",0\n",
      "1326,@iChicagoScott hahaha left of Obama. That's great,1\n",
      "1325,#WhatsObamaHiding RT @conkc2: #WhatsRomneyHiding A cheeseburger from Michelle. &lt;-----That's Obama again. He keeps it in his coat pocket.,0\n",
      "1324,\"As Obama's policies have turned women into 3rd class citizens, he is working on bringing down the whole economy. #edshow\",0\n",
      "1323,RT @ArkansasBoys: #IWantToPunchPeopleWho voted for Obama #arkansasboyproblems,0\n",
      "1322,RT @terresamonroe: Obama Is Making the Case For His Own Impeachment http://t.co/hbWWnakJ,0\n",
      "1321,@Mar_Pizzle miles away from u.lol.. obama town,0\n",
      "1320,\"#WhatsRomneyHiding His demand that Israel retreat to indefensible borders from which she can be destroyed. No, wait. That's Obama.\",0\n",
      "1319,@WAMK I was implying that you think Obama is not as smart as the Supreme Court. Apologies for the misunderstanding.,1\n",
      "1318,#tcot #sgp #teaparty,0\n",
      "1317,\"How do you spell FAILURE - \"\"OBAMA\"\"\",0\n",
      "1316,#WhatsRomneyHiding The secret code that would let Obama be clear.,0\n",
      "1315,\"If President Obama is concerned that his efforts at \"\"diplomacy\"\" with Iran... http://t.co/nrVeFQPQ\",0\n",
      "1314,Sanctioning Iran to Influence Israel,0\n",
      "1313,\"I heard there is a gay porn titled \"\"Obama Been Slobbin\"\" ....now think about who Obama killed in Pakistan..yeah crazy\",0\n",
      "1312,I just signed a petition asking Pres. Obama to fulfill the promise of National Alzheimer's Project Act at: http://t.co/WEbFZPlb,2\n",
      "1311,\"RT @DrewMTips: #WhatsRomneyHiding His association with convicted felon Tony Rezko and domestic terrorist Bill Ayers. Wait, that's Obama.\",0\n",
      "1310,\"[121] In March 2009, Obama reversed a Bush-era policy which had limited funding of embryonic stem cell research\",0\n",
      "1309,\"RT @larryeldershow: Spike Lee said he dislikes black-white couples, gives them \"\"visual daggers\"\". Yo, Spike, if you got your way, Obama wouldn't exist.\",0\n",
      "1308,LOOOOOOOOOOOOOOOOOOOOOOOOOOOOL This is why i rate obama http://t.co/vsOYFhSa,0\n",
      "1307,Reforming an Obama supporter is like trying to pick up poop by its clean end,1\n",
      "1306,\"FINALLY - A former Obama law student speaks out -- and he can't believe the crap spewing from O's mouth, either: http://t.co/GLopiyOC\",0\n",
      "1305, http://t.co/KeC3MhTg,0\n",
      "1304,Is Obama 'Dangerously Close To Totalitarianism'?,0\n",
      "1303,\"@JeffersonObama it would look like the president is doing good. Goes against their narrative \"\"everything sucks Obama fault No one likes him\"\"\",0\n",
      "1302,\"Napolitano Caught Hiring Muslim Brotherhood Terrorist, Giving Him Top-Secret Security Clearance\",1\n",
      "1301,,0\n",
      "1300,http://t.co/B2WIWFrV,0\n",
      "1299,RT @anna12061: Another Obama Buddy!,0\n",
      "1298,#Google #Hot #News Comments by Obama set off imbroglio http://t.co/mbVzVzKt #InstantFollowBack YBNews,0\n",
      "1297,Is Despot better? @workinmama @RednaxalA Calling Obama a despot gives him more respectability than his sort is due; a thug. #obama2012 #gop,0\n",
      "1296,\"RT @paulrevered1776: RT @Professor_Why: #WhatsRomneyHiding - the fact that he was very close to a domestic terrorist- Oh wait, that's Obama\",0\n",
      "1295,#WhatsRomneyHiding Obama's college transcripts?,0\n",
      "1294,GOP senator accuses Obama of threatening the Supreme Court - The Hill's Blog Briefing Room http://t.co/gVSs6ulN,0\n",
      "1293,\"#WhatsRomneyHiding Obama's birth cert,smh dis guy ix really funny,lol\",1\n",
      "1292,RT @Talkmaster: Oh now I get it. Obama was talking in shorthand and we were just too dumb to understand how smart he really is.  Gagme.,1\n",
      "1291,\"In his teen years, Obama has been known to use marijuana and cocaine.\",0\n",
      "1290,\"Obama has called the GOP budget social Darwinism. Nice try, but they believe in social creationism.\",1\n",
      "1289,Obey: Obama still not satisfied with the lapdog press (@times247) http://t.co/qSQXWxnl Now he's 'ordering' what the press should report!,0\n",
      "1288,\"RT @thinkprogress: Romney, who has two Harvard degrees, blasts Obama for spending \"\"too much time at Harvard.\"\" http://t.co/avbgNT57 #icymi\",0\n",
      "1287,@ATeagirl The Obama propaganda department came out with that hashtag regarding Romney's tax records.,0\n",
      "1286,I hope @PitchyPete uses this list to assign seats at his future dinner party. I want to talk fave TMNT w/ Obama & Oprah http://t.co/RoLLLTt2,1\n",
      "1285,#WhatsRomneyHiding - we all know Romney can't Eff with President Obama!,0\n",
      "1284,http://t.co/nl8vX5Of,0\n",
      "1283,\"RT @SayfieReview: Herald: \"\"Jewbags\"\" flap exposes rift in Barack Obama-Debbie Wasserman Schultz World http://t.co/7jswRZAQ #sayfie\",0\n",
      "1282,RT @Talkmaster: Oh now I get it. Obama was talking in shorthand and we were just too dumb to understand how smart he really is.  Gagme.,1\n",
      "1281,\"In Obama's Budget, Interest Payments on the Debt Will Exceed Defense in 2019. http://t.co/ta0Gs2Su #twcot #tlot #tcot\",2\n",
      "1280,Penn is changing the conversation from his film career to his involvement with the Obama administration.,0\n",
      "1279,@edshow It's great. Obama is looking out for women.,1\n",
      "1278,\"#WhatsRomneyHiding - his long-form birth certificate for 2 1/2 years... Oh wait, that little game was played by Obama, not Romney...\",0\n",
      "1277,\"RT @BelleInABow: Obama doesn't need to be your favorite person, but he's still the President of the United States of America. That always deserves respect.\",1\n",
      "1276,how come Justin Bieber has more followers than Barack Obama,0\n",
      "1275,LOL RT @esqcapades #WhatsRomneyHiding The secret code that would let Obama be clear.,0\n",
      "1274,\"#Obama and #Romney agree on including #women at the Augusta Golf Club &gt; Well, waiting for #Mitt to #FlipFlop any minute now :-) #weasel\",1\n",
      "1273,\"\"\"@Ciroc_Obama: #IBLOCKA\"\"\",0\n",
      "1272,\"With Obama's budget, interest payments on the debt will exceed our entire defense budget in 2019.. #tcot  http://t.co/tmsSKR0T\",2\n",
      "1271,Obama aboga por el ingreso de las mujeres al club de golf de Augusta http://t.co/zhKx6rQE,0\n",
      "1270,\"@PAC43 wonder if Obama's buddies will lose their passports too? Buffet,Geither& Immelt?\",1\n",
      "1269,\"American kid \"\"You're from the UK? Ohhh cool, So do you have tea with the Queen?\"\". British kid: \"\"Do you like, go to Mcdonalds with Obama?\",0\n",
      "1268,It's a sorry state of affairs when the US President menaces other branches of government. Obama mocks and menaces like governing is sport.,0\n",
      "1267,@MJ_Obama you right though enjoy your self my nigg we gon he wilding soon,1\n",
      "1266,\"RT @whitehouse: Today President Obama signed the #JOBSAct - encourages startups, supports #smallbiz: http://t.co/YyeRYmHT\",0\n",
      "1265,\"Napolitano Caught Hiring Muslim Brotherhood Terrorist, Giving Him Top-Secret Security Clearance\",1\n",
      "1264,,0\n",
      "1263,http://t.co/B2WIWFrV,0\n",
      "1262,RT @anna12061: Another Obama Buddy!,0\n",
      "1261,Is anyone else growing tired of the Obama Administration's relentless class warfare tactics? They're maddening and un-American.,0\n",
      "1260,The Maverick Conservative: President Obama: Hispanics/Latinos as Illegal Immigrants and Murderers http://t.co/BX2ogeQN via @addthis,0\n",
      "1259,Sharing: http://t.co/AEp80p7F Feds refuse to release obummer's draft docs to Sheriff Joe.,0\n",
      "1258,RT @Talkmaster: Oh now I get it. Obama was talking in shorthand and we were just too dumb to understand how smart he really is.  Gagme.,1\n",
      "1257,Is President #Obama trying to muscle the Supreme Court? @JeffreyToobin & @JaySekulow are standing by to discuss...and disagree! #AC360,0\n",
      "1256,\"#WhatsRomneyHiding That time he told AIPAC Jerusalem should remain united, then backtracked in a TV interview. No, wait. That was Obama.\",0\n",
      "1255,Examiner Editorial: Obama joins attacks on court even before health care ruling | Washington Examiner http://t.co/zHkcmmyb via @addthis,1\n",
      "1254,RT @nat_riverascott: @Mirandacan you are so right about that #shameonyou #Obama,1\n",
      "1253,RT @rickjnewman Which presidential candidate is out of touch? How about both. http://t.co/02AQUGPl #Obama #Romney,0\n",
      "1252,\"RT @WhatTheFFacts: In his teen years, Obama has been known to use marijuana and cocaine.\",0\n",
      "1251,\"RT @MiltShook: If #202-599-9212 appears on your caller ID, it's a pro-GOP telemarketer trashing Obama. Don't answer, or answer while flushing toilet.\",0\n",
      "1250,Kal liked what Obama had to say at political rally and signed up to volunteer for campaign.,0\n",
      "1249,\"RT @angel__network: Obama to sign Jobs Act into law Thursday, which is designed to make crowdfunding a legal ... http://t.co/mpTGvRvw\",0\n",
      "1248,RT @TCOTvideos: Obama's snafu over Supreme Court's job duties give hint as to why he has locked all his college transcripts in Fort Knox. #TCOT,1\n",
      "1247,The Vetting: Obama Exploited Catholics To Push Universal Health Care In Illinois  http://t.co/NqjjCWMB,1\n",
      "1246,Barack Obama Traditional Mahjong http://t.co/C67LiSDV,1\n",
      "1245,\"RT @LauraFlyMe: \"\"Barry Soetoro a.k.a. Barack Obama Exposed Finally: http://t.co/Hl52R0AN via @youtube\",0\n",
      "1244,Obama to celebrate Passover with Seder http://t.co/tIS5Umhh,0\n",
      "1243,\"To Obama, legal precedents are all about politics http://t.co/R0LJqx8X\",0\n",
      "1242,President #Obama talks directly to women! @MittRomney talks at women&sends #phonyAnn then has her report back to see what women are saying?,0\n",
      "1241,#KimKardashiansNextBoyFriend Obama,0\n",
      "1240,Conclusive proof that Obama's real first name is also 'Willard' #WhatsRomneyHiding,2\n",
      "1239,Obama donor Perry hits cops for racial profiling http://t.co/MNq3PqOp,0\n",
      "1238,\"Love the idea that @SarahPalinUSA acts like a complete buffoon as a cover-up for a diamond heist planned by Obama & McCain, if only true..\",2\n",
      "1237,RT @GeorgeD_87: Nothing like Team Obama attacking Romney to unite conservatives. Thanks.  #WhatsRomneyHiding,0\n",
      "1236,\"Mitt Romney: Obama 'Spent Too Much Time At Harvard,' Also A Year Less Than I Did http://t.co/qxcmS5HU via @huffingtonpost\",0\n",
      "1235,The Writer's strike gave him the opportunity to go work for Obama's campaign,1\n",
      "1234,RT @handrewschwartz: Ignatius reports Obama signaled Iran US wld accept civ nuke pgm if Khameni can assure Iran will never get nuke weapons http://t.co/KkaAhGPq,1\n",
      "1233,\"\"\"who was the woman who worked for Hillarys presidental run against Obama says that\"\" http://t.co/19Frqx8C\",0\n",
      "1232,RT @markknoller: Obama Campaign says Romney should make public 23 years of tax returns so Americans can assess any conflicts of interest.,1\n",
      "1231,\"Nicki Minaj Rules For Republican Radicals: Throughout the 2008 Presidential campaign, both Barack Obama and his ... http://t.co/UnVSPmdy\",0\n",
      "1230,RT @markknoller: Obama Campaign says Romney should make public 23 years of tax returns so Americans can assess any conflicts of interest.,1\n",
      "1229,RT @LMFAO: Who's sexy and knows it? Barack Obama. Yeeeaah baby!! http://t.co/5EO2RIfx,1\n",
      "1228,RT @Boudicabpi: Michael Savage: How Obama plans to fix the 2012 election http://t.co/LuObjd1M via @SarahRoman11,0\n",
      "1227,\"#WhatsRomneyHiding That Michelle Obama was featured in Sir Mixalot's music video \"\"Baby Got Back\"\"\",0\n",
      "1226,RT @DS_CT: It's a sorry state of affairs when the US President menaces other branches of government. Obama mocks and menaces like governing is sport.,0\n",
      "1225,\"RT @Ghutsch: Hey @attackwatch, I think the conservatives are taking over Obama's attempt to attack using #whatsromneyhiding....  BWAhahahahahaha!!!!\",0\n",
      "1224,Gas is 3.98...I'm gunna have sex with Barrack Obama! I mean You only live once..- @samholley42,0\n",
      "1223,#WhatsRomneyHiding Blueprints on how conservatives destroy Obama's lame attempts to launch hashtags.,0\n",
      "1222,\"RT @angel__network: Obama to sign JobsAct into law, which is designed to make crowdfunding a legal option for startups: http://t.co/35EWTJG7\",0\n",
      "1221,\"The \"\"new\"\" anti-Obama slur from the #RWNJ echo chamber is THUG? So we've decided to just let our racist bedsheets fly, huh? Interesting. #GOP\",0\n",
      "1220,RT @Real_Liam_Payne: That was one of the strangest days ever will smith taylor swift justin bieber michelle obama  wow what it going on with my life!!,2\n",
      "1219,\"Obama vs Romney&gt;Obama helped the Auto Industry,Prevented a deeper recession/created 3+ million jobs&lt;Romney cant win on this issue #p2 #tcot\",0\n",
      "1218,@charlesfrith wow the dum=dum celebrity worshippers really pray at Obama's feet. I wonder why they don't smell how bad he really is? DUM USA,1\n",
      "1217,\"#WhatsRomneyHiding #Obama's Communist membership card along with all #Obama's college papers, birth certificate, real social sec.card  #tcot\",1\n",
      "1216,\"RT @thinkprogress: Romney, who has two Harvard degrees, blasts Obama for spending \"\"too much time at Harvard.\"\" http://t.co/avbgNT57 #icymi\",0\n",
      "1215,@carrotgravy lol okay I'm calm. But technically 4 black directioners cause michelle obama is one now. WOW. and as am I :),2\n",
      "1214,Tonight's show: the Texas Republican Party may be the last line of defense between the Constitution and another four years of Obama.,1\n",
      "1213,http://t.co/UxKlvxaj  - Attorney General Defends Obama's Court Critique .#tcot,0\n",
      "1212,RT @kkrebeka: how come Justin Bieber has more followers than Barack Obama,0\n",
      "1211,\"Santorum & bible. Romney & attorneys. Obama & drones & prison camps. RON PAUL & The CONSTITUTION. Liberty, Freedom & Justice, anyone?\",1\n",
      "1210,\"RT @Professor_Why: #WhatsRomneyHiding - his long-form birth certificate for 2 1/2 years... Oh wait, that little game was played by Obama, not Romney...\",0\n",
      "1209,\"My tweet about Nobody being better than Obama got 8 RTs. The same tweet about Ron Paul got 2. Ron Paul is not Nobody, people.\",1\n",
      "1208,@MichelleObama great photo of Mrs Obama .,1\n",
      "1207,Respect for the Supreme Court and power of judicial review.... Oh wait that's Professor Obama #WhatsRomneyHiding #tcot,2\n",
      "1206,RT @KarlRove: Obama's habit of blaming others for country's problems adds to perception of a weak leader. http://t.co/NZaqvz3C,0\n",
      "1205,RT @ItsLoopzProd: LOOOOOOOOOOOOOOOOOOOOOOOOOOOOL This is why i rate obama http://t.co/vsOYFhSa,0\n",
      "1204,RT @PAC43: Reforming an Obama supporter is like trying to pick up poop by its clean end,1\n",
      "1203,RT @dierdrelewis: Koch brothers linked to $3.6M anti-Obama gas price ad campaign - http://t.co/fOrfWYMb: http://t.co/z4KU2HkN via @POLITICO #p2 #tcot,0\n",
      "1202,RT @ABC: Obama Signs #JOBS Act Into Law http://t.co/JJQ5DfKb,0\n",
      "1201,\"Saul says Pres Obama \"\"will do anything\"\" to distract Americans from his \"\"failed\"\" economic record incl unemployment & higher gas prices.\"\"\",1\n",
      "1200,\"In his teen years, Obama has been known to use marijuana and cocaine.\",0\n",
      "1199,\"Obama has called the GOP budget social Darwinism. Nice try, but they believe in social creationism.\",1\n",
      "1198,RT @KarlRove: Obama's habit of blaming others for country's problems adds to perception of a weak leader. http://t.co/NZaqvz3C,0\n",
      "1197,RT @ItsLoopzProd: LOOOOOOOOOOOOOOOOOOOOOOOOOOOOL This is why i rate obama http://t.co/vsOYFhSa,0\n",
      "1196,RT @PAC43: Reforming an Obama supporter is like trying to pick up poop by its clean end,1\n",
      "1195,RT @dierdrelewis: Koch brothers linked to $3.6M anti-Obama gas price ad campaign - http://t.co/fOrfWYMb: http://t.co/z4KU2HkN via @POLITICO #p2 #tcot,0\n",
      "1194,RT @ABC: Obama Signs #JOBS Act Into Law http://t.co/JJQ5DfKb,0\n",
      "1193,\"Saul says Pres Obama \"\"will do anything\"\" to distract Americans from his \"\"failed\"\" economic record incl unemployment & higher gas prices.\"\"\",1\n",
      "1192,Obama Administration Funding Middle East Christian Extermination: #tcot #independents #tlot #Christians #democrats http://t.co/NCe2nJzX,0\n",
      "1191,\"U ROCK LUIS!RT @1LuisSandoval: If Obama had a son, he'd look like Trayvon.  If he had a dad, he'd (cont) http://t.co/sqG7ysWO\",0\n",
      "1190,\"RealClearPolitics Video -  Reporter To Carney: Obama \"\"Made A Mistake And You Can't Admit It\"\" http://t.co/QDV1qQKn\",0\n",
      "1189,I know people personally whose lives were saved by Barack Obama's health care law. I'm through with your lies. @MittRomney @RickSantorum,0\n",
      "1188,I fucking dreamnt that Obama was on Running Man. #wtf?,0\n",
      "1187,Obama's Confidence Hints at Hidden Powers Shaping Election - Godfather Politics http://t.co/qCKXeVlI,1\n",
      "1186,\"RT @HonestMitt: We all know Obama will use Chicago style politics against Mitt Romney, so I thought you'd like to meet the REAL Mitt Romney! #HonestMitt\",1\n",
      "1185,\"RT @1Directionality: \"\"Harry styles described Michelle Obama as a very attractive older woman\"\" OBAMA HIDE YOUR WIFE, STYLES IS COMING!\"\"\",1\n",
      "1184,\"Marion Barry attacking Asians;  Obama, CBC, NAACP attcking Zimmerman etc.  Who are the real racists?\",0\n",
      "1183,\"Obama's economic policy is simple: \"\"Spending on Steroids\"\". #Economics101\",1\n",
      "1182,\"#WhatsRomneyHiding - his connection to a former IL Governor selling a congressional seat... Whoops, that's Obama again!\",0\n",
      "1181,Romney is gonna be the nominee y'all. Not my first choice either but we cannot allow a 2nd Obama term. Obama HAS TO GO!!!!!!!,0\n",
      "1180,@Im_Tyler haha blaming Bush 4 years later? Even Obama stopping blaming him years ago.,1\n",
      "1179,muito bom http://t.co/JqlUcpRc AHUAHAHUHAHAUHUAHUAHHAUHA,0\n",
      "1178,\"- I'm Riding With Him Like Obama , He Don't Gimme Drama\",0\n",
      "1177,\"RT @SheCallsMeLarry: The \"\"new\"\" anti-Obama slur from the #RWNJ echo chamber is THUG? So we've decided to just let our racist bedsheets fly, huh? Interesting. #GOP\",0\n",
      "1176,Powerline points out that even the Washington Post is laughing at Obama. http://t.co/Oqebcdlc,1\n",
      "1175,\"Obama Signs \"\"Fraud-Friendly\"\" JOBS Act into Law | Economist: Bill will bring fraud, destroy jobs http://t.co/XjuQrb5w @AddThis\",0\n",
      "1174,http://t.co/5XJZbGSV Naked Sarah Palin The polls are heading Barack Obama's way but much of the,0\n",
      "1173,\"RT @DrewMTips: #WhatsRomneyHiding His plan to sell out US missile defense to Russia after the election. Nope, sorry, that's Obama again.\",0\n",
      "1172,\"RT @1LuisSandoval: If Obama had a son, he'd look like Trayvon.  If he had a dad, he'd look like Marion Barry.  If he had a hammer, he'd hammer in the morning.\",0\n",
      "1171,RT @searfoss70: Unreal: Obama Regime Release $1.5 Billion In Aid To Egypt After Meeting With Muslim Brotherhood http://t.co/qmkaNjER #becktips #tcot,0\n",
      "1170,\"Again President Obama stands up for \"\"women\"\" @edshow and boldly does so.\",1\n",
      "1169,The spectacle of democracy in the US http://t.co/rhDUtpLs #p2 #tcot #Obama #teaparty #WhatsRomneyHiding,0\n",
      "1168,\"RT @ohgirlphrase: American kid \"\"You're from the UK? Ohhh cool, So do you have tea with the Queen?\"\". British kid: \"\"Do you like, go to Mcdonalds with Obama?\",0\n",
      "1167,RT @markknoller: Obama Campaign seizing on Washington Post report on Mitt Romney not disclosing certain details of his income & assets.  http://t.co/zneCZUTo,0\n",
      "1166,@Joeymommy @_ccm http://t.co/clrOvUEB I would believe Snopes over Jerome Corsi. Look at their record in court: zero!,0\n",
      "1165,RT @timgRIGHTway: #Obama gives $1.5 Billion to Egypt after meeting Muslim Brotherhood http://t.co/1kiskMUC . Unreal! #Tcot,0\n",
      "1164,Holder delivers three-page letter to judge over Obama comments | The Raw Story: http://t.co/zcSKd1Jd via @AddThis,0\n",
      "1163,\"RT @thinkprogress: Romney, who has two Harvard degrees, blasts Obama for spending \"\"too much time at Harvard.\"\" http://t.co/avbgNT57 #icymi\",0\n",
      "1162,\"After Obama gets women admitted to Augusta, I'm gonna see if I can join Adams Co League of Women Voters.\",0\n",
      "1161,\"RT @thinkprogress: Romney, who has two Harvard degrees, blasts Obama for spending \"\"too much time at Harvard.\"\" http://t.co/avbgNT57 #icymi\",0\n",
      "1160,RT @Norsu2: Justice Grimaces As Obama Criticizes Supreme Court at State of the Union: http://t.co/LSCUC7P4 via @youtube See a trend here? #tcot #ocra,2\n",
      "1159,RT @brianwiersema: @JoeNBC If you have FACTS supporting your assertion that Obama policies contributed to high gas prices then lets hear them. Otherwise STFU!,0\n",
      "1158,\"@MittRomney Instead of constantly pointing out Obama's weaknesses, why not worry about your own. What are your plans to make improvements?\",0\n",
      "1157,\"RT @Notintheface1: Apparently, Romney's entire campaign strategy for Obama consists of \"\"I Know You Are But What Am I?\"\"\",0\n",
      "1156,RT @markknoller: Obama Campaign seizing on Washington Post report on Mitt Romney not disclosing certain details of his income & assets.  http://t.co/zneCZUTo,0\n",
      "1155,\"Namun, dengan dirinya terpilih menjadi presiden, jadwal Obama langsung pt menghadiri banyak undangan\",0\n",
      "1154,\"RT @WhatTheFFacts: In his teen years, Obama has been known to use marijuana and cocaine.\",0\n",
      "1153,\"RT @moxist: My tweet about Nobody being better than Obama got 8 RTs. The same tweet about Ron Paul got 2. Ron Paul is not Nobody, people.\",1\n",
      "1152,http://t.co/0NrH7GKj Obama signs JOBS Act to boost startup firms - http://t.co/REuKvbgg,1\n",
      "1151,RT @markknoller: Obama Campaign says Romney should make public 23 years of tax returns so Americans can assess any conflicts of interest.,1\n",
      "1150,\"RT @BarackObama: Watch live: President Obama signs the JOBS Act, making it easier for startups and small businesses to get financing. http://t.co/mm4eGrZJ\",1\n",
      "1149,Only in an election year will obama take sudden interest in Augusta admitting Woman members.,2\n",
      "1148,RT @whatevrer: i hope barack obama and mitt romney get in a twitter fight,0\n",
      "1147,Moving to Iowa. Obama becomes president. Working with 5 of the most brilliant people he's ever known. living in DC. #quickstory,2\n",
      "1146,\"@NatefromUSA Say, how about that Obama sealing all his college transcripts & passport records?  #p2 #Obama2012 No big deal, eh? #gop #tcot\",1\n",
      "1145,\"[221] The next day, on Obama's orders, the U\",0\n",
      "1144,\"@_H_C_T_ you are so right. yup. that's why 90% of my friends aren't white, that's why i voted for obama that's why I'm traveling to Africa\",2\n",
      "1143,#WhatsRomneyHiding HE IS HIDING JUST AS MUCH BULLSHIT AND LIES AS OBAMA AND THE DEMOCRATS ARE. ALL POLITICIANS ARE SCUM FUCK LIARS,0\n",
      "1142,Obama: Star Wars or Star Trek? - Movies News at IGN: http://t.co/HW7liQa9 via @IGN,2\n",
      "1141,@ExtremeLiberal obama is the best choice by far for 2012. i push people to vote a lot. check 2010 tweets. but dem machine needs replacement.,0\n",
      "1140,#KimKardashiansNextBoyFriend Obama!,0\n",
      "1139,#obama samsung galaxy i5800 android 2.2 http://t.co/bgk2uOdY,0\n",
      "1138,\"@TPO_Hisself : Obama For America (Fla) decided to follow me- maybe you should run for Prez, you have 5x as many followers\",0\n",
      "1137,\"Un genio Obama cantando \"\"Sexy and i know it\"\"  ajajajaj http://t.co/LojgGtGT\",1\n",
      "1136,\"#WhatsRomneyHiding His relationship with Vera Baker? Damn, that might be Obama too. I suck at this.\",0\n",
      "1135,Texas GOP talking about going to winner-take-all primary. Could single-handedly change who Barack Obama faces this year #epic,1\n",
      "1134,RT @vflyby: I truly believe the GOP is serious about beating Obama n Mitt needs 2 start now calling Obama out on his record! NO similarity between the 2,0\n",
      "1133,Obama Concedes That Courts Can Review Acts of Congress: A federal appeals court had demanded that the administra... http://t.co/YT7rGVL9,0\n",
      "1132,\"@ORiellyFactor  Had to turn off OReilly again tonight. When he starts slobbering over Obama with his \"\"I want to be fair to the president\"\" BS\",1\n",
      "1131,Obama Concedes That Courts Can Review Acts of Congress: A federal appeals court had demanded that the administra... http://t.co/bKUGLufH,0\n",
      "1130,Obama Concedes That Courts Can Review Acts of Congress: A federal appeals court had demanded that the administra... http://t.co/UbLfVfdK,0\n",
      "1129,Obama Concedes That Courts Can Review Acts of Congress: A federal appeals court had demanded that the administra... http://t.co/zejRChDn,0\n",
      "1128,Obama Concedes That Courts Can Review Acts of Congress: A federal appeals court had demanded that the administra... http://t.co/enaJSbD3,0\n",
      "1127,\"@edshow While Obama is decisive, Romney has yet figured out how to be on both sides of the Augusta issue #edshow\",1\n",
      "1126,\"Rep.: Drop charges against anti-Obama Marine - Military News | News From Afghanistan, Iraq And  - Military Times http://t.co/4ZV5rueN\",0\n",
      "1125,RT @handrewschwartz: Ignatius reports Obama signaled Iran US wld accept civ nuke pgm if Khameni can assure Iran will never get nuke weapons http://t.co/KkaAhGPq,1\n",
      "1124,@Duckinthedesert Why didn't Obama just run with the initial bill? @uscfandave,1\n",
      "1123,\"RT @markknoller: Saul says Pres Obama \"\"will do anything\"\" to distract Americans from his \"\"failed\"\" economic record incl unemployment & higher gas prices.\"\"\",1\n",
      "1122,\"RT @Ooh_ShePretty: - I'm Riding With Him Like Obama , He Don't Gimme Drama\",0\n",
      "1121,\"RT @wcptersn: If Obama were white, he'd be Mitt Romney.\",1\n",
      "1120,#TCOT This says it all......Obama Caught Lying-In His Own Words: http://t.co/sTR0vyJK #bcot #NoObama #liar #socialist #marxist #deceit #fail,0\n",
      "1119,RT @rushlimbaugh777: Rush: Obama 'Knows About Judicial Review' http://t.co/bGmEgGZR,0\n",
      "1118,Breakin' News: Holder: Obama administration respects the Supreme Court - USA TODAY http://t.co/owqtrrpr,1\n",
      "1117,\"LETS DRAFT SHERRIFF JOE for Independent Prosecutor, hah? Lets have a GRAND JURY! OBAMA MUST GO! #tcot\",2\n",
      "1116,Daily Front Row - The Fix - Designers Discuss: Made In The USA Campaign http://t.co/VGCUvWQN #fashion,0\n",
      "1115,RT @jodikyman: RT @American1st UNELECTED OBAMA JUSTICE DEPT IS TRYIN 2 BULLY ELECTED SHERIFF JOE ARPAIO OF MARICOPA COUNTY? VIOLATING UR OWN RULE?Mr Obama,0\n",
      "1114,RT @TPO_Hisself: obama will go down in history as the only president in 200 years to be unable to get a single budget passed.  #Fail,0\n",
      "1113,\"#WhatsRomneyHiding Obama released his tax returns since 2000, where are Romney's?\",0\n",
      "1112,RT @ryanjcroft: Is anyone else growing tired of the Obama Administration's relentless class warfare tactics? They're maddening and un-American.,0\n",
      "1111,http://t.co/eamVPg6w http://t.co/XpHKzt5Y,0\n",
      "1110,\"Good call!  RT \"\"President Obama believes Augusta National Golf Club should admit women, White House spokesman says. http://t.co/pp8XLXM4\"\"\",2\n",
      "1109,\"In his teen years, Obama has been known to use marijuana and cocaine.\",0\n",
      "1108,\"Obama has called the GOP budget social Darwinism. Nice try, but they believe in social creationism.\",1\n",
      "1107,RT @jodikyman: RT @American1st UNELECTED OBAMA JUSTICE DEPT IS TRYIN 2 BULLY ELECTED SHERIFF JOE ARPAIO OF MARICOPA COUNTY? VIOLATING UR OWN RULE?Mr Obama,0\n",
      "1106,RT @TPO_Hisself: obama will go down in history as the only president in 200 years to be unable to get a single budget passed.  #Fail,0\n",
      "1105,\"#WhatsRomneyHiding Obama released his tax returns since 2000, where are Romney's?\",0\n",
      "1104,RT @ryanjcroft: Is anyone else growing tired of the Obama Administration's relentless class warfare tactics? They're maddening and un-American.,0\n",
      "1103,http://t.co/eamVPg6w http://t.co/XpHKzt5Y,0\n",
      "1102,\"Good call!  RT \"\"President Obama believes Augusta National Golf Club should admit women, White House spokesman says. http://t.co/pp8XLXM4\"\"\",2\n",
      "1101,RT @geoff9cow: RT @17bbomb: @geoff9cow Is that why more people are on foodstamps under Obama / no. bullshit wars & bullshit tax breaks are why,0\n",
      "1100,\"@donjuanw @vaponte8 He's bored, It think he wants to waterboard someone. http://t.co/gpdr1y1C\",0\n",
      "1099,\"\"\"Fuck Yo Grammar , Obama Is President \"\"\",0\n",
      "1098, #tcot #tlot #teaparty #thirdrailers #gop #twisters,0\n",
      "1097,Obama Autopen Missing: Lost Bills found - Obama Autopen Missing:... http://t.co/C54NpNfl,0\n",
      "1096,Romney &gt; Obama,0\n",
      "1095,Little stuff like this is why Obama will beat Romney http://t.co/xQMcasBa,0\n",
      "1094,@KeithOlbermann did you vote for Obama? If so why? It's a simple question a man of you intellectual fortitude can answer....,2\n",
      "1093,Demand Romney release his tax returns?  Is that like demanding Obama release his birth certificate?  What good could ever come of that?,1\n",
      "1092,http://t.co/b7hy5nu1 http://t.co/2gtwMBtu,0\n",
      "1091,#celeb #tabloid #rumor: Bo Obama Crashes TV Promo http://t.co/tFame7bZ #news,0\n",
      "1090,Prosecutor: Marine posted negative images of Obama http://t.co/9WGiMra5,0\n",
      "1089,\"Pretty cool video&gt;&gt;&gt;The Story of \"\"Fired up! Ready to go!\"\" - Obama for America 2012: http://t.co/nxXJrxZe\",2\n",
      "1088,How Saul Alinsky Taught  #Obama to Say One Thing and Do the Opposite http://t.co/BKn8RpkI  #Tcot #twisters #teaparty #sgp #ocra,0\n",
      "1087,\"That his campaign disabled credit card verification on his online donation site #WhatsRomneyHiding #OhWait,that's Obama http://t.co/3fgWm3n4\",0\n",
      "1086,RT @TheWrightWingv2: Is Despot better? @workinmama @RednaxalA Calling Obama a despot gives him more respectability than his sort is due; a thug. #obama2012 #gop,0\n",
      "1085,\"RT @MeganSmiles: #WhatsRomneyHiding  his birth certificate? Nope, that's Obama.\",0\n",
      "1084,RT @Kerryepp: #WhatsRomneyHiding that he can throw a baseball like a man and not like a girl like Obama...,0\n",
      "1083,Take any #poll of adults & registered #voters w grain of salt. Skew #Dem. Likely voters best gauge of any election http://t.co/sVTTAKbW #GOP,0\n",
      "1082,\"RT @GlobalGrind: Picture Perfect! Jay, Barack, Bey & Michelle are perfectly posed..photos &gt;&gt; http://t.co/XpXJJp9c\",2\n",
      "1081,RT @rushlimbaugh777: Limbaugh: Obama 'a Thug' on SCOTUS - Rush Limbaugh - Fox Nation http://t.co/GP27CETj,0\n",
      "1080,@OREILLY NEEDS 2 STEP DOWN OR BACK! HE KNOWS NOTHING ABT ANYTHING BUT THINKS HE KNOWS EVERYTHING & HE KNOWS IT NOT! -me #freedomfever #obama,0\n",
      "1079,\"RT @BelleInABow: Obama doesn't need to be your favorite person, but he's still the President of the United States of America. That always deserves respect.\",1\n",
      "1078,\"EEUU autoriza a Obama ejercer poderes totales y control absoluto de recursos: CISPA, mucho peor que la Ley SOPA http://t.co/qF22AsjO\",0\n",
      "1077,http://t.co/BAUROUue,0\n",
      "1076,\"BUM! Obama \"\"threatens\"\" supreme court justices considering repealing his unconstitutional healthcare law. Nice move bum!\",0\n",
      "1075,\"RT @DANEgerus: #WhatsRomneyHiding Mitt actually got a paycheck, and met a payroll, while Obama has looted the tax-payer his whole life\",0\n",
      "1074,\"62% of U.S. Jews would reelect Obama, 4% say Israel is most important issue - Haaretz http://t.co/VhURDtdO http://t.co/gIGmn5kE\",1\n",
      "1073,A vote for @RonPaul or @TheRealRoseanne is a vote for obama,0\n",
      "1072,Not good for the D Party. http://t.co/wJVdoGyI,1\n",
      "1071,\"RT @AP_Ken_Thomas: #Obama at DC fundraiser: \"\"It's going to be a fun debate because it's always good to have the truth on your side.\"\" #2012\",2\n",
      "1070,RT @RoheezyDoesIt: Obama is the miggity man!,0\n",
      "1069,\"@pritikothari I dont really care what obama's hiding either, still voting for him!\",0\n",
      "1068,\"@YahooNews What is a \"\"white Hispanic?\"\"   http://t.co/QTdmKZQe  Is Obama a white African American? Why do you use this racist term?\",1\n",
      "1067,RT @texaszman: War On Children: Liberals Attack Scott Walker's Kids. Liberal 'Civility' - Just Like Obama Promised. http://t.co/vdBXgsyk,1\n",
      "1066,#WhatsRomneyHiding the reality of losing the election to President Obama,0\n",
      "1065,#whatsromneyhiding Obama's college transcripts,0\n",
      "1064,\"Napolitano Caught Hiring Muslim Brotherhood Terrorist, Giving Him Top-Secret Security Clearance\",1\n",
      "1063,,0\n",
      "1062,http://t.co/B2WIWFrV,0\n",
      "1061,RT @anna12061: Another Obama Buddy!,0\n",
      "1060,@sweetbay That was Paul Ryan's budget. How did Obama's budget do? Getting educated on the facts is the first step in losing that liberalism!,1\n",
      "1059,\"RT @/SheCallsMeLarryThe \"\"new\"\" anti-Obama slur from the #RWNJ echo chamber is THUG? So we've decided to just let ... http://t.co/lFYgXSNS\",0\n",
      "1058,Koch brothers linked to $3.6M anti-Obama gas price ad campaign - http://t.co/oZwYTqxX: http://t.co/acZt9PW2 via @POLITICO #Dems #p2b #p2,0\n",
      "1057, #tcot... http://t.co/oVMu9fKA,0\n",
      "1056,RT @/ThirdRailersObama Autopen Missing: Lost Bills found - Obama Autopen Missing:... http://t.co/8HYLEeNW,0\n",
      "1055,RT @preciousliberty: Obama is the biggest brother in the Muslim Brotherhood: he's funding Hamas & al-Qaeda via Libyan rebels http://t.co/NcJH7Jgb #citizensunited,0\n",
      "1054,Clearly Mr. Obama intended to bully and bring public pressure on the Supreme  Court re ObamaCare. We don't need further explanations.,0\n",
      "1053,RT @CaptivatingNews: Obama Campaign Hosting Women's Issue Conference http://t.co/EaNtlmO0,0\n",
      "1052,#prayersgoup lol RT @_Ciroc_Obama: Mannnnn hope dey pass dat gas cap tax...it could end up makin gas $2.50 a gallon wooo,1\n",
      "1051,\"That he thinks Obama is a dangerous, incompetent socialist jerk, but can't really say that #tcot #WhatsRomneyHiding\",0\n",
      "1050,\"RT @Professor_Why: #WhatsRomneyHiding - his plan to push bad loans through for Green energy just to see 'em go bankrupt... Oops, that's Obama again!\",0\n",
      "1049,Obama. #drawsomething @therealdwele showing off http://t.co/KJc4gJso,0\n",
      "1048,\"From Ignatius: \"\"U.S. officials hope [Putin] can broker a Syria deal before he meets Obama at the G-8 summit next month.\"\"\",2\n",
      "1047,RT @4Mitt4USA: #WhatsRomneyHiding is that he can easily defeat Obama. Hes just trying to be nice at the moment,0\n",
      "1046,\"RT @idkmanilove1D: OMFG FIRST CAROLINE, NEXT MICHELLE OBAMA, NOW SOPHIA? Hazz.. Look he is staring at her ass... http://t.co/UiNfpoYP\",0\n",
      "1045,Free country can have a all male club... Piss on you and Obama @edshow Women at Augusta? Obama says absolutely. ... http://t.co/GaLabbKb,1\n",
      "1044,\"@jaguarfreckles @truebornstark IDK. I just saw that Michelle Obama invited them to perform and they said \"\"no, thank you\"\".\",1\n",
      "1043,Shout out to @RyanFecteau for the cool work he's doing with the Obama campaign #Pride2012 http://t.co/AnxszxJn,0\n",
      "1042,RT @Tacami222: #TCOT This says it all......Obama Caught Lying-In His Own Words: http://t.co/sTR0vyJK #bcot #NoObama #liar #socialist #marxist #deceit #fail,0\n",
      "1041,\"@tsagliani oh how I agree and Obama is leading them, the Bastard\",0\n",
      "1040,\"If this were George Bush instead of Michelle Obama, it'd be about 90% of all of my group projects. #asklessofbusiness http://t.co/q04cVYix\",0\n",
      "1039,\"Doesn't matter to Libs that Obama's the one avoiding honesty. If they accuse first, they think they're golden. But they understimate #tcot!\",2\n",
      "1038,RT @searfoss70: Unreal: Obama Regime Release $1.5 Billion In Aid To Egypt After Meeting With Muslim Brotherhood http://t.co/qmkaNjER #becktips #tcot,0\n",
      "1037,RT @DS_CT: It's a sorry state of affairs when the US President menaces other branches of government. Obama mocks and menaces like governing is sport.,0\n",
      "1036,\"@TPO_Hisself @barackobama Literally, i walk around talking on my cell phone 2 obama, I tell him to shut up, that he's light tan not black\",0\n",
      "1035,The GOP is the white whale. Obama is Ahab climbing up the harpoons & Dems are complaining it's not tail dancing & making flipper noises yet.,0\n",
      "1034,RT @globeandmail: Obama takes a swing at all-male Augusta National http://t.co/LUw7Ky66,0\n",
      "1033,\"http://t.co/uMhu62nd Obama, if you had a son, would he look like any of these fine youngsters?\",1\n",
      "1032,\"@markknoller \"\"Saul says Pres Obama \"\"will do anything\"\" to distract Americans from his \"\"failed\"\" economic record ..\"\" Saul Alinsky said that?\",1\n",
      "1031,\"@solomongebbs :O For saying that One Direction looked gay! That was an insult to me, them, and Obama!\",0\n",
      "1030,@edshow Pres. Obama understands right from wrong! And doesn't need to flip flop around to get votes! #UniteWomen #edshow,0\n",
      "1029,Barack Obama.. COMMERCIAL come on!,0\n",
      "1028,RT @preciousliberty: Obama hands over $3.5 billion in Libyan liquid assets to Hamas & al-Qaeda via Libyan rebels http://t.co/NcJH7Jgb #citizensunited #tlot,0\n",
      "1027,\"RT @JoeSixpackSays: LETS DRAFT SHERRIFF JOE for Independent Prosecutor, hah? Lets have a GRAND JURY! OBAMA MUST GO! #tcot\",2\n",
      "1026,RT @markknoller: Obama Campaign says Romney should make public 23 years of tax returns so Americans can assess any conflicts of interest.,1\n",
      "1025,NPR Topics: Politics-Obama's Signing Of JOBS Act Likely Won't Dim GOP Charge He's Anti-Jobs http://t.co/22GPDvLM,0\n",
      "1024,RT @LyndsayFarlow: Steve Forbes Warns of New Obama Recession if Re-Elected http://t.co/xcNDC7jK @Fingersflying,0\n",
      "1023,\"Dear #dmv_twitter, wondering where the dudes at? They at the Kappa-fest... I mean the Park-Obama fundraiser on the 3rd floor. #thankmelater\",0\n",
      "1022,RT @globeandmail: Obama takes a swing at all-male Augusta National http://t.co/LUw7Ky66,0\n",
      "1021,\"#WhatsRomneyHiding his secret 'more flexible' plans with Russia? Nope, Obama again.\",1\n",
      "1020,To how many foreign leaders has Obama promised post-election flexibility? ~NEWT At http://t.co/wX1RzFKm #tcot #tlot #tpp #tpn #sgp #withnewt,0\n",
      "1019,@BarackObama @MittRomney we wil when #obama releases his college records and  the passport he traveled to Pakistan with,0\n",
      "1018,\"In his teen years, Obama has been known to use marijuana and cocaine.\",0\n",
      "1017,\"Obama has called the GOP budget social Darwinism. Nice try, but they believe in social creationism.\",1\n",
      "1016,\"RT @jazzcattrio: Consistently very good jobs reports, auto industry rebounds, Pres. Obama signs Jobs Act....& GOP responds: \"\"He's destroying America!\"\" #p2\",1\n",
      "1015,Liberal #SteveJobs: Obama's business killing regulations forces Apple to build in #China #cnn - http://t.co/Yd8jzwoV,1\n",
      "1014,\"RT @BelleInABow: Obama doesn't need to be your favorite person, but he's still the President of the United States of America. That always deserves respect.\",1\n",
      "1013,\"I'm Michelle Obama, u Kim K, C'mon bitch u see where the black president at?\",0\n",
      "1012,Dumb Obama my 4year old brother could do a better job sher there would be alot of Legos and candy but it would be better,1\n",
      "1011,@CNNnewsroom @sierchioM..good obama..now rep.act'g in agreement-wow?,1\n",
      "1010,So good I gotta tweet it again: Is Barack Obama A Soviet Spy? Operation Hot Mic - http://t.co/KW9dn9wq via @WestJournalism,2\n",
      "1009,@MichelleObama lol u go miss obama u look so pretty,1\n",
      "1008,I'm THINKIN' that OBAMA WAS OVERSOLD #justsayin ==&gt;RT @River_City: #Duh Biden Adviser: Green jobs oversold http://t.co/q5iS0Fyq,0\n",
      "1007,Obama signs small business legislation - Yahoo! News http://t.co/9JQdRBUs,0\n",
      "1006,Nancy Pelosi | Obamacare | Barack Obama | Supreme Court | The Daily Caller http://t.co/DrZl9zwA via @addthis,1\n",
      "1005,#WhatsRomneyHiding saying that he should  b president bc he will improve private sec. job growth..which Obama has done 4 the past 24 months.,1\n",
      "1004,Obama holds high-end fundraisers at DC hotels - AP Online http://t.co/Ng1MH6hO #obama,0\n",
      "1003,\"#WhatsRomneyHiding - the fact that he'll start idiotic hashtags that'll get taken over by Conservatives... Oh wait, that's Obama! #caring\",0\n",
      "1002,\"RT @schwingcat: That his campaign disabled credit card verification on his online donation site #WhatsRomneyHiding #OhWait,that's Obama http://t.co/3fgWm3n4\",0\n",
      "1001,President Obama * Lindsay Lohan RUMORS beginning cross shape lights on ST * 1987 Analyst64 DC bicycle courier * Video changes to scramble.,0\n",
      "1000,The halved deficit Obama promised? #WhatsRomneyHiding,0\n",
      "999,RT @TimothyNoah1: What Obama should have said was: Let's term-limit Supreme Court justices. http://t.co/RaKHSwfn,1\n",
      "998,Full Metal Jacket's R. Lee Ermey Rips Into Obama Administration: http://t.co/rXWlPBKQ via @youtube,0\n",
      "997,RT @PAC43: Reforming an Obama supporter is like trying to pick up poop by its clean end,1\n",
      "996,\"RT @HarryFacts1D: ''Harry Styles describe a Michelle Obama como una mujer muy atractiva.'' OBAMA ESCONDE A TU ESPOSA Y A TUS HIJOS, STYLES VIENE EN CAMINO.\",0\n",
      "995,RT @handrewschwartz: Ignatius reports Obama signaled Iran US wld accept civ nuke pgm if Khameni can assure Iran will never get nuke weapons http://t.co/KkaAhGPq,1\n",
      "994,RT @TylerSadonis: Shout out to @RyanFecteau for the cool work he's doing with the Obama campaign #Pride2012 http://t.co/AnxszxJn,0\n",
      "993,It's driving Liberals crazy that they can't find any skeletons in Romney's closet. In the case of Obama it's one every day.,0\n",
      "992,#KimKardashiansNextBoyFriend barrack obama,0\n",
      "991,RT @A_liketheletter: #WhatsRomneyHiding the reality of losing the election to President Obama,0\n",
      "990,RT @EMcLean1982: #WhatsRomneyHiding nothing compared to this  MT @informedblackmn: Proof that Obama is accepting funny money.  http://t.co/TTnhii6A,1\n",
      "989,President Obama Signs the Jumpstart Our Business Startups (JOBS) Act: An Attempt to Ease... http://t.co/4IOwLqh1 (via @Media_Laws),1\n",
      "988,PolitiFact | Obama says Republicans in Congress won't name one tax exemption they want to repeal http://t.co/HdJiGiMe via @politifact,0\n",
      "987,#Yahoo #Trend McConnell says in Lexington that Obama is trying to 'intimidate' court http://t.co/PsXJ71R3 #TeamFollowBack Goo,0\n",
      "986,\"\"\"@Common_Sense4U: Bogus #Obama SOTU Poll - #Yahoo! Publishes Another Liberal Propaganda Piece as News!. #teaparty  http://t.co/OGyR4YUk\"\"\",0\n",
      "985,@Harry_Styles on a scale of 1-10 how attractive is this?...and don't say michelle Obama. http://t.co/YiFq4PKT,1\n",
      "984,RT @Talkmaster: Oh now I get it. Obama was talking in shorthand and we were just too dumb to understand how smart he really is.  Gagme.,1\n",
      "983,\"In the year 3087, a cryogenically-reborn Barack Obama meets Newt Gingrich on the moon, his kingdom; a duel for Saturn beings #futuremoonNewt\",0\n",
      "982,Obama at AP luncheon: Newshounds in heat. Details at http://t.co/rkNdEmIy #tlot #withnewt #tcot #tpp #tpn #sgp #sot #MSM #nra #lnyhbt #usmc,0\n",
      "981,\"RT @ohgirlphrase: American kid \"\"You're from the UK? Ohhh cool, So do you have tea with the Queen?\"\". British kid: \"\"Do you like, go to Mcdonalds with Obama?\",0\n",
      "980,RT @handrewschwartz: Ignatius reports Obama signaled Iran US wld accept civ nuke pgm if Khameni can assure Iran will never get nuke weapons http://t.co/KkaAhGPq,1\n",
      "979,\"#Romney is right #Obama should STOP LYING ABOUT 4 million new jobs NOT CREATED  Killing AMERICAN CITIZENS  ,HC FRAUD #GOP #DEM #p2\",0\n",
      "978,\"@benhurleycomedy haha is the first person you followed, Obama?\",0\n",
      "977,President Obama * Lindsay Lohan RUMORS beginning * 1987 Analyst64 was protected * Future time-line indicator * Scramble scam mode video.,0\n",
      "976,\"@blakehounshell @handrewschwartz yeah, i just opened, read lede. My edit: \"\"Obama has signaled no change in longstanding US position\"\"\",1\n",
      "975,Barrack obama be talking shit about mitt romney on twitter lololol hella funny,1\n",
      "974,RT @edshow: Women at Augusta? Obama says absolutely. Romney hedges. Comment on FB or tweet so we can share on #edshow!,0\n",
      "973,Pictures of Obama and Larry Sinclair #WhatsRomneyHiding,0\n",
      "972,\"#WhatsRomneyHiding His college records... Oh, wait that's Obama.\",0\n",
      "971,\"Obama's only hope: That a majority of Americans are morons. (GIven that he got elected once, should that thought give me comfort?) #hhrs\",1\n",
      "970,\"RT @HarryFacts1D: ''Harry Styles describe a Michelle Obama como una mujer muy atractiva.'' OBAMA ESCONDE A TU ESPOSA Y A TUS HIJOS, STYLES VIENE EN CAMINO.\",0\n",
      "969,A lady gave me a real dollar that said Obama is a dirty rat bastard. Oh hell naw!,0\n",
      "968,RT @NMsly: @marymauldin Nothing is ever a coincidence w/Obama. He CLEARLY speakes w/his actions...like hosting (cont) http://t.co/D9qwckJ3,1\n",
      "967,\"RT @schwingcat: That his campaign disabled credit card verification on his online donation site #WhatsRomneyHiding #OhWait,that's Obama http://t.co/3fgWm3n4\",0\n",
      "966,\"#WhatsRomneyHiding How he told AIPAC he'd \"\"have Israel's back\"\" in dealing with Iran, then backtracked. No, wait. That was Obama.\",0\n",
      "965,RT @iowahawkblog: Taking Constitutional Law from Barack Obama is like taking Auto Shop from Barack Obama. #ormathorscienceorhistoryorteleprompterrepair,0\n",
      "964,Me and my Amp sis Khady when President Obama got elected and Nyrell looking like a fool in the background lo http://t.co/nBAjvfWA,0\n",
      "963,\"\"\"@southsalem: #VetThePrez #ArmyofBreitbarts RT @Bellanieve: Photos: Obama marched with New Black Panthers http://t.co/JaHy0cnn\"\"\",0\n",
      "962,RT @marymauldin: OBAMA HONORS the wkwnd of Holy Passover 4 Jews & Holy Passion of Jesus by hosting MUSLIM BROTHERHOOD who wld murder both Jews & Christians,2\n",
      "961,\"RT @JeffersonObama: 62% of U.S. Jews would reelect Obama, 4% say Israel is most important issue - Haaretz http://t.co/VhURDtdO http://t.co/gIGmn5kE\",1\n",
      "960,@edshow Is the GOp war on women a fact?? Does a bear sleep in the woods?? Go Obama 2012,0\n",
      "959,Marine Faces Dismissal for Criticizing Obama on Facebook: By Barbara E. Hernandez A marine facing discharge afte... http://t.co/7UpYOSnI,0\n",
      "958,\"Um, who really gives a rats ass about golf in Augusta & the new IBM CEO? Who is the reporter that asks & idiot #Obama responds? #tcot\",0\n",
      "957,President Obama * Lindsay Lohan RUMORS video sec 50 to 56 visual special effects = human soul indicator * Covert overt connector.,0\n",
      "956,Obama has message for you: LIVE FREE OR DIE HARD  http://t.co/SPn6jMXH #sopa #ndaa #occupy #ows #ronpaul @occupymarines #freedom,2\n",
      "955,\"RT @blessmyliberty: Obama will portray #Romney as a rich, white guy outta touch w/the working class whos policies are similar to his so why not keep the hip cat\",2\n",
      "954,\"RT @SgtPolite: #WhatsRomneyHiding HINT, it's NOT Barack \"\"TelePrompter\"\" Obama's College Transcripts, NOBODY can find those! #tcot #p2 #ocra #Obama2012\",0\n",
      "953,RT @1Dlover_carrots: @Harry_Styles on a scale of 1-10 how attractive is this?...and don't say michelle Obama. http://t.co/YiFq4PKT,1\n",
      "952,@Trigonis  people say Obama is inept. This proves it. :-)),0\n",
      "951,Good luck getting to class Tuesday when obama comes to FAU... @FAU_Problems,2\n",
      "950,\"#WhatsRomneyHiding That President Obama is so jealous about anyways? Cant be self-generated wealth, can it&gt;\",0\n",
      "949,Gas over $4/Gal in my neighborhood today. Thanks #Obama! #FireObama #DrillHereDrillNow #Oil #NatGas #PickensPlan #NGVs http://t.co/NkIYIkj1,0\n",
      "948,\"RT @Gabby_Hoffman: We want a president with a spine, not a president with fecklessness. America can do better than Obama. #resist44 #tcot RT if you agree!\",1\n",
      "947,Great photo!! LLAP!!  #trekkers RT @GuyKawasaki: Barack Obama: Vulcan? http://t.co/UejtlmGt,1\n",
      "946,\"RT @krauthammer: Obama v SCOTUS. The preemptive liberal attack on the Court: unseemly, hypocritical, illogical. Strong letter to follow. http://t.co/uJwEroyW\",0\n",
      "945,A couple of months ago Finnish officials found sixty of our Patriot missiles on a ship bound for China. Expect big Chicom donor$ to Obama,1\n",
      "944,#WhatsRomneyHiding The recipe to Dr. Obama's Miraculous Algae Tonic.,1\n",
      "943,RT @robertcobrien: Obama: .@USNavy won't get 345 ships called for in QDR; not 313 min necessary 4 missions; but less than 300 ships! http://t.co/CQpMvkDJ,0\n",
      "942,Concerning allegations about the firing of someone in the Obama admin whose job it was to uphold science integrity: http://t.co/1nDIfI3y,1\n",
      "941,Green groups sue EPA over coal ash rules: The Obama administration is going into a tough election year fighting ... http://t.co/T4aopGDD,0\n",
      "940,Obama's tax returns from the 80s and 90s? #WhatsRomneyHiding,0\n",
      "939,\"\"\"once we have passed from bondage to liberty, how do we make the most of all that God has given us\"\" ~ President Obama's Passover address\",0\n",
      "938,\"Examiner Editorial: Obama's budget, not Ryan's, is 'antithetical' to history: Speaking at the American Society o... http://t.co/t9xniyJG\",0\n",
      "937,\"RT @ABC: Attorney General Completes Judge's \"\"Obamacare\"\" Homework Assignment http://t.co/WCtllWno\",0\n",
      "936,\"Wash Examiner- Examiner Editorial: Obama's budget, not Ryan's, is 'antithetical' to history: Speaking at the Ame... http://t.co/37kEFtMg\",0\n",
      "935,@JustAnotherMo #WhatsRomneyHiding His contempt for American exceptionalism and the laws of our nation  you forgot:  Oh wait thats Obama.,0\n",
      "934,\"RT @CaptainCook03: And carpool with your friends. If we can stay away from the pump gas prices will drop. It's up to us to lower them, not Obama\",2\n",
      "933,RT @markknoller: Obama Campaign says Romney should make public 23 years of tax returns so Americans can assess any conflicts of interest.,1\n",
      "932,Marine Faces Dismissal for Criticizing Obama on Facebook http://t.co/MpMYwNyi,0\n",
      "931,President Obama * Lindsay Lohan * 1989 RUMORS business 19 TH & M ST NW DC met field agent = multi connector to FFX  VA covert overt zone.,0\n",
      "930,\"62% of U.S. Jews would reelect Obama, 4% say Israel is most important issue - Haaretz http://t.co/kJdeKfKg http://t.co/YuBShHrj\"\"\",1\n",
      "929,RT @BORNCURIOUS: For over 200 years in our great country we were protected by our founders from illegal search & seizure & now under 2 men (obama & GW)KAPUT,0\n",
      "928,BO's college records?RT @markknoller: Obama Campaign says Romney should make public 23 years of tax (cont) http://t.co/G2bb5AIS,0\n",
      "927,\"RT @ohgirlphrase: American kid \"\"You're from the UK? Ohhh cool, So do you have tea with the Queen?\"\". British kid: \"\"Do you like, go to Mcdonalds with Obama?\",0\n",
      "926,\"@ErskineGrier Racism in punishwork for Obama and in penalty against NOLA Saints, the chocolate city.\",0\n",
      "925,RT @JoiningForces: Photo of the Day: First Lady Michelle Obama greets a #WoundedWarrior @ Walter Reed in #Bethesda: http://t.co/IwG56RDK,0\n",
      "924,\"In his teen years, Obama has been known to use marijuana and cocaine.\",0\n",
      "923,\"Obama has called the GOP budget social Darwinism. Nice try, but they believe in social creationism.\",1\n",
      "922,\"62% of U.S. Jews would reelect Obama, 4% say Israel is most important issue - Haaretz http://t.co/kJdeKfKg http://t.co/YuBShHrj\"\"\",1\n",
      "921,RT @BORNCURIOUS: For over 200 years in our great country we were protected by our founders from illegal search & seizure & now under 2 men (obama & GW)KAPUT,0\n",
      "920,BO's college records?RT @markknoller: Obama Campaign says Romney should make public 23 years of tax (cont) http://t.co/G2bb5AIS,0\n",
      "919,\"RT @ohgirlphrase: American kid \"\"You're from the UK? Ohhh cool, So do you have tea with the Queen?\"\". British kid: \"\"Do you like, go to Mcdonalds with Obama?\",0\n",
      "918,\"@ErskineGrier Racism in punishwork for Obama and in penalty against NOLA Saints, the chocolate city.\",0\n",
      "917,RT @JoiningForces: Photo of the Day: First Lady Michelle Obama greets a #WoundedWarrior @ Walter Reed in #Bethesda: http://t.co/IwG56RDK,0\n",
      "916,Foot job act -  Obama assinou hj :-p,0\n",
      "915,#WhatsRomneyHiding Obama putting him out there lol. Damn Obama on some twitter beef,0\n",
      "914,\"he nottt sliccck , tried to get at my boy obama .\",0\n",
      "913,http://t.co/nAESlKQ9,0\n",
      "912,\"RT @PamMcAllister: How about we give him a decent Congress and then \"\"push\"\"? RT @maryfranholm @edwardvirtually Obama will move left only if we push him.\",2\n",
      "911,Romney attacks Obama while barnstorming through Pennsylvania http://t.co/I4J3Q5uG,0\n",
      "910,\"RT @BelleInABow: Obama doesn't need to be your favorite person, but he's still the President of the United States of America. That always deserves respect.\",1\n",
      "909,Obama signs jobs bill in a win for startup companies http://t.co/w77vkYru,0\n",
      "908,RT @blakehounshell: RT @justinwolfers: Private payrolls fell -913k over W's first term; rose +267k over his second term. Obama on track to do better than both.,0\n",
      "907,\"He's half white, so is he half Mitt Romney? RT @wcptersn: If Obama were white, he'd be Mitt Romney.\",2\n",
      "906,\"RT @MrPartisan: #WhatsRomneyHiding How he told AIPAC he'd \"\"have Israel's back\"\" in dealing with Iran, then backtracked. No, wait. That was Obama.\",0\n",
      "905,ACA Can Live Even If Insurance Mandate Dies: http://t.co/MhF1hyPC,2\n",
      "904,\"AT a campaign fundraiser tonight, Pres. Obama again denounced Mitt Romney by name for his support of the House-passed GOP Budget.\",1\n",
      "903,@gretawire Obama's not fooling anyone with a brain about what he's up 2. We all know he's brown nosing them 4 votes. Wine n' Dine stuff!,0\n",
      "902,@alexaforman Obama in Boca!? #saywhatttt,0\n",
      "901,\"RT @derekahunter: I like how Obama asks \"\"#WhatsRomneyHiding?\"\" My guess, Obama's crappy college transcripts. #WhatsObamaSmoking? #Caring #p2 @Messina2012\",0\n",
      "900,Obama Next.....LMAO http://t.co/eEqWimgY,0\n",
      "899,NBC sucks...NBC Accuses Federal Judge of Bringing Politics Into Courtroom By Questioning Obama | Media Research Center http://t.co/2GG53ZII,0\n",
      "898,\"RT @robertcobrien: @jameshohmann: Bill Kristol, WSJ Ed. Bd. & NRO all call on #Santorum to leave race, so that GOP can focus on Obama. @Norsu2 @AudreyLPerry\",0\n",
      "897,RT @handrewschwartz: Ignatius reports Obama signaled Iran US wld accept civ nuke pgm if Khameni can assure Iran will never get nuke weapons http://t.co/KkaAhGPq,1\n",
      "896,Pres. Obama's ongoing support of women is another reason I am so proud he is my President!  @edshow #Obama2012,2\n",
      "895,Obama has a twitter?! Lol I swear he's a thug!,0\n",
      "894,They put Obama in  Hoodie Lol.,0\n",
      "893,\"RT @blakehounshell: From Ignatius: \"\"U.S. officials hope [Putin] can broker a Syria deal before he meets Obama at the G-8 summit next month.\"\"\",2\n",
      "892,\"RT @BORNCURIOUS: The Taliban wins when 2 consecutive arrogant,contemptuos POTUS's (GW & Obama) can strip our freedoms away with a signature\",0\n",
      "891,\"RT @Professor_Why: #WhatsRomneyHiding - his plan to push bad loans through for Green energy just to see 'em go bankrupt... Oops, that's Obama again!\",0\n",
      "890,I'm on the phone with my mom and said I'm on Busch waiting for the bus and she goes on your going to Obama next. LMFAO so lame.,0\n",
      "889,#WhatsRomneyHiding Obama's State Senate records,0\n",
      "888,I am worried that Barack Obama is in bed with Iran.We know that he is leaking classified info on Israel plan.He is not on our side or Israel,0\n",
      "887,\"RT @gardenofthegods: Think the #GOP is engaged in a \"\"War on Women\"\"? Why is #Obama meeting with Women's worst enemy the Muslim Bro. tomorrow at OUR whitehouse?\",0\n",
      "886,\".@Notintheface1 I thought it was more, describe Obama, but instead of using Obama's qualities, list his own. Then hope nobody noticed.\",1\n",
      "885,RT @Salon: Very important for Obama to do him job,1\n",
      "884,\"@mbenzgt I'm glad you can read, yes I did blame bush. That's cool I'm not Obama.\",0\n",
      "883,Opinion Romney-Obama - a contrast in style http://t.co/oZUoyoNN,0\n",
      "882,\"IM QUITE POSITIVE OBAMA WANTS TO GET INSIDE MY PANTS. IM SURE OF IT, I AM SO IMPORTANT IN THE SCHEMA. IM A... http://t.co/8UxiTXT9\",2\n",
      "881,RT @handrewschwartz: Ignatius reports Obama signaled Iran US wld accept civ nuke pgm if Khameni can assure Iran will never get nuke weapons http://t.co/KkaAhGPq,1\n",
      "880,RT @NatlWOW: @edshow Pres. Obama understands right from wrong! And doesn't need to flip flop around to get votes! #UniteWomen #edshow,0\n",
      "879,@Deltagirl1326 @MissusPowell @sevenlayercake You dont really believe that Obama is a Socialist in the way you inferred? O believes in all..,0\n",
      "878,http://t.co/j84POPPR,0\n",
      "877,Obama's Budget: 'Interest Payments Will Exceed Defense Budget' in 2019 | The Weekly Standard,2\n",
      "876,Holder delivers three-page letter to judge over Obama comments | The Raw Story: http://t.co/MuLmPaB2 via @AddThis,0\n",
      "875,\"This just pissed me the hell off. RT @wcptersn: If Obama were white, he'd be Mitt Romney.\",1\n",
      "874,\"Barack Obama, because nothing spells 'champion of the middle class' like $5.00 gas! Go economy!\",1\n",
      "873,[cbs-eve] Video: WH concedes Court's power to kill health care law: The Obama Administration conceded that the S... http://t.co/0TPBphCt,0\n",
      "872,\"RT @BelleInABow: Obama doesn't need to be your favorite person, but he's still the President of the United States of America. That always deserves respect.\",1\n",
      "871,\"RT @truthout: Background on ex-CIA officer John Kiriakou, who Obama admin just indicted 4 allegedly leaking info re: torture program http://t.co/ySzwNRxV\",0\n",
      "870,\"RT @JeffersonObama: 62% of U.S. Jews would reelect Obama, 4% say Israel is most important issue - Haaretz http://t.co/VhURDtdO http://t.co/gIGmn5kE\",1\n",
      "869,\"RT @roobishimmer: #WhatsRomneyHiding Obama released his tax returns since 2000, where are Romney's?\",0\n",
      "868,\"Priceless. Cons take over lame Obama hashtag #whatsRomneyHiding, Obamabots claim America wants to know because it's trending. So much stupid\",0\n",
      "867,RT @pourmecoffee: White House Easter Egg Roll is Monday. Obama redistributing eggs. #socialism,1\n",
      "866,@markknoller @obama should release all of his transcripts from all of the colleges he attended.,0\n",
      "865,Michelle Obama being in on the heist (not even really being married to Barack) is the icing in on the cake!,1\n",
      "864,@keder not to start an argument but when did Obama disrespect religious freedom?,0\n",
      "863,President Obama * Lindsay Lohan * USA Intel public scams * Press 2007 pissed off Analyt64  = DC courier type magnet on USA White House.,1\n",
      "862,\"http://t.co/oLxGUJE0 Whats with Obama and his pitching, looks like a girl!\",0\n",
      "861,#whatsromneyhiding is his plan to kick obama and his pack of liberal stooges out of DC,0\n",
      "860,\"RT @markknoller: AT a campaign fundraiser tonight, Pres. Obama again denounced Mitt Romney by name for his support of the House-passed GOP Budget.\",1\n",
      "859,\"RT @GlobalGrind: Picture Perfect! Jay, Barack, Bey & Michelle are perfectly posed..photos &gt;&gt; http://t.co/XpXJJp9c\",2\n",
      "858,\"RT @JeffersonObama 62% of U.S. Jews would reelect Obama, 4% say Israel is most important issue - http://t.co/H2ZSl5ro http://t.co/NTDdbMbj\",1\n",
      "857,\"RT @ohgirlphrase: American kid \"\"You're from the UK? Ohhh cool, So do you have tea with the Queen?\"\". British kid: \"\"Do you like, go to Mcdonalds with Obama?\",0\n",
      "856,\"RT @gardenofthegods: Think the #GOP is engaged in a \"\"War on Women\"\"? Why is #Obama meeting with Women's worst enemy the Muslim Bro. tomorrow at OUR whitehouse?\",0\n",
      "855,\"RT @Stewart7Donna: Checking out \"\"Obama Puts Heat on Fox News to Prevent Hannity from Airing this \"\" on Constitutional Emergency: http://t.co/XwY62sep\",0\n",
      "854,Time has come. #Anonymous #Revolution #2012 - http://t.co/3qzdFw1C #Occupy #OWS #Obama #RonPaul #TheAnonMessage http://t.co/Pu73AOEV,1\n",
      "853,\"@oreilly_updates Had to turn off OReilly again tonight. When he starts slobbering over Obama w/his \"\"I want to be fair to the president\"\" BS.\",1\n",
      "852,\"RT @WhatTheFFacts: In his teen years, Obama has been known to use marijuana and cocaine.\",0\n",
      "851,@markknoller Then @obama should release all of the financial documents from all of his street-organizing organizations!,0\n",
      "850,President signs a bipartisan bill to help small business startups. @ASBA  http://t.co/qUWT4WOL,1\n",
      "849,@VoteHillary2012 @TheRealRoseanne Is Hillary running 4 Pres? We need 2 know. Tell her she will win this time. Fed up with B.S. @ obama!!,0\n",
      "848,RT @therightsarah: #WhatsRomneyHiding a bloody plan to put guns in cartel hands to force stricter gun laws on Americans? Nope. That's Obama. #FastAndFurious,0\n",
      "847,Obama's college records? #whatsromneyhiding,0\n",
      "846,RT @markknoller: Obama Campaign says Romney should make public 23 years of tax returns so Americans can assess any conflicts of interest.,1\n",
      "845,\"RT @fredthompson: In VT, Obama said he supports \"\"value\"\" that \"\"I am my brother's keeper.\"\" In that case - brother, you're spending too much of our money. #tcot\",0\n",
      "844,\"In 2004, he released his autobiography My Life, and was involved in his wife's and then Barack Obama's campaigns for president in 2008\",0\n",
      "843,Obama needs remedial course in judicial review.Read at http://t.co/wX1RzFKm #twisters #tcot #tpp #sgp #tlot #vettheprez #lnyhbt #withnewt,0\n",
      "842,\"RT @blakehounshell: From Ignatius: \"\"U.S. officials hope [Putin] can broker a Syria deal before he meets Obama at the G-8 summit next month.\"\"\",2\n",
      "841,@TrackVeteran: Im the Obama of #TrackNation,0\n",
      "840,\"@tajan1 @messina2012 @lilrascal01 hiding his money from that lying cheating, baby killing Obama!\",0\n",
      "839,\"It's Tax Time: Is It Also a Time to Occupy the IRS?: This April, send a message to President Obama, It's Time to... http://t.co/ab54HUve\",0\n",
      "838,\"Obama eligibility, birth... http://t.co/j9IJJsL5\",0\n",
      "837,@BrianBrownNet: Exposing the Obama-Soetoro deception - ,0\n",
      "836,High Gas Prices Drive Suburbanites Into #blueCity areas As Obama Plan Soars...Communal Living http://t.co/u0GrbKfi #redstate #GA #sprawl,1\n",
      "835,Obama 2013 Budget Proposal: Bringing Down the Deficit and Turning Around the Economy By Raising Taxes and ... http://t.co/OSb2gr3f,0\n",
      "834,Ngakak bahhh.. Obama nyanyi sexy and i know it ama bornthisway... Akakakaka,1\n",
      "833,@DanMoffTarkin Yeah. Even though he's like an honest Obama in his policies.,2\n",
      "832,Obama entrando en Skateboard y que si es real http://t.co/Sm9s2o9i LIKE A BOSS,1\n",
      "831,\"@djtechchicago I see. Hmm, need a good #obama hash tag...\",0\n",
      "830,\"In his teen years, Obama has been known to use marijuana and cocaine.\",0\n",
      "829,\"Obama has called the GOP budget social Darwinism. Nice try, but they believe in social creationism.\",1\n",
      "828,Ngakak bahhh.. Obama nyanyi sexy and i know it ama bornthisway... Akakakaka,1\n",
      "827,@DanMoffTarkin Yeah. Even though he's like an honest Obama in his policies.,2\n",
      "826,Obama entrando en Skateboard y que si es real http://t.co/Sm9s2o9i LIKE A BOSS,1\n",
      "825,\"@djtechchicago I see. Hmm, need a good #obama hash tag...\",0\n",
      "824,\"RT @schwingcat: That his campaign disabled credit card verification on his online donation site #WhatsRomneyHiding #OhWait,that's Obama http://t.co/3fgWm3n4\",0\n",
      "823,\"I wonder who'd win in a footrace, Barack Obama or Mitt Romney...stereotypes tell me Bam...but those things aren't very reliable are they\",1\n",
      "822,RT @Spidyy32: Obama gotta Portugeese Water Dog (:,0\n",
      "821,@Messina2012 because of people making fun of the intense irony of the ultra-secretive obama asking what romney's hiding.,0\n",
      "820,\"RT @ohgirlphrase: American kid \"\"You're from the UK? Ohhh cool, So do you have tea with the Queen?\"\". British kid: \"\"Do you like, go to Mcdonalds with Obama?\",0\n",
      "819,Obama Administration Delivers Letter to 5th Circuit Court of Appeals  http://t.co/mU1aHVLs via @AddThis,0\n",
      "818,@edshow Obama is the only one representing women!!!,0\n",
      "817,@markknoller so when is Obama going to do the same.,0\n",
      "816,THIS RT @baseballcrank  #WhatsRomneyHiding Obama's State Senate records,0\n",
      "815,RT @baseballcrank: #WhatsRomneyHiding Obama's State Senate records,0\n",
      "814,\"How can FoxNews asked the question, \"\"Is Obama using intimidation tactics toward the Supreme Court?\"\"  It's (cont) http://t.co/BnBgHZx0\",0\n",
      "813,\"@edshow Mr Schultz I just seen the HBO documentary hot coffee.I feel so upset,  we need four more  years of President  Obama 1000% certtain!\",0\n",
      "812,@edshow: Obama is the only one standing up for WOMEN #edshow!,0\n",
      "811,RT @baseballcrank: #WhatsRomneyHiding Obama's State Senate records,0\n",
      "810,#WhatisRomneyHiding he's not Barack Obama. #WhatsObamaHiding he wants to run on anyone but his own record.,0\n",
      "809,RT @PAC43: Reforming an Obama supporter is like trying to pick up poop by its clean end,1\n",
      "808,\"@PAC43 Thats the problem...there is no clean end to an Obama supporter. One side is Poop, and the other side is pure crap...\",2\n",
      "807,RT @kesgardner: Obama's college records? #whatsromneyhiding,0\n",
      "806,\"RT @blakehounshell: From Ignatius: \"\"U.S. officials hope [Putin] can broker a Syria deal before he meets Obama at the G-8 summit next month.\"\"\",2\n",
      "805,\"RT @JeffersonObama: 62% of U.S. Jews would reelect Obama, 4% say Israel is most important issue - Haaretz http://t.co/VhURDtdO http://t.co/gIGmn5kE\",1\n",
      "804,\"Obama se opone al \"\"sexismo en el golf\"\" en el Augusta National http://t.co/qSyEjCZR\",0\n",
      "803,@funkmasterflex Kinda remind me of Obama's citizenship certificate :P,0\n",
      "802,RT @pourmecoffee: White House Easter Egg Roll is Monday. Obama redistributing eggs. #socialism,1\n",
      "801,\"RT @commondreams: Obama Signs \"\"Fraud-Friendly\"\" JOBS Act into Law http://t.co/2gnXDo0f\",0\n",
      "800,\"RT @A_Khanivore: This just pissed me the hell off. RT @wcptersn: If Obama were white, he'd be Mitt Romney.\",1\n",
      "799,\"RT @TPO_Hisself: Obama Wants Our Vets to Pay for Their War Injuries, but Illegal Immigrants Get Free Medical Care!  http://t.co/pKDwxfGK\",0\n",
      "798,RT @kesgardner: Obama's college records? #whatsromneyhiding,0\n",
      "797,\"@MittRomney Yes, we all have weaknesses, but it seems as if your whole plan is to attack Obama.\",0\n",
      "796,DAYMN OBAMA TWEETED ROMNEY #SHITGOTREAL,0\n",
      "795,\"RT @JeffersonObama: 62% of U.S. Jews would reelect Obama, 4% say Israel is most important issue - Haaretz http://t.co/VhURDtdO http://t.co/gIGmn5kE\",1\n",
      "794,\"RT @informedblackmn: No wonder Obama hasn't made sense to me lately. I cannot get a handle on super-smart-law-professor jargon.  Example: \"\"uh....um...uh...um....\",1\n",
      "793,RT @kesgardner: Obama's college records? #whatsromneyhiding,0\n",
      "792,U.S. not backing off as Iran sanctions bite - WASHINGTON (Reuters) - The Obama administration's man in charge of squ... http://t.co/ONKneI5X,0\n",
      "791,\"Anyone else notice how Obama runs his flaps on a subject, disappears, then his cronies take over?  #wimp\",0\n",
      "790,\"RT @MarcACaputo: \"\"Jewbags\"\" flap exposes rift in Barack Obama-Debbie Wasserman Schultz World http://t.co/7ZpGu5YT\",0\n",
      "789,Obama Sets Table To Ridicule GOP As US Military Secretly Using Algae Fuel In Naval Ships & Secret Army Airships http://t.co/zkUbbBVN,0\n",
      "788,Obama on Constitutional Law: Did He Lie or Is He Just Ignorant? http://t.co/H1YRpYlV,0\n",
      "787,\"@taylorswift13 0ne more,I don't get awestruck much&WE would be some amazing places,but TPie in the whitehouse,Mmm :-)  http://t.co/1RimJk0Z\",2\n",
      "786,\"RT @rovibe71: FINALLY - A former Obama law student speaks out -- and he can't believe the crap spewing from O's mouth, either: http://t.co/GLopiyOC\",0\n",
      "785,RT @ItsLoopzProd: LOOOOOOOOOOOOOOOOOOOOOOOOOOOOL This is why i rate obama http://t.co/vsOYFhSa,0\n",
      "784,Hatch Makes Startling Accusation Against Obama http://t.co/HVQfUzgr ..shocking headline...NOT&gt;,0\n",
      "783,RT @Drudge_Report: LIMBAUGH: Obama Puts Out Figurative Bounty on Supreme Court... http://t.co/Z552mkRl,1\n",
      "782,@daanxyelll That's very mature. I'm sure Obama would love you propogating that term.,2\n",
      "781,\"@meganagerton Bobby P tells Obama what to do, Megan\",0\n",
      "780,O Barak Obama apresentou hoje o Jornal Nacional...,0\n",
      "779,\"RT @BORNCURIOUS: Thanx to GW/Obama Patriot Act, every phone call,e mail,web site can be recorded by Feds w/o showing any cause or suspicion\",0\n",
      "778,\"RT @A_Khanivore: He's half white, so is he half Mitt Romney? RT @wcptersn: If Obama were white, he'd be Mitt Romney.\",2\n",
      "777,RT @CBrielle5: Obama a goon lol RT @BarackObama: So what's Romney hiding? Tweet @MittRomney to demand he release his tax returns. #WhatsRomneyHiding,0\n",
      "776,RT @AlinskyDefeater: RT If you pledge to vote against Obama in 2012 in an effort to make sure he loses all 57 states. #ocra #tcot #teaparty,1\n",
      "775,\"By the way, it's PRESIDENT Obama. RT @wcptersn: If Obama were white, he'd be Mitt Romney.\",1\n",
      "774,\"Righties call Pres. Obama a \"\"thug\"\" and \"\"bully\"\" for comments on health care law hearings. Comment on FB or tweet so we can share on #edshow!\",0\n",
      "773,Everyone hatin on obama here at work....,0\n",
      "772,\"RT @psema4: RT @PiratePartyGa: Tell Obama And Dodd: No Backroom Dealing, No New SOPA http://t... http://t.co/Su79rpyv #GFW #FuckGFW #VPN\",0\n",
      "771,Get your FFL license now before Obama starts messing with your gun rights. http://t.co/YtzeLXMt,1\n",
      "770,\"RT @markknoller: AT a campaign fundraiser tonight, Pres. Obama again denounced Mitt Romney by name for his support of the House-passed GOP Budget.\",1\n",
      "769,\"Wingnut Judges Get Two Single-Spaced Pages From Obama, Not Three http://t.co/goZv1VU1 via @motherjones\",0\n",
      "768,RT @AIsForOrg: How Obama Can Win With Women http://t.co/l5Z9C1L7,0\n",
      "767,Obama's college transcripts #WhatsRomneyHiding,0\n",
      "766,@TheDemocrats @MittRomney   Just as soon as obama releases ALL his records.,1\n",
      "765,#Syria #Hama #Homs #Assad #UN #NATO #Obama,0\n",
      "764,I don't even believe there is any good in humanity anymore. ,2\n",
      "763,i aint hear about obama on the news yet . the hell he doing .,0\n",
      "762,RT @nprnews: Obama's Signing Of JOBS Act Likely Won't Dim GOP Charge He's Anti-Jobs http://t.co/4LtEJRbL,0\n",
      "761,Oust Obama - Oust Obama 2012: http://t.co/avHENxrg via @AddThis,0\n",
      "760,\"RT @psema4: RT @PiratePartyGa: Tell Obama And Dodd: No Backroom Dealing, No New SOPA http://t... http://t.co/I004oH6s #GFW #FuckGFW #VPN\",0\n",
      "759,http://t.co/pS9fQaaL idk. does Obama give Muslim terrorists a pass?,0\n",
      "758,\"Obama's Osawatomie Speech: \"\"The United States of America has never worked\"\" http://t.co/qwIsdV2n #tcot #debt #citizensunited #teaparty\",0\n",
      "757,\"Pres Obama slammed Romney for embracing a budget that supports a few doing well at the top, everyone else struggling to get by.\",2\n",
      "756,\"Google stats tell me 223 Americans Who Hate Obama read my blog yesterday. I don't believe it, but if you did visit, AWHOs, don't do it again\",0\n",
      "755,RT @djtechchicago: Obama's birth certificate. #WhatsRomneyHiding,0\n",
      "754,Cloward Piven strategy for capitalist collapse describes Obama eerily well #independents #gop #topprog http://t.co/DbYlHcSh,0\n",
      "753,\"RT @markknoller: AT a campaign fundraiser tonight, Pres. Obama again denounced Mitt Romney by name for his support of the House-passed GOP Budget.\",1\n",
      "752,RT @ParadigmForce: DOJ Issues Letter Clarifying Obama's Remarks: Court's Power to Strike Down Laws 'Beyond Dispute' http://t.co/XelcRaLT via @theblaze mm,0\n",
      "751,Obama verses the court | Conservative Byte http://t.co/uOkvibi8,0\n",
      "750,\"RT @markknoller: AT a campaign fundraiser tonight, Pres. Obama again denounced Mitt Romney by name for his support of the House-passed GOP Budget.\",1\n",
      "749,\"RT @anna12061: Obama Birth Certificate: Anthony Bucco, New Jersey Legislator, Says Issue Unresolved http://t.co/uMDAWA7X via @HuffingtonPost\",0\n",
      "748,\"RT @tweetslikeagirl: #WhatsRomneyHiding His college records... Oh, wait that's Obama.\",0\n",
      "747,\"RT @fredthompson: In VT, Obama said he supports \"\"value\"\" that \"\"I am my brother's keeper.\"\" In that case - brother, you're spending too much of our money. #tcot\",0\n",
      "746,\"RT @HarryFacts1D: ''Harry Styles describe a Michelle Obama como una mujer muy atractiva.'' OBAMA ESCONDE A TU ESPOSA Y A TUS HIJOS, STYLES VIENE EN CAMINO.\",0\n",
      "745,Obama signs small-business legislation http://t.co/w4gUGJIG via @nbcpolitics,0\n",
      "744,@Devils_for_Life lol No Obama is :),0\n",
      "743,Barack Obama's BBQ 2011: http://t.co/tA8pGNuA via @youtube,0\n",
      "742,RT @AlinskyDefeater: RT If you pledge to vote against Obama in 2012 in an effort to make sure he loses all 57 states. #ocra #tcot #teaparty,1\n",
      "741,RT @kesgardner: Obama's college records? #whatsromneyhiding,0\n",
      "740,RT @OrwellForce: Pictures of Obama and Larry Sinclair #WhatsRomneyHiding,0\n",
      "739,\"The actual Barack Obama Campaign And its particular Impact on Future Elections - Other: Sarah Palin, was seeking... http://t.co/NDp6dISb\",0\n",
      "738,Democrats & EPA move to destroy US coal industry http://t.co/NFOS1n9d @ClaireCMC @KayHagan @MarkWarner @SenJimDeMint @MarcoRubio @RandPaul,0\n",
      "737,\"In his teen years, Obama has been known to use marijuana and cocaine.\",0\n",
      "736,\"Obama has called the GOP budget social Darwinism. Nice try, but they believe in social creationism.\",1\n",
      "735,Obama Misquotes Bible on Wealth Redistribution http://t.co/s4XUUW1h Alinskyites r machiavellians not ideologues #tcot #p2 #consnc,0\n",
      "734,\"Very strange. As soon as I volunteered online for the Obama campaign, 2 Republican Party tweeters started following me. Both from SC. Leak?\",0\n",
      "733,@Mamadoxie We'll just have to channel that anger and focus on defeating Obama in November.  No time for whiny and pouting!,0\n",
      "732,\"RT @CAWright77: Anyone else notice how Obama runs his flaps on a subject, disappears, then his cronies take over?  #wimp\",0\n",
      "731,why does everyone hate on obama?,0\n",
      "730,This is cool @Ludacris Is cheezin' big here with Obama http://t.co/EmIhIKWh,0\n",
      "729,Obama's old girlfriends #WhatsRomneyHiding,0\n",
      "728,\"RT @SexeadaPor1D: En el backstage de los KCA's, Harry le pregunto a Michelle Obama como hacia para ordenar pizza desde la Casa Blanca.\",0\n",
      "727,Obama Recycles Speeches  VIDS TO VIEW  http://t.co/NU1LDv2R via @WestJournalism,0\n",
      "726,\"@MalikFloyd Looks like Barack Obama in your twitcon, Lol Vute though &lt;3\",0\n",
      "725,\"RT @ohgirlphrase: American kid \"\"You're from the UK? Ohhh cool, So do you have tea with the Queen?\"\". British kid: \"\"Do you like, go to Mcdonalds with Obama?\",0\n",
      "724,RT @kesgardner: Obama's college records? #whatsromneyhiding,0\n",
      "723,RT @ZekeJMiller: Obama campaign launches #WhatsRomneyHiding campaign on Romney's tax returns featuring a @Messina2012 tweet.,0\n",
      "722,#WhatsRomneyHiding The person who refuses to let Obama be clear,0\n",
      "721,RT @edshow: Women at Augusta? Obama says absolutely. Romney hedges. Comment on FB or tweet so we can share on #edshow!,0\n",
      "720,\"@erockradio you're right! Blame Obama, he could do something if he wanted to. Like open up Alaska for drilling maybe green light a refinery\",2\n",
      "719,Obama Reveals How to Get National Unemployment Rate to 6% http://t.co/qHrUeEoO,0\n",
      "718,\"During the DNC convention later this summer in Charlotte, N.C. there will be an extreme heat wave. All that hot air from speakers & Obama.\",1\n",
      "717,\"RT @ohgirlphrase: American kid \"\"You're from the UK? Ohhh cool, So do you have tea with the Queen?\"\". British kid: \"\"Do you like, go to Mcdonalds with Obama?\",0\n",
      "716,Michelle Obama invited the boys to her Easter party. l0l,0\n",
      "715,#WhatsRomneyHiding He is Obama's half brother.,0\n",
      "714,Think About It - Top Secret Obama 2012 World War 3 Illuminati Antichrist Conspiracy!: http://t.co/iqg1xarL via @youtube,0\n",
      "713,\"RT @VRWCTexan: FACT: Obama swore an oath to \"\"Preserve, Protect & Defend the Constitution of the United States\"\" (NOT pick & choose at his OWN whim) #TCOT\",0\n",
      "712,U.S. not backing off as Iran sanctions bite - WASHINGTON (Reuters) - The Obama administration's man in charge of squ... http://t.co/asaEviZ5,0\n",
      "711,Small Biz News Obama to sign bill to help companies go public http://t.co/w8RSgU6t,1\n",
      "710,\"RT @edshow: Righties call Pres. Obama a \"\"thug\"\" and \"\"bully\"\" for comments on health care law hearings. Comment on FB or tweet so we can share on #edshow!\",0\n",
      "709,Jesse Jackson Meltdown on Live TV - Insults Obama With Crude Remarks: http://t.co/g5qKE6RS via @youtube,0\n",
      "708,RT @DrewMTips: #WhatsRomneyHiding The person who refuses to let Obama be clear,0\n",
      "707,\"RT @drecrumbs: Obama being all direct!! \"\"@BarackObama: So what's Romney hiding? Tweet @MittRomney to demand he release his tax returns. #WhatsRomneyHiding\"\"\",0\n",
      "706,RT @TCOTvideos: Obama's snafu over Supreme Court's job duties give hint as to why he has locked all his college transcripts in Fort Knox. #TCOT,1\n",
      "705,@Obama2012 @truthteam2012 @gop truth is Obama no budget trillions in debt high gas price inflation weak dollar no jobs Can't run on record,0\n",
      "704,RT @Lever_OFA_NH: Obama's Organizational Advantage on Full Display in N.H. http://t.co/ntzCSGeW,1\n",
      "703,Small Biz News Obama to sign bill to help companies go public http://t.co/v68EEZhl,1\n",
      "702,FULLERTON HAS A SUMMER INTERNSHIP AT THE WHITE HOUSE WHAT IF I GET TO MEET OBAMA,1\n",
      "701,\"Speaking of the constitution, if you vote for hussein obama again you should be tried and found guilty of treason against your country j ...\",0\n",
      "700,\"@TPO_Hisself @barackobama people laugh but don't belive I'm really talking 2 obama but i am; not my fault if he's not listening, it's his\",0\n",
      "699,RT @kesgardner: Obama's college records? #whatsromneyhiding,0\n",
      "698,\"RT @BelleInABow: Obama doesn't need to be your favorite person, but he's still the President of the United States of America. That always deserves respect.\",1\n",
      "697,\"Cool democrat rap shirt \"\"OBAMA SAYS KNOCK YOU OUT\"\" -- http://t.co/PUZRq7HU ---- #lazymansmall #obama #Democrats #whitehouse #screwytees\",0\n",
      "696,RT @markknoller: Obama Campaign seizing on Washington Post report on Mitt Romney not disclosing certain details of his income & assets.  http://t.co/zneCZUTo,0\n",
      "695,Who the fuck cares about Obama? Presidents have never directly effected me so I really couldn't care fucking less.,0\n",
      "694,RT @wilycyotee: Pres. Obama's ongoing support of women is another reason I am so proud he is my President!  @edshow #Obama2012,2\n",
      "693,#Syria #Hama #Homs #Assad #UN #NATO #Obama,0\n",
      "692,RT @Habibaty_Souria: I don't even believe there is any good in humanity anymore. ,2\n",
      "691,\"@edshow if Obama is a \"\"thug\"\" for healthcare, then George W. Bush is a criminal mastermind for war.\",0\n",
      "690,\"@Lorebsponge es que no soy lo mejor del word, esta Ghandi, Obama aunque mande misiles a esos lados y tal, son premios Nobeles en la paz.. x)\",0\n",
      "689,Everything Obama did before the age of 35 #WhatsRomneyHiding,0\n",
      "688,@cardinal623:#edshow Great Obama Presentation (for Women)!!,1\n",
      "687,White House Wants YOU To Participate In The State Of The Union Address http://t.co/mWVRGqf8 #SOTU #obama,1\n",
      "686,Lies the Truth: Obama As Dunce - (John Hinderaker) Pretty much everyone is piling on President Obama in connection w... http://t.co/vQ7vnrdC,0\n",
      "685,\"The actual Barack Obama Campaign And its particular Impact on Future Elections - Other: Sarah Palin, was seeking... http://t.co/pbY99uec\",0\n",
      "684,We need to tag Obama & define him for Nov battle. #Obama #failedleader #incompetent #wasteful #divisive #desperate #flexible #arrogant #lazy,0\n",
      "683,#WhatsObamaHiding A list of Obama's broken promises. @Messina2012,0\n",
      "682,RT @betseyross: Obama Misquotes Bible on Wealth Redistribution http://t.co/s4XUUW1h Alinskyites r machiavellians not ideologues #tcot #p2 #consnc,0\n",
      "681,\"Wow the #WhatsRomneyHiding hashtag turned into something pretty pointless. I got excited for nothing. Oh, well. Team Obama let's go! ;)\",2\n",
      "680,http://t.co/XzRRCVaP #tcot,0\n",
      "679,Obama Cozies Up With Egypt's Anti-Western Islamists,0\n",
      "678,Obama prepara a Estados Unidos para una nueva guerra http://t.co/SGo5zdHy,0\n",
      "677,\"RT @ohgirlphrase: American kid \"\"You're from the UK? Ohhh cool, So do you have tea with the Queen?\"\". British kid: \"\"Do you like, go to Mcdonalds with Obama?\",0\n",
      "676,\"Da hora,,, http://t.co/xluoi3GU\",0\n",
      "675,RT @ronpaulrca2012: #Obama FactChecked -- http://t.co/oohsPWzs #Obama2012 #P2 #TopProg #TeaParty #Gop #Gop2012 #Republican #POTUS #Politics #Election2012 #tcot,0\n",
      "674,RT @kombiz: http://t.co/ld3uspIs - this is such a great image .. the difference between Romney and Obama,1\n",
      "673,RT @handrewschwartz: Ignatius reports Obama signaled Iran US wld accept civ nuke pgm if Khameni can assure Iran will never get nuke weapons http://t.co/KkaAhGPq,1\n",
      "672,RT @markknoller: Obama Campaign seizing on Washington Post report on Mitt Romney not disclosing certain details of his income & assets.  http://t.co/zneCZUTo,0\n",
      "671,\"@MittRomney, are you really going to take #WhatsRomneyHiding from Obama? #WhatsBarackHiding is the real question\",1\n",
      "670,#WhatsRomneyHiding Obama's talking points are already stale. He has 0 positive accomplishments 2 run on so It's character assassination time,1\n",
      "669,#WhatsRomneyHiding - He and OBAMA are secret lovers and want to get married! #GOP #tcot,0\n",
      "668,RT @LouTommoBum: Michelle Obama invited the boys to her Easter party. l0l,0\n",
      "667,Obama's Budget: 'Interest Payments Will Exceed Defense Budget' in 2019 http://t.co/oSLQ94QM and he bashes Ryan's budget.,2\n",
      "666,\"RT @ohgirlphrase: American kid \"\"You're from the UK? Ohhh cool, So do you have tea with the Queen?\"\". British kid: \"\"Do you like, go to Mcdonalds with Obama?\",0\n",
      "665,please USA dont deserve Presiden OBAMA 4 years more!,0\n",
      "664,\"Obama's Pretzel Logic: Based on this understanding, any program that puts money into the pockets of the average ... http://t.co/14GbcXGO\",1\n",
      "663,#newbedon 4/6/2012 4:23:05 AM Obama Wins Landslide Presidential Election...With Online Gamers http://t.co/CNjhBxVM,0\n",
      "662,#WhatsRomneyHiding Obama underwears,0\n",
      "661,\"RT @DrewMTips: #WhatsRomneyHiding His association with convicted felon Tony Rezko and domestic terrorist Bill Ayers. Wait, that's Obama.\",0\n",
      "660,The President Obama Who is He? Osama Ben Laden Maybe - Let's Roll Forums: http://t.co/5DLIc25x @letsrollforums,0\n",
      "659,Why did Michelle & Barack Obama become like celebrities? -.- I can't take them seriously now. haha,0\n",
      "658,Pres. Obama signs STOCK act into law. Credit where credit is due. Thank you. http://t.co/42Ak8yAq,0\n",
      "657,#Syria #Hama #Homs #Assad #UN #NATO #Obama,0\n",
      "656,RT @Habibaty_Souria: I don't even believe there is any good in humanity anymore. ,2\n",
      "655,Obama signs JOBS Act to boost startup firms - http://t.co/TFuPTCwT,1\n",
      "654,\"RT @RightWay2: #Romney is right #Obama should STOP LYING ABOUT 4 million new jobs NOT CREATED  Killing AMERICAN CITIZENS  ,HC FRAUD #GOP #DEM #p2\",0\n",
      "653,RT @OrwellForce: Everything Obama did before the age of 35 #WhatsRomneyHiding,0\n",
      "652,RT @LouTommoBum: Michelle Obama invited the boys to her Easter party. l0l,0\n",
      "651,@BarackObama What is #Obama hiding? Fake Birth Certificate... Vote Ron #Paul...,0\n",
      "650,You know things are going bad for the #GOP when they have to resort to calling Obama a communist. THere has to be a corollary of Godwins law,0\n",
      "649,RT @DrewMTips: #WhatsRomneyHiding The person who refuses to let Obama be clear,0\n",
      "648,RT @sugarscape: Ooh an older lady crush for One Direction - but not Harry Styles? HAS THE WORLD GONE MAD? http://t.co/BFzSh3iz,0\n",
      "647,RT @SamValley: #WhatsRomneyHiding Blueprints on how conservatives destroy Obama's lame attempts to launch hashtags.,0\n",
      "646,\"In his teen years, Obama has been known to use marijuana and cocaine.\",0\n",
      "645,\"Obama has called the GOP budget social Darwinism. Nice try, but they believe in social creationism.\",1\n",
      "644,RT @JohnSMackenzie: @jimcramer Bush TARP bailout (hated) = Taxpayer moneymaker. Obama solar company bailouts (not as hated) = taxpayer loss! What's wrong here?,0\n",
      "643,\"historically 2 term presidents do horribly on their second term. so, I haven't been all that eager for obama to serve a 2nd term.. +\",1\n",
      "642,RT @edshow: Women at Augusta? Obama says absolutely. Romney hedges. Comment on FB or tweet so we can share on #edshow!,0\n",
      "641,#WhatsRomneyHiding? His foot in Obama's ass.,0\n",
      "640,\"RT @DrewMTips: #WhatsRomneyHiding His relationship with Vera Baker? Damn, that might be Obama too. I suck at this.\",0\n",
      "639,\"RT @edshow: Righties call Pres. Obama a \"\"thug\"\" and \"\"bully\"\" for comments on health care law hearings. Comment on FB or tweet so we can share on #edshow!\",0\n",
      "638,@Harry_Styles hi Harry! I know u wont notice this but i just wanna congratulate you on KCA! :) even Michelle Obama likes WMYB!,2\n",
      "637,Obama's embarrassing photos on Jim Messina to make him work RT @Messina2012: Americans want to know. Trending #1 in US: #WhatsRomneyHiding?,0\n",
      "636,\"@wolfblitzercnn Wolf  I just seen the HBO documentary hot coffee.I feel so upset, we need four more years of President Obama 1000% certtain\",0\n",
      "635,@NHLWingsfanKay romney is white obama,1\n",
      "634,\"Obama, Romney agree: Admit women to Augusta golf club http://t.co/IMcTUlsH\",0\n",
      "633,RT @NatlWOW: @edshow Pres. Obama understands right from wrong! And doesn't need to flip flop around to get votes! #UniteWomen #edshow,0\n",
      "632,\"Pres Obama sayd \"\"I cannot wait\"\" for the \"\"big important debate\"\" we are going to have on these issues.\",1\n",
      "631,\"#WhatsRomneyHiding is the definition of a social media stunt backfiring. Just sayin, #Obama.\",0\n",
      "630,@edshow Pres.Obama is showing respect for women while the #GOP & the ole boys club keeps kicking us in the teeth. Obama 2012 is a no brainer,1\n",
      "629,#NightRyder,0\n",
      "628,#KimKardashiansNextBoyFriend Obama,0\n",
      "627,How come he's such a dimwit then? http://t.co/S5H0Er1B,0\n",
      "626,RT @OrwellForce: Everything Obama did before the age of 35 #WhatsRomneyHiding,0\n",
      "625,\"RT @Professor_Why: #WhatsRomneyHiding - the fact that REAL unemployment is at 19%... Oh wait, that's Obama, not Romney...\",1\n",
      "624,\"RT @JeffersonObama: 62% of U.S. Jews would reelect Obama, 4% say Israel is most important issue - Haaretz http://t.co/VhURDtdO http://t.co/gIGmn5kE\",1\n",
      "623,Sharing: http://t.co/ztufxsn1 Czech Press: More is know about the Birth of Jesus a millenia ago than about Obama,0\n",
      "622,\"\"\"@LauraFlyMe: Obama's Hidden Past: http://t.co/hRbM9jal via @youtube\"\"\",0\n",
      "621,RT @DS_CT: It's a sorry state of affairs when the US President menaces other branches of government. Obama mocks and menaces like governing is sport.,0\n",
      "620,@therealrc Look at the Barack Obama Chicken Nugget on eBAY. You are not going to believe this.,0\n",
      "619,\"@TheDemocrats I demand to see this alleged Constitutional scholar's college grades. We all know @MittRomney is rich, but is Obama stupid?\",0\n",
      "618,RT @CArepub: We need to tag Obama & define him for Nov battle. #Obama #failedleader #incompetent #wasteful #divisive #desperate #flexible #arrogant #lazy,0\n",
      "617,\"\"\"@Drudge_Report: Obama setting up Supreme Court as campaign issue... http://t.co/89tb9uIl\"\" #NEWSXOOMcom\",1\n",
      "616,\"RT @edshow: Righties call Pres. Obama a \"\"thug\"\" and \"\"bully\"\" for comments on health care law hearings. Comment on FB or tweet so we can share on #edshow!\",0\n",
      "615,\"Professor Norgaard Urged Obama To Ignore Democracy, Public Opinion: Paul Joseph Watson Infowars Climate change a... http://t.co/6nWfVOAx\",0\n",
      "614,Obama should talk about the OIL PRODUCTION HE BOOSTED (NONE) NOT THE PROD. BUSH POLICIES & ACTIONS BOOSTED #TCOT #P2 #OCRA #SGP,0\n",
      "613,Obama's transcripts #WhatsRomneyHiding,0\n",
      "612,Arianna Huffington blasting President Obama at any chance and praising GOP. This pic explains things. http://t.co/Ov6I5CoS,1\n",
      "611,\"RT @TheOnion: Major Obama Donor Accused Of Fraud | \"\"I hope no one vets me. I donated $5 and one time I stole a bracelet from Target.\"\" http://t.co/91ecaJAE\",0\n",
      "610,\"I heard there is a gay porn titled \"\"Obama Been Slobbin\"\" ....now think about who Obama killed in Pakistan\",0\n",
      "609,I liked a @YouTube video http://t.co/MuovhZSc I AM SEXY AND I KNOW IT(Cover By Barack Obama).,1\n",
      "608,#WhatsRomneyHiding ? His REAL feelings about Obama...,1\n",
      "607,\"RealClearPolitics Video - Carney: Obama Not Understood Because He Spoke In \"\"Shorthand\"\" Since He Is A Law Professor http://t.co/vbHf1w9e\",1\n",
      "606,Obama needs to not feed into it,0\n",
      "605,#WhatsRomneyHiding the fact that Obama is corrupt,0\n",
      "604,\"Wow.... \"\"@LauraFlyMe: Proved to be true: Obama -The One Video: http://t.co/e1cPbsY0 via @YouTube\"\"\",2\n",
      "603,Honey trap: Sexy Russian spy cozied up to Obama Cab member. Details at http://t.co/wX1RzFKm #tcot #tlot #tpp #tpn #sgp #sot #withnewt #usaf,1\n",
      "602,@ericbolling #Hillary's gonna challenge #Obama,0\n",
      "601,RT @kesgardner: Obama's college records? #whatsromneyhiding,0\n",
      "600,@seanhannity asking again. Did Obama have some record of drug use?,0\n",
      "599,Why Barack Obama trying to start stuff with our future President? Have some respect for Mitt Romney.,0\n",
      "598,\"McCaskill Calls For Obama to Release Day&Half Supply of Oil From SPR via @MOPNS But Biden says oil policy is \"\"best it's ever been\"\" #MOsen\",0\n",
      "597,\"@edshow The President of the United States, Barack Obama, is all that stands between the rights of the 99% & the Party of Koch & Norquist.\",1\n",
      "596,\"#WhatsRomneyHiding Hmm, probably some ultimate scheme with Obama to steal one of the world's most precious diamonds...just a wild guess.\",1\n",
      "595,RT @DrewMTips: #WhatsRomneyHiding The person who refuses to let Obama be clear,0\n",
      "594,\"@Libertarian_76 Congress will do that, following Paul Ryan's Roadmap. But only if Romney is Pres, so Obama can't veto.\",0\n",
      "593,RT @DrewMTips: #WhatsRomneyHiding The person who refuses to let Obama be clear,0\n",
      "592,Hoping this country dosen't get into a serious debate regarding the merits of Mittens vs Obama.I guess we will. #200daywar,0\n",
      "591,RT @1DfactsOMG: Los chicos conocieron a Michelle Obama y a sus hijas durante el backstage de los KCA RT si a ti te encantaria casarte con los chicos *-*,0\n",
      "590,@TBCDG #WhatsRomneyHiding - OBAMA wants to come out of the closet but Mitt wants to wait until after Elections! #GOP #tcot,0\n",
      "589,RT @LouTommoBum: Michelle Obama invited the boys to her Easter party. l0l,0\n",
      "588,RT @sparrowmedia: Please Share our latest update on the landmark free speech lawsuit against the #NDAA 'Hedges v. Obama' -... http://t.co/GZDMIGVy,0\n",
      "587,RT @LauraFlyMe: I am worried that Barack Obama is in bed with Iran.We know that he is leaking classified info on Israel plan.He is not on our side or Israel,0\n",
      "586,this man had something bad in his hotchoclateRomney Attacks Obama For Spending Too Much Time At Harvard: http://t.co/SaQa8V5w via @youtube,0\n",
      "585,\"#WhatsRomneyHiding: Probably the same shit Obama's hiding. Money, whores, addiction to oxy. Ya know, what most Americans hide.\",0\n",
      "584,\"@AnitaMarks @barackobama @mittromney really? I'd rather know what Obama is hiding with fast &furiius, healthcare & ridiculous policies\",0\n",
      "583,\"RT @markknoller: Saul says Pres Obama \"\"will do anything\"\" to distract Americans from his \"\"failed\"\" economic record incl unemployment & higher gas prices.\"\"\",1\n",
      "582,RT @Talkmaster: Oh now I get it. Obama was talking in shorthand and we were just too dumb to understand how smart he really is.  Gagme.,1\n",
      "581,RT @rochelledp: #prayersgoup lol RT @_Ciroc_Obama: Mannnnn hope dey pass dat gas cap tax...it could end up makin gas $2.50 a gallon wooo,1\n",
      "580,\"RT @thinkprogress: Romney, who has two Harvard degrees, blasts Obama for spending \"\"too much time at Harvard.\"\" http://t.co/avbgNT57 #icymi\",0\n",
      "579,President Obama ^ Lindsay Lohan RUMORS beginning cross shape lights on ST ^ 1987 Analyst64 DC bicycle courier ^ Video changes to scramble.,0\n",
      "578,\"RT @thinkprogress: Romney, who has two Harvard degrees, blasts Obama for spending \"\"too much time at Harvard.\"\" http://t.co/avbgNT57 #icymi\",0\n",
      "577,\"If Jefferson, MLK & JFK were alive, most political experts say theyd vote 4 #RonPaul RT @wcptersn: If Obama were white, he'd be Mitt Romney.\",1\n",
      "576,barrack hussein obama is a traitor and a hater of freedom.,0\n",
      "575,\"RT @JeffersonObama: So despite 62% Jewish Obama support in latest polls, right winger Michael Barone writes Obama losing Jewish vote  http://t.co/0wNSy7T6\",0\n",
      "574,\"I love sodomy! RT @JoeSixpackSays: @jswoopg76 Under Obama, Beastiality & Sodomy, legalized #sodomy\",1\n",
      "573,\"#ILikeObamacare because its my patriot duty to pay way more, for way less, so that Obama can give away his stash. #p2 #tcot #TeaParty\",0\n",
      "572,\"@Nicky2Things always says that Obama=Bush.  I cannot help but wonder what, if anything, is the other thing @Nicky2Things says...\",1\n",
      "571,\"Harry \"\"Yes, I'm secretly Barack Obama.\"\" Me\"\" And I'm secretly your future wife.\"\"\",0\n",
      "570,'Israel should trust Obama to stop Iran nukes' - http://t.co/S8YeopCr,1\n",
      "569,U.S. not backing off as Iran sanctions bite: WASHINGTON (Reuters) - The Obama administration's man in charge of ... http://t.co/GHX5maQk,0\n",
      "568,@edshow #Obama would not have to come out and defend women if #GOP would not do stupid things. #edshow,0\n",
      "567,\"RT @ohgirlphrase: American kid \"\"You're from the UK? Ohhh cool, So do you have tea with the Queen?\"\". British kid: \"\"Do you like, go to Mcdonalds with Obama?\",0\n",
      "566,RT @keder: He likes Israel. Unlike Obama. #WhatsRomneyHiding,0\n",
      "565,\"RT @BelleInABow: Obama doesn't need to be your favorite person, but he's still the President of the United States of America. That always deserves respect.\",1\n",
      "564,#KimKardashiansNextBoyFriend -&gt; Obama,0\n",
      "563,Dick riding obama obama -thugnificent,0\n",
      "562,\"American Kid \"\"You're from the UK? Ohhh cool, so do you have tea with the queen?\"\". British Kid \"\"Do you like, go to Mcdonalds with Obama?\"\"\",0\n",
      "561,@Im_Tyler I apologize you must know more about our government than Obama and those in Washington. So I guess it's  #BlameBush in 2012,0\n",
      "560,\"RT @Atrios: probably not the most important thing in the world, but I did hope that security theatre would diminish at least slightly under obama rule\",1\n",
      "559,President Obama ^ Lindsay Lohan RUMORS beginning ^ 1987 Analyst64 was protected ^ Future time-line indicator ^ Scramble scam mode video.,0\n",
      "558,Save the Sand-Dune Lizard? - Nash Keune - National Review Online http://t.co/GzD7DkRt #Obama #WarOnThePoor #WarOnTheMiddleClass #WarOnJobs,0\n",
      "557,\"It would take far less time to sing \"\"100 Bottles of Beer\"\" than list what we KNOW Obama is hiding. #hypocriticalmarxist #irony #GOP #divider\",0\n",
      "556,\"Napolitano Caught Hiring Muslim Brotherhood Terrorist, Giving Him Top-Secret Security Clearance\",1\n",
      "555,,0\n",
      "554,http://t.co/B2WIWFrV,0\n",
      "553,RT @anna12061: Another Obama Buddy!,0\n",
      "552,RT @baseballcrank: #WhatsRomneyHiding Obama's State Senate records,0\n",
      "551,\"In his teen years, Obama has been known to use marijuana and cocaine.\",0\n",
      "550,\"Obama has called the GOP budget social Darwinism. Nice try, but they believe in social creationism.\",1\n",
      "549,@Im_Tyler I apologize you must know more about our government than Obama and those in Washington. So I guess it's  #BlameBush in 2012,0\n",
      "548,\"RT @Atrios: probably not the most important thing in the world, but I did hope that security theatre would diminish at least slightly under obama rule\",1\n",
      "547,President Obama ^ Lindsay Lohan RUMORS beginning ^ 1987 Analyst64 was protected ^ Future time-line indicator ^ Scramble scam mode video.,0\n",
      "546,Save the Sand-Dune Lizard? - Nash Keune - National Review Online http://t.co/GzD7DkRt #Obama #WarOnThePoor #WarOnTheMiddleClass #WarOnJobs,0\n",
      "545,\"It would take far less time to sing \"\"100 Bottles of Beer\"\" than list what we KNOW Obama is hiding. #hypocriticalmarxist #irony #GOP #divider\",0\n",
      "544,\"Napolitano Caught Hiring Muslim Brotherhood Terrorist, Giving Him Top-Secret Security Clearance\",1\n",
      "543,,0\n",
      "542,http://t.co/B2WIWFrV,0\n",
      "541,RT @anna12061: Another Obama Buddy!,0\n",
      "540,RT @baseballcrank: #WhatsRomneyHiding Obama's State Senate records,0\n",
      "539,@AIsForOrg And this genius man can sing. Who else is there really? Obama 2012,1\n",
      "538,\"RT @Un_OccupyWallSt: @Stranahan #whatsRomneyHiding? Umm i can guarantee if anything, it is FAR less than Obama and Holder\",0\n",
      "537,\"Obama, 'You Think I'm Joking' - Two Words for You, Predator Drones http://t.co/G2kQrEmd\",0\n",
      "536,#KimKardashiansNextBoyFriend... Barack Obama... He's the leader of the free world.  She's the booty in the white world...,2\n",
      "535,\"RT @markknoller: AT a campaign fundraiser tonight, Pres. Obama again denounced Mitt Romney by name for his support of the House-passed GOP Budget.\",1\n",
      "534,White House in damage control over Obama Supreme Court remarks - Yahoo! News Canada http://t.co/j3K58zDO via @yahoocanadanews,1\n",
      "533,\"RT @markknoller: Saul says Pres Obama \"\"will do anything\"\" to distract Americans from his \"\"failed\"\" economic record incl unemployment & higher gas prices.\"\"\",1\n",
      "532,\"#Google #News Gun Sales Booming: Doomsday, Obama or Zombies? http://t.co/Iw3pz7fy #AutoFollowBack Goo\",0\n",
      "531,\"RT @markknoller: Pres Obama sayd \"\"I cannot wait\"\" for the \"\"big important debate\"\" we are going to have on these issues.\",1\n",
      "530,\"Poor Warin' Orin Hatch on a tear that Obama is \"\"going to throw the Mormon Church\"\" at Mitt #notactuallyconfirmed #mittless\",0\n",
      "529,@AC360 @jeffreytoobin @jaysekulow #Obama and #Santorum have same judicial criticism in common. Now that's politics!,0\n",
      "528,RT @stinger5150: A 2nd term for Obama would mean the end of the US. He must be defeated. Our kids future depends on it.,0\n",
      "527,\"RT @GarrettNBCNews: Romney, who earned a combined JD/MBA from Harvard just hit President Obama for spending \"\"too much time at Harvard\"\"\",1\n",
      "526,@JennyErikson Another Obama created hashtag  #WhatsRomneyHiding,0\n",
      "525,@edshow Obama is a thug and a Progressive Marxist Commie. Obamacare will bankrupt Americans while funding Abortion clinics #edshow,1\n",
      "524,I liked a @YouTube video http://t.co/LdPffo7a Tales of Fantasy - Obama's Look HD,1\n",
      "523,Trending topics ada tentang obama,0\n",
      "522,\"RT @MrTinyPenis: I heard there is a gay porn titled \"\"Obama Been Slobbin\"\" ....now think about who Obama killed in Pakistan\",0\n",
      "521,( yea ill dm it to you. Dont share it tho) RT @DJECOOL: Hey @Tiwaworks u get Obama Pin? Thanks bro!,0\n",
      "520,RT @KevinWGlass: RT @DrewMTips: #WhatsRomneyHiding The person who refuses to let Obama be clear,0\n",
      "519,RT @PRIVATE_SLEEPY: I think its time for a change..........#Obama,0\n",
      "518,\"\"\"President Obama has steered clear of taking a firm stance on the Keystone pipeline, but many Democrats running... http://t.co/CSyUlFW0\",0\n",
      "517,RT @LouTommoBum Michelle Obama invited the boys to her Easter party. l0l,0\n",
      "516,RT @CARepublican12: RT @stinger5150: Everything Obama does is detrimental to this country. I honestly believe the ... http://t.co/OVkDyuX9,0\n",
      "515,\"RT @WhatTheFFacts: In his teen years, Obama has been known to use marijuana and cocaine.\",0\n",
      "514,\"@KatrinaNation Katrina I just seen the HBO documentary hot coffee.I feel so upset, we need four more years of President Obama 1000% certtain\",0\n",
      "513,\"RT @edshow: Righties call Pres. Obama a \"\"thug\"\" and \"\"bully\"\" for comments on health care law hearings. Comment on FB or tweet so we can share on #edshow!\",0\n",
      "512,\"RT @cmadhur: \"\"Obama Signs 'Game-Changing,' Crowd-Funding JOBS Act | Mashable - http://t.co/7GdTS0Lf\"\" | #MBA #Jobs\",0\n",
      "511,\"A $1 million donation from a guy who refers to women as c*nts and tw*ts. Oh, wait, that's Obama and Bill Maher. #WhatsRomneyHiding\",0\n",
      "510,I favorited a @YouTube video http://t.co/LdPffo7a Tales of Fantasy - Obama's Look HD,1\n",
      "509,President Obama ^ Lindsay Lohan RUMORS video sec 50 to 56 visual special effects = human soul indicator ^ Covert overt connector.,0\n",
      "508,RT @betseyross: Democrats & EPA move to destroy US coal industry http://t.co/NFOS1n9d @ClaireCMC @KayHagan @MarkWarner @SenJimDeMint @MarcoRubio @RandPaul,0\n",
      "507,Koch brothers linked to $3.6M anti-Obama gas price ad campaign - http://t.co/OTpHamKc: http://t.co/Taa46B8j via @POLITICO,0\n",
      "506,\"Every time these RW mouthpieces start whining about Obama...I think, \"\"get over yourselves and your small world view.\"\" he is your president 2\",0\n",
      "505,\"Obama had the chance.... China is now the customer for Canada's oil, not America. Result? Higher oil prices. Thanks, O. http://t.co/mpZxO1Mn\",0\n",
      "504,Obama Sharpens Kansas Vision,0\n",
      "503,RT @stinger5150: Romney is gonna be the nominee y'all. Not my first choice either but we cannot allow a 2nd Obama term. Obama HAS TO GO!!!!!!!,0\n",
      "502,Twitter drama between obama and romney lololol,0\n",
      "501,\"RT @washingtonpost: What Romney's \"\"Harvard\"\" attack on Obama really means http://t.co/nATmWclx via @ThePlumLineGS\",0\n",
      "500,@samiksami @obama  we are warming up for 2016...,0\n",
      "499,\"RT @MsRock4Ever: GOP is SO desperate and so Frightened of President Obama that they are suppressing votes in several states, but it will cause them loss too.\",0\n",
      "498,RT @KevinWGlass: RT @DrewMTips: #WhatsRomneyHiding The person who refuses to let Obama be clear,0\n",
      "497,i heard on #VetThePrez President Obama Was a Swiftboat Skipper Who Lied About His Purple Heart #p2 #twisters #thetwisters #anystreet #ows,1\n",
      "496,\"RT @NouvelleNom: @nakedsk8boy @Artco77 Obama's excessive WH parties AND his obsession with algae, prove he is really a FUNGI. #tcot\",0\n",
      "495,@marishuntsman He is for the most part obama lite but I would vote for pee wee herman over obama lama ding dong,0\n",
      "494,RT @kesgardner: Obama's college records? #whatsromneyhiding,0\n",
      "493,\"RT @preciousliberty: Obama's Osawatomie Speech: \"\"The United States of America has never worked\"\" http://t.co/qwIsdV2n #tcot #debt #citizensunited #teaparty\",0\n",
      "492,\"RT @ohgirlphrase: American kid \"\"You're from the UK? Ohhh cool, So do you have tea with the Queen?\"\". British kid: \"\"Do you like, go to Mcdonalds with Obama?\",0\n",
      "491,RT @MacehuaHart: Sharing: http://t.co/ztufxsn1 Czech Press: More is know about the Birth of Jesus a millenia ago than about Obama,0\n",
      "490,RT @wilycyotee: Pres. Obama's ongoing support of women is another reason I am so proud he is my President!  @edshow #Obama2012,2\n",
      "489,\"RT @WhatTheFFacts: In his teen years, Obama has been known to use marijuana and cocaine.\",0\n",
      "488,\"RT @markknoller: Pres Obama slammed Romney for embracing a budget that supports a few doing well at the top, everyone else struggling to get by.\",2\n",
      "487,\"RT @ForAmerica: McCaskill Calls For Obama to Release Day&Half Supply of Oil From SPR via @MOPNS But Biden says oil policy is \"\"best it's ever been\"\" #MOsen\",0\n",
      "486,RT @Kerryepp: #WhatsRomneyHiding that he can throw a baseball like a man and not like a girl like Obama...,0\n",
      "485,RT @W_Paul_Williams: RT @MerlePearl: Obama has us mourning for America --&gt; EDITORIAL: Mr. (cont) http://t.co/PxooFjTO,0\n",
      "484,\"RT @ohgirlphrase: American kid \"\"You're from the UK? Ohhh cool, So do you have tea with the Queen?\"\". British kid: \"\"Do you like, go to Mcdonalds with Obama?\",0\n",
      "483,\"RT @ohgirlphrase: American kid \"\"You're from the UK? Ohhh cool, So do you have tea with the Queen?\"\". British kid: \"\"Do you like, go to Mcdonalds with Obama?\",0\n",
      "482,President Obama ^ Lindsay Lohan ^ 1989 RUMORS business 19 TH & M ST NW DC met field agent = multi connector to FFX VA covert overt zone.,0\n",
      "481,\"RT @Our4thEstate: @edshow The President of the United States, Barack Obama, is all that stands between the rights of the 99% & the Party of Koch & Norquist.\",1\n",
      "480,\"\"\"Obama signaled US would accept Iranian civilian nuclear program if Khamenei back up claim #Iran will not pursue nukes\"\" http://t.co/svxFPoHq\",1\n",
      "479,\"RT @ohgirlphrase: American kid \"\"You're from the UK? Ohhh cool, So do you have tea with the Queen?\"\". British kid: \"\"Do you like, go to Mcdonalds with Obama?\",0\n",
      "478,RT @Jeri2: #WhatsRomneyHiding ? His REAL feelings about Obama...,1\n",
      "477,RT @FRANCE24: Obama hosts screening of 'To Kill a Mockingbird' http://t.co/zHiGQqZi,0\n",
      "476,\"RT @ohgirlphrase: American kid \"\"You're from the UK? Ohhh cool, So do you have tea with the Queen?\"\". British kid: \"\"Do you like, go to Mcdonalds with Obama?\",0\n",
      "475,Republicans for Obama http://t.co/x40FUeqV,0\n",
      "474,@edshow Tomorrow's GOP headline: Obama hates golf. #edshow,0\n",
      "473,@Harry_Styles Heard your diggin Michelle Obama!! get in there styles :),0\n",
      "472,\"@megynkelly Why didn't you ask the Sheriff about obama eligibility?  Looks like fox is in obama pocket also.  Truth, truth is now\",0\n",
      "471,#getchaObamaon #retweet #Obama,0\n",
      "470,RT @MovieMikeScott: #WhatsRomneyHiding @BarackObama GET CHA OBAMA ON (Unofficial Obama Song): http://t.co/RyG3vgRQ via @youtube,0\n",
      "469,RT @GrassRootRevolt: Obama: Not Ready to Release Saved Oil to Lower Gas Prices: (News Max) - Saying that he was not prepared to make ... http://t.co/vHxp18EN,2\n",
      "468,RT @against_obama: Obama's illegal alien uncle's drivers license #whatsromneyhiding,0\n",
      "467,President Obama Announces the 2012 Launch of African Americans 4 Obama http://t.co/CK84NpUq / Whites for Romney OK then? #TREASON,0\n",
      "466,Obama's Green Jobs? #WhatsRomneyHiding,0\n",
      "465,Pres Obama says it'll be a big debate and a fun debate because - he says - he has the truth on his side.,1\n",
      "464,\"RT @ohgirlphrase: American kid \"\"You're from the UK? Ohhh cool, So do you have tea with the Queen?\"\". British kid: \"\"Do you like, go to Mcdonalds with Obama?\",0\n",
      "463,RT @CatoInstitute: NEW Podcast:  Obama's Vanished Coalition http://t.co/Hi8NnhBT  (h/t @COBrown),0\n",
      "462,RT @GetsGreased: Obama says #Obamacare passed by 'strong majority' of Congress? Not a single #GOP vote & many Dems voted NO. He LIES - AGAIN. #tcot #p2,0\n",
      "461,RT @skeeteronmy: No #Racial Lines To Cross When It Comes To The #Marijuana Cause Vote #RonPaul #gop2012 #democrats #romney #santorum #newt #Obama #ucla #usc,0\n",
      "460,\"RT @markknoller: AT a campaign fundraiser tonight, Pres. Obama again denounced Mitt Romney by name for his support of the House-passed GOP Budget.\",1\n",
      "459,\"RT @ohgirlphrase: American kid \"\"You're from the UK? Ohhh cool, So do you have tea with the Queen?\"\". British kid: \"\"Do you like, go to Mcdonalds with Obama?\",0\n",
      "458,Nixon was missing 18 minutes. Obama is missing 18 years.,0\n",
      "457,http://t.co/FN7jJZNY i love obama so much,1\n",
      "456,\"RT @ohgirlphrase: American kid \"\"You're from the UK? Ohhh cool, So do you have tea with the Queen?\"\". British kid: \"\"Do you like, go to Mcdonalds with Obama?\",0\n",
      "455,\"RT @markknoller: AT a campaign fundraiser tonight, Pres. Obama again denounced Mitt Romney by name for his support of the House-passed GOP Budget.\",1\n",
      "454,\"In his teen years, Obama has been known to use marijuana and cocaine.\",0\n",
      "453,\"Obama has called the GOP budget social Darwinism. Nice try, but they believe in social creationism.\",1\n",
      "452,\"Amid Trayvon Martin case, Obama hosts screening of 'To Kill a Mockingbird': On Thursday night, President Obama i... http://t.co/l9LEKN8f\",0\n",
      "451,For $10 I'd prank call Obama,0\n",
      "450,\"RT @markknoller: Pres Obama sayd \"\"I cannot wait\"\" for the \"\"big important debate\"\" we are going to have on these issues.\",1\n",
      "449,\"Obama: If all the blacks line up for me, I promise I will triple your entitlements & give you all Escalades    http://t.co/f8b7HLaf\",2\n",
      "448,RT @JeffersonObama: Arianna Huffington blasting President Obama at any chance and praising GOP. This pic explains things. http://t.co/Ov6I5CoS,1\n",
      "447,@TannerEnglish3,0\n",
      "446,Tanner: Barack obama duh #run,0\n",
      "445,Lady: well then who's the president ,1\n",
      "444,Tanner: yeah,0\n",
      "443,Lady: do you live in here. ,1\n",
      "442,While fishing ,0\n",
      "441,\"RT @ohgirlphrase: American kid \"\"You're from the UK? Ohhh cool, So do you have tea with the Queen?\"\". British kid: \"\"Do you like, go to Mcdonalds with Obama?\",0\n",
      "440,RT @IndyEnigma: How Saul Alinsky Taught Obama http://t.co/gIb7UzdC to Say One Thing and Do the Opposite #twcot #ocra #p2 #sgp #tcot,0\n",
      "439,One more thing to like about President Obama: #WGCL Obama believes women should be admitted to Augusta http://t.co/go9toJ8e,0\n",
      "438,\"If you can find a better Obama gif than this one, I'm quitting Twitter. http://t.co/cNr0Sr3c\",1\n",
      "437,\"RT @michellemalkin: DBM. Drool Bucket Media. RT @Josh_Painter: What media bias? AP Chairman Slobbers All Over Obama, http://t.co/8IhorwzV\",0\n",
      "436,\"RT @ohgirlphrase: American kid \"\"You're from the UK? Ohhh cool, So do you have tea with the Queen?\"\". British kid: \"\"Do you like, go to Mcdonalds with Obama?\",0\n",
      "435,\"Examiner Editorial: Obama's budget, not Ryan's, is 'antithetical' to history: Speaking at the American Society o... http://t.co/maoLb5Ia\",0\n",
      "434,\"gotta take care of those kids, i know you heard Obama\",0\n",
      "433,\"Examiner Editorial: Obama's budget, not Ryan's, is 'antithetical' to history: Speaking at the American Society o... http://t.co/mNhPMR5U\",0\n",
      "432,\"RT @Professor_Why: #WhatsRomneyHiding - the fact that REAL unemployment is at 19%... Oh wait, that's Obama, not Romney...\",1\n",
      "431,RT @cannabis_times: Drug Policy Groups Unite to Demand End to Medical Marijuana Raids - http://t.co/y1W2HmGS via @Shareaholic,0\n",
      "430,@geoff9cow Right! Of course! It's ALWAYS someone else's fault when it comes to Obama!,1\n",
      "429,\"RT @ohgirlphrase: American kid \"\"You're from the UK? Ohhh cool, So do you have tea with the Queen?\"\". British kid: \"\"Do you like, go to Mcdonalds with Obama?\",0\n",
      "428,Obama's skin color is not a reason to vote for him..,1\n",
      "427,This Reporter stuck it to the #Obama Admin. lol http://t.co/taquWJUt,0\n",
      "426,RT @JeffersonObama: Arianna Huffington blasting President Obama at any chance and praising GOP. This pic explains things. http://t.co/Ov6I5CoS,1\n",
      "425,RT @baseballcrank: #WhatsRomneyHiding Obama's State Senate records,0\n",
      "424,\"RT @ohgirlphrase: American kid \"\"You're from the UK? Ohhh cool, So do you have tea with the Queen?\"\". British kid: \"\"Do you like, go to Mcdonalds with Obama?\",0\n",
      "423,\"RT @ohgirlphrase: American kid \"\"You're from the UK? Ohhh cool, So do you have tea with the Queen?\"\". British kid: \"\"Do you like, go to Mcdonalds with Obama?\",0\n",
      "422,RT @markknoller: Pres Obama says it'll be a big debate and a fun debate because - he says - he has the truth on his side.,1\n",
      "421,Obama to all black Americans: I REALLY need you this time! Whitey won't be fooled twice!!   http://t.co/f8b7HLaf  #TREASON,0\n",
      "420,\"Bean on my pocket, Obama on my wrist.\",0\n",
      "419,\"@VRWCTexan FIRST OF ALL OBAMA WAS\"\" NOT\"\" A CONSTITUTIONAL LAW  PROFESSOR , HE WAS \"\"NOT\"\" AN TENURED PROFESSOR, HE WAS AN INSTRUCTOR,THATS IT\",0\n",
      "418,RT @OrwellForce: Everything Obama did before the age of 35 #WhatsRomneyHiding,0\n",
      "417,\"RT @ohgirlphrase: American kid \"\"You're from the UK? Ohhh cool, So do you have tea with the Queen?\"\". British kid: \"\"Do you like, go to Mcdonalds with Obama?\",0\n",
      "416,President Obama ^ Lindsay Lohan ^ USA Intel public scams ^ Press 2007 pissed off Analyt64  = DC courier type magnet on USA White House.,1\n",
      "415,@NHLWingsfanKay well whiter obama :P,1\n",
      "414,THIS is what the gun sale surge was for when Obama was elected. #thinkaboutit,1\n",
      "413,Archbishop Dolan: Obama lied to his face. Read at http://t.co/wX1RzFKm #tcot #prolife #tlot #sgp #MSM #tpp #Catholic #lnyhbt #withnewt #army,0\n",
      "412,\"RT @JeffersonObama: 62% of U.S. Jews would reelect Obama, 4% say Israel is most important issue - Haaretz http://t.co/VhURDtdO http://t.co/gIGmn5kE\",1\n",
      "411,\"It's incredible that something like #WhatsRomneyHiding would be trending. Yet Obama is sneakiest, harmful person and no one says anything.\",0\n",
      "410,\"For the first time in history, CONTRARY 2 Dr. King's wishes, Obama is calling on voters FOR THE COLOR OF THEIR SKIN! #RACIST! #TREASON!\",0\n",
      "409,\"@DavidCornDC Mr Corn I just seen the HBO documentary hot coffee.I feel so upset, we need four more years of President Obama 1000% certtain!\",0\n",
      "408,RT @Talkmaster: Oh now I get it. Obama was talking in shorthand and we were just too dumb to understand how smart he really is.  Gagme.,1\n",
      "407,\"\"\"Service is the rent we pay to live on earth\"\" Michelle Obama\",1\n",
      "406,\"RT @ohgirlphrase: American kid \"\"You're from the UK? Ohhh cool, So do you have tea with the Queen?\"\". British kid: \"\"Do you like, go to Mcdonalds with Obama?\",0\n",
      "405,\"RT @sunnyright: A $1 million donation from a guy who refers to women as c*nts and tw*ts. Oh, wait, that's Obama and Bill Maher. #WhatsRomneyHiding\",0\n",
      "404,@Obama2012 @truthteam2012 @gop Obama run on your record and your budgets that were voted down 97-0 and 414-0 instead if this nonsense,0\n",
      "403,Pres Obama should worry about something else(i.e. economy) instead of Augusta's membership policies..Policy was in place way before his time,0\n",
      "402,Former White House Speechwriter Suggests Military Coup Could Oust Obama http://t.co/NddhkcNX,1\n",
      "401,\"@FHQ of course, if Obama just wins PA, he's at 270 in most scenarios. Obama goes 2/4, he's definitely over it (assuming VA is blue.)\",1\n",
      "400,\"RT @ohgirlphrase: American kid \"\"You're from the UK? Ohhh cool, So do you have tea with the Queen?\"\". British kid: \"\"Do you like, go to Mcdonalds with Obama?\",0\n",
      "399,Obama dings men-only Masters host @ http://t.co/kexX62X8 US President Barack Obama says w...,1\n",
      "398,\"American Kid \"\"You're From The UK? Ohhh Cool, So Do You Have Tea With The Queen?\"\". British Kid: \"\"Do You Like, Go To Mcdonalds With Obama?\"\"\",0\n",
      "397,\"RT @Our4thEstate: @edshow The President of the United States, Barack Obama, is all that stands between the rights of the 99% & the Party of Koch & Norquist.\",1\n",
      "396,RT @theblaze: DOJ Issues Letter Clarifying Obama's Remarks: Court's Power to Strike Down Laws 'Beyond Dispute' http://t.co/pAe0TYYI via @theblaze mm,0\n",
      "395,RT @JeffersonObama: Arianna Huffington blasting President Obama at any chance and praising GOP. This pic explains things. http://t.co/Ov6I5CoS,1\n",
      "394,RT @betseyross: Democrats & EPA move to destroy US coal industry http://t.co/NFOS1n9d @ClaireCMC @KayHagan @MarkWarner @SenJimDeMint @MarcoRubio @RandPaul,0\n",
      "393,\"RT @JeffersonObama: 62% of U.S. Jews would reelect Obama, 4% say Israel is most important issue - Haaretz http://t.co/VhURDtdO http://t.co/gIGmn5kE\",1\n",
      "392,Obama signs JOBS Act to boost startup firms - http://t.co/SELMj7zZ,1\n",
      "391,@danwho equalization. That sounds like 'redistribution of wealth' aka another commie plot from Obama.,0\n",
      "390,\"RT @ohgirlphrase: American kid \"\"You're from the UK? Ohhh cool, So do you have tea with the Queen?\"\". British kid: \"\"Do you like, go to Mcdonalds with Obama?\",0\n",
      "389,Obama is verifiably NUTS &gt; now challenging the legitimacy of the U.S. Supreme Court http://t.co/XliEIxvs #rnc #economy #teabagger,1\n",
      "388,@markknoller Does Obama really want to dig into Romney's past like that? Wow! It looks like #vetthepresident time. Go Breitbart acolytes!,0\n",
      "387,RT @Steto33: @edshow Tomorrow's GOP headline: Obama hates golf. #edshow,0\n",
      "386,\"RT @ohgirlphrase: American kid \"\"You're from the UK? Ohhh cool, So do you have tea with the Queen?\"\". British kid: \"\"Do you like, go to Mcdonalds with Obama?\",0\n",
      "385,\"@BarackObama Obama vs. the Constitution, the Bill of Rights, the Declaration of Independence, etc...\",2\n",
      "384,Obama Warns Unelected Supreme Court Against Striking Down Healthcare & J...: http://t.co/0bk8kViG via @youtube,0\n",
      "383,\"RT @ohgirlphrase: American kid \"\"You're from the UK? Ohhh cool, So do you have tea with the Queen?\"\". British kid: \"\"Do you like, go to Mcdonalds with Obama?\",0\n",
      "382,\"RT @ohgirlphrase: American kid \"\"You're from the UK? Ohhh cool, So do you have tea with the Queen?\"\". British kid: \"\"Do you like, go to Mcdonalds with Obama?\",0\n",
      "381,I love President Obama @BarackObama,1\n",
      "380,@Mr_JPatt did you ever read obama's book before he became president?,0\n",
      "379,\"RT @blakehounshell: From Ignatius: \"\"U.S. officials hope [Putin] can broker a Syria deal before he meets Obama at the G-8 summit next month.\"\"\",2\n",
      "378,\"Obama: If you're a racist and you know it, and you REALLY want to show it, VOTE FOR ME!!   http://t.co/CK84NpUq #TREASON\",0\n",
      "377,\"RT @ohgirlphrase: American kid \"\"You're from the UK? Ohhh cool, So do you have tea with the Queen?\"\". British kid: \"\"Do you like, go to Mcdonalds with Obama?\",0\n",
      "376,@AustinPaul19 Why's Obama hiding his school record's ?,0\n",
      "375,@Bdcochese I'm scared to hear it any anti Obama songs or is uncle AL only against his government when a republicans in office,0\n",
      "374,\"RT @ohgirlphrase: American kid \"\"You're from the UK? Ohhh cool, So do you have tea with the Queen?\"\". British kid: \"\"Do you like, go to Mcdonalds with Obama?\",0\n",
      "373,@edshow that's because Obama is a thug and unqualified to be president,0\n",
      "372,\"RT @ohgirlphrase: American kid \"\"You're from the UK? Ohhh cool, So do you have tea with the Queen?\"\". British kid: \"\"Do you like, go to Mcdonalds with Obama?\",0\n",
      "371,\"#Obama Signs \"\"Fraud-Friendly\"\" JOBS #Act into Law: http://t.co/j92pfp6T | #business #economist\",0\n",
      "370,Yes #WHFail RT @jltho: This #WhatsRomneyHiding hashtag is entertaining. Is this another social media backfire from the Obama administration?,1\n",
      "369,\"With all the truth that has been exposed about the Obama Administration, you have to wonder why any Americans in... http://t.co/1Pso0ULz\",0\n",
      "368,\"RT @ohgirlphrase: American kid \"\"You're from the UK? Ohhh cool, So do you have tea with the Queen?\"\". British kid: \"\"Do you like, go to Mcdonalds with Obama?\",0\n",
      "367,#WhatsRomneyHiding Obama's Mom Jeans,0\n",
      "366,\"Love how the #Obama campaign's #WhatsRomneyHiding back fired, now #WhatsObamaHiding is trending. Seeing a lot of birth certificate tweets.\",1\n",
      "365,\"RT @jmimac351: @EWErickson $4 gas, high unemployment & Obama is worried about Augusta National. This is smoke and mirrors for utter failure. #cantwait2vote\",0\n",
      "364,\"RT @ohgirlphrase: American kid \"\"You're from the UK? Ohhh cool, So do you have tea with the Queen?\"\". British kid: \"\"Do you like, go to Mcdonalds with Obama?\",0\n",
      "363,Why Did Obama Invite Al Sharpton to Easter Prayer Breakfast But Not Southern Baptist Leaders? http://t.co/Zgsh2zyo via @theblaze,0\n",
      "362,\"In his teen years, Obama has been known to use marijuana and cocaine.\",0\n",
      "361,\"Obama has called the GOP budget social Darwinism. Nice try, but they believe in social creationism.\",1\n",
      "360,\"Happy Passover, love Obama http://t.co/gHQ3NrWP\",2\n",
      "359,#newbedon 4/6/2012 4:25:20 AM Obama Wins Landslide Presidential Election...With Online Gamers http://t.co/JGbJwE9Z,0\n",
      "358,RT @JeffersonObama: Arianna Huffington blasting President Obama at any chance and praising GOP. This pic explains things. http://t.co/Ov6I5CoS,1\n",
      "357,\"RT @Our4thEstate: @edshow The President of the United States, Barack Obama, is all that stands between the rights of the 99% & the Party of Koch & Norquist.\",1\n",
      "356,RT @Blondiecakess: Obama's skin color is not a reason to vote for him..,1\n",
      "355,\"Obama: \"\"To avoid voter fraud, I have authorized $1.5B to hire the Black Panthers for Security at polling places. We are watchigng you\"\"\",0\n",
      "354,RT @jltho: This #WhatsRomneyHiding hashtag is entertaining. Is this another social media backfire from the Obama administration?,1\n",
      "353,Congratulations to Mitt Ro... http://t.co/krM3IuSt,1\n",
      "352,The Tonight Show With Jay Leno,0\n",
      "351,Late Night Jokes: Obama Unqualified to Be a Trekkie: ,0\n",
      "350,\"RT @HarryFacts1D: ''Harry Styles describe a Michelle Obama como una mujer muy atractiva.'' OBAMA ESCONDE A TU ESPOSA Y A TUS HIJOS, STYLES VIENE EN CAMINO.\",0\n",
      "349,RT @ItsLoopzProd: LOOOOOOOOOOOOOOOOOOOOOOOOOOOOL This is why i rate obama http://t.co/vsOYFhSa,0\n",
      "348,click obama related trending topic. racist bullshit every few tweets. [arrested development dove macro],0\n",
      "347,\"After Threatening Judges, GOP Accuses Obama of Judicial Intimidation http://t.co/rHr93J15 via @dailykos -- #Republican #Disinformation\",0\n",
      "346,\"RT @ohgirlphrase: American kid \"\"You're from the UK? Ohhh cool, So do you have tea with the Queen?\"\". British kid: \"\"Do you like, go to Mcdonalds with Obama?\",0\n",
      "345,RT @PoliticalGal11: Archbishop Dolan: Obama lied to his face. Read at http://t.co/wX1RzFKm #tcot #prolife #tlot #sgp #MSM #tpp #Catholic #lnyhbt #withnewt #army,0\n",
      "344,RT @LouTommoBum: Michelle Obama invited the boys to her Easter party. l0l,0\n",
      "343,Still hoping that #Obama is gonna make some #Romney/Bob Ewell comparison before the night is over. http://t.co/0TBmBaKB #p2,0\n",
      "342,\"RT @ohgirlphrase: American kid \"\"You're from the UK? Ohhh cool, So do you have tea with the Queen?\"\". British kid: \"\"Do you like, go to Mcdonalds with Obama?\",0\n",
      "341,\"RT @susie_c: Latest on #NDAA lawsuit from @sparrowmedia, which has the prettiest website. http://t.co/RQQpZJHd\",0\n",
      "340,RT @Talkmaster: Oh now I get it. Obama was talking in shorthand and we were just too dumb to understand how smart he really is.  Gagme.,1\n",
      "339,\"RT @TPO_Hisself: For the first time in history, CONTRARY 2 Dr. King's wishes, Obama is calling on voters FOR THE COLOR OF THEIR SKIN! #RACIST! #TREASON!\",0\n",
      "338,Today's Federal Debt is about $15.2 Trillion. Obama has added 43% since he usurped the office of POTUS. #tcot #p2 #ocra #teaparty,0\n",
      "337,\"RT @TPO_Hisself: For the first time in history, CONTRARY 2 Dr. King's wishes, Obama is calling on voters FOR THE COLOR OF THEIR SKIN! #RACIST! #TREASON!\",0\n",
      "336,\"RT @ohgirlphrase: American kid \"\"You're from the UK? Ohhh cool, So do you have tea with the Queen?\"\". British kid: \"\"Do you like, go to Mcdonalds with Obama?\",0\n",
      "335,\"RT @MsRock4Ever: GOP is SO desperate and so Frightened of President Obama that they are suppressing votes in several states, but it will cause them loss too.\",0\n",
      "334,Obey: Obama still not satisfied with the lapdog press http://t.co/4vxMWaZv #wethepeople in the way! #tcot #sgp,0\n",
      "333,President  Obama has the highest office in America yet he hasn't the power to speak freely. So much for the First Amendment! #backoffdummies,0\n",
      "332,\"RT @mediaite: The Five's Greg Gutfeld: President Obama Isn't A Bully, He's A Whiner (VIDEO) http://t.co/kWBO2rSs\",0\n",
      "331,RT @markknoller: Pres Obama says it'll be a big debate and a fun debate because - he says - he has the truth on his side.,1\n",
      "330,@markknoller funny Obama saying Romney should release stuff. Mr birth certificate. mr no college records. must think we are stupid.,0\n",
      "329,RT @Drudge_Report: Obama setting up Supreme Court as campaign issue... http://t.co/1IiLN01H,1\n",
      "328,\"RT @ohgirlphrase: American kid \"\"You're from the UK? Ohhh cool, So do you have tea with the Queen?\"\". British kid: \"\"Do you like, go to Mcdonalds with Obama?\",0\n",
      "327,\"RT @ohgirlphrase: American kid \"\"You're from the UK? Ohhh cool, So do you have tea with the Queen?\"\". British kid: \"\"Do you like, go to Mcdonalds with Obama?\",0\n",
      "326,\"RT @markknoller: Pres Obama sayd \"\"I cannot wait\"\" for the \"\"big important debate\"\" we are going to have on these issues.\",1\n",
      "325,\"RT @ohgirlphrase: American kid \"\"You're from the UK? Ohhh cool, So do you have tea with the Queen?\"\". British kid: \"\"Do you like, go to Mcdonalds with Obama?\",0\n",
      "324,Obama Signs Rare Bipartisan Jobs Bill: http://t.co/W761OyXD via @youtube,0\n",
      "323,http://t.co/JrUSKBu9,0\n",
      "322,\"RT @ridiamond: WORD!! \"\"Obama's Organizational Advantage on Full Display in N.H.\"\"\",1\n",
      "321,\"RT @17bbomb: @geoff9cow Right! Of course! It's ALWAYS someone else's fault when it comes to Obama! / about 95% is. very good odds, too.\",2\n",
      "320,\"RT @ohgirlphrase: American kid \"\"You're from the UK? Ohhh cool, So do you have tea with the Queen?\"\". British kid: \"\"Do you like, go to Mcdonalds with Obama?\",0\n",
      "319,How come Barack Obama has twitter? Some illuminati trying to disguise himself. He puts voodoo on his followers,0\n",
      "318,\"RT @GEsfandiari: \"\"Obama signaled US would accept Iranian civilian nuclear program if Khamenei back up claim #Iran will not pursue nuk...\",1\n",
      "317,My favourite drawing I've ever received on draw something is Nicole's drawing of Obama. Piece of art that was.,0\n",
      "316,President Obama is coming to FAU April 10 &gt;__&lt; parking is going to be worse than it already is... @nicholle_,0\n",
      "315,whats up with the obama trend ? Leave the man alone ! Hes done ALOT,0\n",
      "314,One Direction Tolak Undangan Michelle Obama! http://t.co/S8lPX0SZ [Like it? http://t.co/WIDZGjRj ],0\n",
      "313,\"RT @keder: His record includes making businesses profitable, instead of bankrupting and extorting them. (Unlike Obama) #WhatsRomneyHiding\",1\n",
      "312,\"RT @yahoo_music: Madonna Tweets Britney, Katy, Skrillex And Obama, Plus Exclusive Ultra Music Fest Video! http://t.co/EteMGqKk\",2\n",
      "311,\"Obama Is Like The Worst President Ever ,\",0\n",
      "310,\"American kid \"\"You're from the UK? Ohhh cool, So do you have tea with the Queen?\"\". British kid: \"\"Do you like, go to Mcdonalds with Obama?\",0\n",
      "309,\"@maddow Rachel I just seen the HBO documentary hot coffee.I feel so upset, we need four more years of President Obama 1000% certtain!\",0\n",
      "308,RT @astroterf: RT @scarlett_0hara: RT @rightchange2012: Veteran groups blast Obama's plan 2 double (cont) http://t.co/ZuKdTidE,0\n",
      "307,\"You want others to know how you feel and say sorry without you telling them what's wrong. Last time I checked, Obama is still president :/\",0\n",
      "306,\"RT @ohgirlphrase: American kid \"\"You're from the UK? Ohhh cool, So do you have tea with the Queen?\"\". British kid: \"\"Do you like, go to Mcdonalds with Obama?\",0\n",
      "305,Obama's college transcripts. #WhatsRomneyHiding,0\n",
      "304,Obama on the offensive! RT @BarackObama: So what's Romney hiding? Tweet @MittRomney to demand he release his tax returns. #WhatsRomneyHiding,0\n",
      "303,a  large number of #GOP women will vote for #Obama #edshow,2\n",
      "302,\"RT @ForAmerica: McCaskill Calls For Obama to Release Day&Half Supply of Oil From SPR via @MOPNS But Biden says oil policy is \"\"best it's ever been\"\" #MOsen\",0\n",
      "301,White House in damage control over Obama Supreme Court remarks: The White House was forced on the defensive on W... http://t.co/2Yy8Srct,1\n",
      "300,RT @markknoller: Pres Obama says it'll be a big debate and a fun debate because - he says - he has the truth on his side.,1\n",
      "299,\"RT @Professor_Why: #WhatsRomneyHiding - his willingness to tell police officers they \"\"acted stupidly\"\" w/out knowing the facts... Oh wait, that's Obama again!\",0\n",
      "298,@BaisdenLive Look at the Barack Obama Chicken Nugget on ebay. You are not going to believe this. Why is this allowed?,0\n",
      "297,GOP calls Pres. Obama a Thug and we wonder why #TrayvonMartin / was killed,0\n",
      "296,@edshow #edshow Obama is the one looking out for women the GOP is in fiction world,0\n",
      "295,RT @charlesdavis84: All those people with Obama logos on their avatar? If someone could do that for me but with the Pepsi logo I'd appreciate it.,0\n",
      "294,RT @JeffersonObama: Arianna Huffington blasting President Obama at any chance and praising GOP. This pic explains things. http://t.co/Ov6I5CoS,1\n",
      "293,Obama is a puppet for America. There's more to his face and words.,0\n",
      "292,#WhatsRomneyHiding Michelle Obama's divorce attorney on speed dial?,0\n",
      "291,\"RT @djtechchicago: Apparently, he's hiding Barack Obama's copy of the Constitution. #WhatsRomneyHiding\",0\n",
      "290,RT @HonestConservat: EXCLUSIVE Selma Bouvier w 3 am Kagan 2 Obama call http://t.co/JdrQZSJr THE SHREW @SgtTim911,0\n",
      "289,Obama says knock you out -- http://t.co/PUZRq7HU #screwytees,0\n",
      "288,Obey: Obama still not satisfied with the lapdog press (@times247)  http://t.co/FVcoWj7p,0\n",
      "287,#KimKardashiansNextBoyFriend Obama?,0\n",
      "286,Interesting take: Obama Misquotes Bible on Wealth Redistribution http://t.co/FNPrvVDK,1\n",
      "285,RT lmfao @_Ciroc_Obama: Wonder if @PRINCE_POLO know Rihanna in that new movie battleship who am I kidding of course his groupie ass knew lol,0\n",
      "284,Interesting take: Obama Misquotes Bible on Wealth Redistribution http://t.co/ejpjWjHg,1\n",
      "283,\"RT @ohgirlphrase: American kid \"\"You're from the UK? Ohhh cool, So do you have tea with the Queen?\"\". British kid: \"\"Do you like, go to Mcdonalds with Obama?\",0\n",
      "282,Obama's Weak-Kneed Regulatory Regime | Common Dreams: http://t.co/IZXRte2e via @AddThis,1\n",
      "281,\"RT @markknoller: Pres Obama sayd \"\"I cannot wait\"\" for the \"\"big important debate\"\" we are going to have on these issues.\",1\n",
      "280,\"RT @WhatTheFFacts: In his teen years, Obama has been known to use marijuana and cocaine.\",0\n",
      "279,\"With a range of opinion from Obama to Romney. MT @markknoller: Pres Obama says \"\"I cannot wait\"\" for \"\"big important debate\"\" on issues.\",1\n",
      "278,SouthFloridaGayNews.| |#lgbt #p2 #glbt #ssm #queer #gay|,0\n",
      "277,Obama Could Face Election-Year Jam on Gay Marriage| http://t.co/aViCL1rV |,0\n",
      "276,\"Jim DeMint calls President Obama a \"\"bully\"\" http://t.co/2kXhMwKY\",0\n",
      "275,\"RT @RealClearScott: NH is emblematic of Obama's swing state organization advantage. Already over 30 staffers, 7 offices: http://t.co/X8fkVleu\",1\n",
      "274,\"Van Jones Echoes '08 Hillary Clinton: President Obama, 'A Great... http://t.co/B3b4vkeX\",1\n",
      "273,\"RT @GEsfandiari: \"\"Obama signaled US would accept Iranian civilian nuclear program if Khamenei back up claim #Iran will not pursue nukes\"\" http://t.co/svxFPoHq\",1\n",
      "272,\"In his teen years, Obama has been known to use marijuana and cocaine.\",0\n",
      "271,\"Obama has called the GOP budget social Darwinism. Nice try, but they believe in social creationism.\",1\n",
      "270,\"RT @PresElections: The Barack Obama, Mitt Romney budget battle - Ben White http://t.co/gb87afx1 via @newspin\",1\n",
      "269,Obama Attacks Justices & Now Must Answer in Court http://t.co/NKCZ0YqD. How anyone can support such a manipulative President?,0\n",
      "268,\"RT @GEsfandiari: \"\"Obama signaled US would accept Iranian civilian nuclear program if Khamenei back up claim #Iran will not pursue nukes\"\" http://t.co/svxFPoHq\",1\n",
      "267,#whatsromneyhiding the fact that he is a student of critical race theory? Or is that Obama.....?,0\n",
      "266,\"RT @nprnews Assailing 'Disobedience,' Pope Says Women Will Not Be Ordained http://t.co/sYSnUwUJ Compare to Obama's statement on lady golfers\",0\n",
      "265,\"RT @ohgirlphrase: American kid \"\"You're from the UK? Ohhh cool, So do you have tea with the Queen?\"\". British kid: \"\"Do you like, go to Mcdonalds with Obama?\",0\n",
      "264,\"RT @GEsfandiari: \"\"Obama signaled US would accept Iranian civilian nuclear program if Khamenei back up claim #Iran will not pursue nukes\"\" http://t.co/svxFPoHq\",1\n",
      "263,\"#edshow Whenever Obama tells the truth about the Gop, they boo hoo hoo and call him a bully.\",0\n",
      "262,President Obama Signs the Jumpstart Our Business Startups (JOBS) Act: An Attempt to Ease Access to Capital and... http://t.co/B2cYIX23,1\n",
      "261,\"RT @ohgirlphrase: American kid \"\"You're from the UK? Ohhh cool, So do you have tea with the Queen?\"\". British kid: \"\"Do you like, go to Mcdonalds with Obama?\",0\n",
      "260,RT @SteveDeaceShow: Tonight's show: the Texas Republican Party may be the last line of defense between the Constitution and another four years of Obama.,1\n",
      "259,\"RT @ohgirlphrase: American kid \"\"You're from the UK? Ohhh cool, So do you have tea with the Queen?\"\". British kid: \"\"Do you like, go to Mcdonalds with Obama?\",0\n",
      "258,\"RT @Creationtips: Ouch! Obama at prayer breakfast: Jesus Is \"\"A Son of God\"\". (CNS) | http://t.co/9a1deeP0\",0\n",
      "257,@mmfa Like the questions the liberal media gives Obama.,1\n",
      "256,I'd like to read #Obama's #college thesis to find out if he espouses any constitutional conflicts of interest. #tcot #whatsobamahiding #p2,1\n",
      "255,#WhatsRomneyHiding the secret handshake. Obama is really mad he wants to know this handshake,0\n",
      "254,\"RT @HeraMing: While #Progressives shout #WarOnWomen at #Republicans, Barack Hussein #Obama hosts Muslim \"\"Sharia Law\"\" Brotherhood AT WHITEHOUSE!! WTH?!?!\",0\n",
      "253,RT @markknoller: Pres Obama says it'll be a big debate and a fun debate because - he says - he has the truth on his side.,1\n",
      "252,\"I'll survive if America elects Obama again. After all, thats what we're all about. Electing some moron who's kiling everything we believe in\",0\n",
      "251,\"RT @JonahNRO: But he got them fast! MT @thinkprogress Romney, who has two Harvard degrees, blasts Obama for spending \"\"too much time at Harvard.\"\"\",0\n",
      "250,@markknoller @obama denounces @mittromney for supporting a budget? Why doesn't @obama denounce the senate for ignoring HIS budget ?,0\n",
      "249,Beloit (WI) Daily News:  Obama setting up Supreme Court as a campaign issue . More #Obama #news - http://t.co/WYKgE3LZ,1\n",
      "248,@c_o_l_l_e_e_n Obama is ill prepared for the sh*t storm if the Catholics shut down the hospitals and universities,0\n",
      "247,\"American kid \"\"You're from the UK? Ohhh cool, So do you have tea with the Queen?\"\". British kid: \"\"Do you like, go to Mcdonalds with Obama?\",0\n",
      "246,RT @CatoInstitute: NEW Podcast:  Obama's Vanished Coalition http://t.co/w0cUHRM5  (h/t @COBrown),0\n",
      "245,\"RT @blakehounshell: From Ignatius: \"\"U.S. officials hope [Putin] can broker a Syria deal before he meets Obama at the G-8 summit next month.\"\"\",2\n",
      "244,OBAMA Follows The Quran &gt; Muslims can Lie to the Infidel (US) to Get achieve His Goals&gt; Destruction of the West&gt; #tcot #p2 #ocra #dem #tlot,0\n",
      "243,Exposing the Obama-Soetoro deception: http://t.co/PFmSWQsU via @AddThis,0\n",
      "242,\"@HesDanTheMan @edshow nothing will come of it.  Had it been #obama, the #gop would impeach him. #p2 #edshow\",1\n",
      "241,#whatsromneyhiding from obama,0\n",
      "240,RT @handrewschwartz: Ignatius reports Obama signaled Iran US wld accept civ nuke pgm if Khameni can assure Iran will never get nuke weapons http://t.co/KkaAhGPq,1\n",
      "239,\"RT @GEsfandiari: \"\"Obama signaled US would accept Iranian civilian nuclear program if Khamenei back up claim #Iran will not pursue nukes\"\" http://t.co/svxFPoHq\",1\n",
      "238,Barack Obama is coming to FAU on Tuesday! :D,0\n",
      "237,RT @robints: Obama Admin cries for tax increases as they applaud China 4 lowering taxes to spur econ grwth. http://t.co/iR2DAMfM Can't make it up! #tcot,0\n",
      "236,\"Look For Obama To Approve Keystone Pipeline - Right Before The Election, http://t.co/rVWI6S1Y, #TCOT\",1\n",
      "235,@marclamonthill Why aren't you and Obama and others telling kids to stop dressing like thugs in jail.... go to school...don't emulate thugs,0\n",
      "234,Interesting take: Obama Misquotes Bible on Wealth Redistribution http://t.co/Z2BCceVk,1\n",
      "233,@AP 0 because i know the global elite have set up america to fail in the coming years and there doing it through there puppet obama,0\n",
      "232,RT @LouTommoBum: Michelle Obama invited the boys to her Easter party. l0l,0\n",
      "231,\"RT @BelleInABow: Obama doesn't need to be your favorite person, but he's still the President of the United States of America. That always deserves respect.\",1\n",
      "230,Obama seeks to defuse healthcare row with court @ http://t.co/KkaKZGHv...,0\n",
      "229,\"RT @ohgirlphrase: American kid \"\"You're from the UK? Ohhh cool, So do you have tea with the Queen?\"\". British kid: \"\"Do you like, go to Mcdonalds with Obama?\",0\n",
      "228,Top News Headlines: Obama Signs JOBS Act http://t.co/fCuFtbWm #business #video,1\n",
      "227,RT @JennyErikson: Obama's college transcripts. #WhatsRomneyHiding,0\n",
      "226,Interesting take: Obama Misquotes Bible on Wealth Redistribution http://t.co/qGDbGxfg,1\n",
      "225,\"#WhatsRomneyHiding The videotape of Barack Obama sucking up to radical Rashid Khalidi. Oh wait, that's the LATimes #VetThePress #VetThePres\",0\n",
      "224,Romney and Obama agree that Augusta National should allow women to be members? Unthinkable...and bad news for the green coats.,0\n",
      "223,\"RT @thinkprogress: Romney, who has two Harvard degrees, blasts Obama for spending \"\"too much time at Harvard.\"\" http://t.co/avbgNT57 #icymi\",0\n",
      "222,\"@edshow President Obama made the federal court look ridiculous, and showed the RW who they truly are.\",0\n",
      "221,RT @katiehiggins_x: My favourite drawing I've ever received on draw something is Nicole's drawing of Obama. Piece of art that was.,0\n",
      "220,@Harry_Styles Barack obama should hide his kids and hide his wife,0\n",
      "219,RT @lilcode45: why does everyone hate on obama?&lt; Cause he aint done shit for us.,0\n",
      "218,\"Oh, how fun! Another #Obama-created Hashtag #WhatsRomneyHiding Via @anthropocon\",1\n",
      "217,I think we are all in agreement that Rick Santorum could beat Obama... at bowling.,1\n",
      "216,Obama campaign wants to train army of women http://t.co/48O3o6jd,0\n",
      "215,@Solameanie Truly & O'Reilly's milquetoast  interview w/that Obama a$$ kisser &socialist (also a race baiter) Marc Lamont Hill was sickening,0\n",
      "214,\"#WhatsRomneyHiding - his connection to supporters of Critical Race Theory.... Oh wait, that was Obama, not Romney...\",0\n",
      "213,\"\"\"@SubwayEATTFRESH: WHO HASN'T KIM K DATED??? OBAMA\"\"\",0\n",
      "212,Obama 2 versions of his ties 2 #ACORN : At 2008 debate http://t.co/2eaXDiOD - To ACORN: http://t.co/IP2xu3cW #WhatsRomneyHiding #gen44 #tcot,0\n",
      "211,@LeslieMarshall You mean savings...when SCOTUS tells the world that Obama is wrong.ACA is unconstitutional! Are you sure Obama is a lawyer?,0\n",
      "210,RT @against_obama: Obama's illegal alien uncle's drivers license #whatsromneyhiding,0\n",
      "209,swear i just saw barack obama walking down my street...highly doubtful hahaha #INeedGlasses,0\n",
      "208,\"RT @MooseOfReason: With a range of opinion from Obama to Romney. MT @markknoller: Pres Obama says \"\"I cannot wait\"\" for \"\"big important debate\"\" on issues.\",1\n",
      "207,\"\"\"@edu_castillo: Obama aboga por el ingreso de las mujeres al club de golf de Augusta// mish interesante...\",0\n",
      "206,Obama's Budget: 'Interest Payments Will Exceed Defense Budget' in 2019 http://t.co/dKy7CI8M,2\n",
      "205,Mitt Romney's tweets all have something to do with Obama! Like really its not that serious,0\n",
      "204,\"RT @JanOnAmerica: With all the truth that has been exposed about the Obama Administration, you have to wonder why any Americans in... http://t.co/1Pso0ULz\",0\n",
      "203,\"RT @ohgirlphrase: American kid \"\"You're from the UK? Ohhh cool, So do you have tea with the Queen?\"\". British kid: \"\"Do you like, go to Mcdonalds with Obama?\",0\n",
      "202,\"RT @ohgirlphrase: American kid \"\"You're from the UK? Ohhh cool, So do you have tea with the Queen?\"\". British kid: \"\"Do you like, go to Mcdonalds with Obama?\",0\n",
      "201,\"@LongLiveShah the time that Obama decide 2 move his ass about mullahs,they'll nuke the whole world&still Obama wants 2 shake hands with them\",0\n",
      "200,What Obama could learn from Muhammad Ali | Stephen M. Walt: http://t.co/T8Mfzi0i,0\n",
      "199,How Saul Alinsky Taught Obama to Say One Thing and Do the Opposite http://t.co/yg8Wl99P,0\n",
      "198,@2happi2bsad Why not obama?,0\n",
      "197,\"@BarackObama i want your real birth certificate obama,And your real college transcripts. Too bad they dont exist! barry the exchange student\",1\n",
      "196,No one thinks Obama sold out today? I do. This was a complete sell out.,0\n",
      "195,NBC Accuses Federal Judge of Bringing Politics Into Courtroom By Questioning Obama | Media Research Center http://t.co/m3LFBhGY,0\n",
      "194,\"RT @markknoller: Pres Obama sayd \"\"I cannot wait\"\" for the \"\"big important debate\"\" we are going to have on these issues.\",1\n",
      "193,\"RT @derekahunter: I like how Obama asks \"\"#WhatsRomneyHiding?\"\" My guess, Obama's crappy college transcripts. #WhatsObamaSmoking? #Caring #p2 @Messina2012\",0\n",
      "192,\"@edshow: Pres. Obama a \"\"thug\"\" and \"\"bully\"\" well I'm glad he has my back figthing for healthcare for all! #edshow!\",1\n",
      "191,En el backstage de los KCA's Harry le pregunto a Michelle Obama como hacia para ordenar pizza desde la Casa Blanca #1Dfact,0\n",
      "190,RT @Zulu_xo: #KimKardashiansNextBoyFriend Obama?,0\n",
      "189,Obama Birth Certificate http://t.co/1yZOM5d9,0\n",
      "188,\"RT @ohgirlphrase: American kid \"\"You're from the UK? Ohhh cool, So do you have tea with the Queen?\"\". British kid: \"\"Do you like, go to Mcdonalds with Obama?\",0\n",
      "187,RT @JeffersonObama: Arianna Huffington blasting President Obama at any chance and praising GOP. This pic explains things. http://t.co/Ov6I5CoS,1\n",
      "186,\"RT @ohgirlphrase: American kid \"\"You're from the UK? Ohhh cool, So do you have tea with the Queen?\"\". British kid: \"\"Do you like, go to Mcdonalds with Obama?\",0\n",
      "185,\"RT @Gabby_Hoffman: We want a president with a spine, not a president with fecklessness. America can do better than Obama. #resist44 #tcot RT if you agree!\",1\n",
      "184,\"In his teen years, Obama has been known to use marijuana and cocaine.\",0\n",
      "183,\"Obama has called the GOP budget social Darwinism. Nice try, but they believe in social creationism.\",1\n",
      "182,\"@Wozniak1: @edshow Irony is fun: Obama is much friendlier with Muslim Brotherhood than the GOP, but says only later is waging war on women.\",0\n",
      "181,\"RT @ohgirlphrase: American kid \"\"You're from the UK? Ohhh cool, So do you have tea with the Queen?\"\". British kid: \"\"Do you like, go to Mcdonalds with Obama?\",0\n",
      "180,RT @BandDirFundRais: Is this the same golf course that refused to admit blacks until Tiger Woods? #WomenOnlyCourse #obama #agusta #golf http://t.co/d2tf13n0,0\n",
      "179,RT @MikeLotito15: Alright President Obama needs to pass a law that prohibits anyone and everyone from tweeting about this one direction crap. It will stop now,1\n",
      "178,\"RT @HuffPostPol: Jim DeMint calls President Obama a \"\"bully\"\" http://t.co/5xHkGMDg / Soooo out of touch.\",0\n",
      "177,\"LaFollette \"\"we will go to newly elected president Obama and ask for our train back\"\"\",1\n",
      "176,\"RT @ohgirlphrase: American kid \"\"You're from the UK? Ohhh cool, So do you have tea with the Queen?\"\". British kid: \"\"Do you like, go to Mcdonalds with Obama?\",0\n",
      "175,\"En el backstage de los KCA's, Harry le pregunto a Michelle Obama como hacia para ordenar pizza desde la Casa Blanca.\",0\n",
      "174,Sipsey Street Irregulars: Katie Pavlich writes an audio book. #FastandFurious: Barack Obama's Bloodiest Scandal http://t.co/x5vw6vy4,0\n",
      "173,#WhatsRomneyHiding HE WONDERING.. WHATS OBAMA HIDING?????  remember the most transparent adm in history.. LMBO,0\n",
      "172,\"RT @ohgirlphrase: American kid \"\"You're from the UK? Ohhh cool, So do you have tea with the Queen?\"\". British kid: \"\"Do you like, go to Mcdonalds with Obama?\",0\n",
      "171,Obama 's hair whole gray!,0\n",
      "170,\"@IamDonCheadle In your view,do you believe Obama has been an economic disaster?\",0\n",
      "169,\"@WilliamShatner  I just seen the HBO documentary hot coffee.I feel so upset, we need four more years of President Obama 1000% certtain!!!\",0\n",
      "168,RT @Talkmaster: Oh now I get it. Obama was talking in shorthand and we were just too dumb to understand how smart he really is.  Gagme.,1\n",
      "167,\"RT @ohgirlphrase: American kid \"\"You're from the UK? Ohhh cool, So do you have tea with the Queen?\"\". British kid: \"\"Do you like, go to Mcdonalds with Obama?\",0\n",
      "166,RT @BuckSexton: interesting to see how Obama and co. game housing market to avoid final correction b4 election. millions of homes glutting market = GOP win,0\n",
      "165,\"Obamacare passed by 7 votes. For #Obama this is a \"\"strong majority\"\". LOL!  http://t.co/tX5Rx9tC #tcot #dem\",1\n",
      "164,\"RT @ohgirlphrase: American kid \"\"You're from the UK? Ohhh cool, So do you have tea with the Queen?\"\". British kid: \"\"Do you like, go to Mcdonalds with Obama?\",0\n",
      "163,\"RT @thinkprogress: Romney, who has two Harvard degrees, blasts Obama for spending \"\"too much time at Harvard.\"\" http://t.co/avbgNT57 #icymi\",0\n",
      "162,Obama inherited (if you want to use his lame wording) $10.6 trillion in debt and turned it into $15.2 trillion. #tcot #p2 #ocra #teaparty,0\n",
      "161,RIGHT SPEAK: LET US NOT FORGET THAT PETTY SANTORUM ENDORSES OBAMA OVER ROMNEY! NOT PRESIDENTIAL! http://t.co/ZqAuGKOd #elections2012 #gop,0\n",
      "160,\"RT @dqnickle: I wonder who'd win in a footrace, Barack Obama or Mitt Romney...stereotypes tell me Bam...but those things aren't very reliable are they\",1\n",
      "159,\"RT @markknoller: AT a campaign fundraiser tonight, Pres. Obama again denounced Mitt Romney by name for his support of the House-passed GOP Budget.\",1\n",
      "158,http://t.co/3COJeZ2F  STOP IT!!!,0\n",
      "157,#Obama 12' win &gt; Debt increased by 87 percent & will top $20 trillion in 2016,2\n",
      "156,\"RT @ohgirlphrase: American kid \"\"You're from the UK? Ohhh cool, So do you have tea with the Queen?\"\". British kid: \"\"Do you like, go to Mcdonalds with Obama?\",0\n",
      "155,Breaking News: Million Men March to #Jerusalem was conceived and orchestrated by #Obama's #Globalist controllers -- http://t.co/R80dwTeD,0\n",
      "154,\"RT @ohgirlphrase: American kid \"\"You're from the UK? Ohhh cool, So do you have tea with the Queen?\"\". British kid: \"\"Do you like, go to Mcdonalds with Obama?\",0\n",
      "153,@YungdashK I think you come across quite up yourself to think people have to earn a follow from you. You're not Barack Obama sweet cheeks,1\n",
      "152,\"RT @ohgirlphrase: American kid \"\"You're from the UK? Ohhh cool, So do you have tea with the Queen?\"\". British kid: \"\"Do you like, go to Mcdonalds with Obama?\",0\n",
      "151,RT @JoiningForces: Photo of the Day: First Lady Michelle Obama greets a #WoundedWarrior @ Walter Reed in #Bethesda: http://t.co/IwG56RDK,0\n",
      "150,\"RT @ohgirlphrase: American kid \"\"You're from the UK? Ohhh cool, So do you have tea with the Queen?\"\". British kid: \"\"Do you like, go to Mcdonalds with Obama?\",0\n",
      "149,\"RT @ohgirlphrase: American kid \"\"You're from the UK? Ohhh cool, So do you have tea with the Queen?\"\". British kid: \"\"Do you like, go to Mcdonalds with Obama?\",0\n",
      "148,\"Obama talking about women being able to golf, while @MittRomney  cares about women making ends meet and putting food on the table!\",1\n",
      "147,Obama's Signing Of JOBS Act Likely Won't Dim #GOP Charge He's Anti-Jobs http://t.co/4INNVGfC You think? #FoxNews #TeaParty #tcot #p2,0\n",
      "146,RT@pslweb Endorsement Of Democrats: A Misuse Of Union Time And Money http://t.co/l3QGcWds #union #ilwu #seiu #aflcio #demproxy #union #alba,1\n",
      "145,\"RT @Fer_SmilerJB: En el backstage de los KCA's, Harry le pregunto a Michelle Obama como hacia para ordenar pizza desde la Casa Blanca.\",0\n",
      "144,\"RT @HuffPostPol: Jim DeMint calls President Obama a \"\"bully\"\" http://t.co/2kXhMwKY\",0\n",
      "143,\"RT @ohgirlphrase: American kid \"\"You're from the UK? Ohhh cool, So do you have tea with the Queen?\"\". British kid: \"\"Do you like, go to Mcdonalds with Obama?\",0\n",
      "142,\"RT @thinkprogress: Romney, who has two Harvard degrees, blasts Obama for spending \"\"too much time at Harvard.\"\" http://t.co/avbgNT57 #icymi\",0\n",
      "141,Holder to 5th Circuit. Obama didn't say what he said. Read letter at http://t.co/rkNdEmIy #tcot #tlot #withnewt #prolife #sgp #lnyhbt #tpp,0\n",
      "140,RT @JeffersonObama: Arianna Huffington blasting President Obama at any chance and praising GOP. This pic explains things. http://t.co/Ov6I5CoS,1\n",
      "139,So let me get this right the supreme court is going over Obama's Healthcare reviewing and deciding whether or not to challenge it.,1\n",
      "138,Obama believes women should be admitted to Augusta http://t.co/ltBrqsgc via @edshow,0\n",
      "137,\"RT @ohgirlphrase: American kid \"\"You're from the UK? Ohhh cool, So do you have tea with the Queen?\"\". British kid: \"\"Do you like, go to Mcdonalds with Obama?\",0\n",
      "136,\"Talking about gas. Asked who is to blame. Tell him I can't narrow it to a single person. \"\"First guy all week that didnt blame Obama!\"\"\",0\n",
      "135,RT @markknoller: Pres Obama says it'll be a big debate and a fun debate because - he says - he has the truth on his side.,1\n",
      "134,Oh well 4 more years under Obama if that's good or bad idk. But I don't think americans are stupid enough to vote for Romney.,0\n",
      "133,\"Obama says 2012 will be a \"\"fun debate\"\": President Barack Obama says the 2012 election will be a \"\"fun debate\"\" ove... http://t.co/RpPh3u0V\",2\n",
      "132,\"If Obama is a \"\"law professor,\"\" I am a Navy SEAL.  What a farce!  A Harvard law grad doesn't know Marbury v. Madison?  He's an ignorant twit.\",0\n",
      "131,\"RT @ohgirlphrase: American kid \"\"You're from the UK? Ohhh cool, So do you have tea with the Queen?\"\". British kid: \"\"Do you like, go to Mcdonalds with Obama?\",0\n",
      "130,@EileenLeft @Wary12 This is from @DavidShuster IMPORTANT MSM helpRomney get away with his lies.We must warn ind voters  http://t.co/Au49TLVs,0\n",
      "129,Obama and Cantor are all smiles as JOBS Act is signed into law http://t.co/5ac6zmY0 via @zite,0\n",
      "128,\"A \"\"legislator\"\" who'd never passed legislation. A \"\"law professor\"\" who'd never published a law review article ... Is Obama fictional? #hhrs\",0\n",
      "127,\"RT @ohgirlphrase: American kid \"\"You're from the UK? Ohhh cool, So do you have tea with the Queen?\"\". British kid: \"\"Do you like, go to Mcdonalds with Obama?\",0\n",
      "126,@WhiteHouse @BarackObama Shell sued over massive oil spills in Nigeria. President Obama: #SaveTheArctic from Shell! http://t.co/WI0ajzJX,0\n",
      "125,RT @Fake_Dispatch: I think we are all in agreement that Rick Santorum could beat Obama... at bowling.,1\n",
      "124,#Obama is trying to strong arm Sheriff Joe to force him to drop investigation into Obama's fake birth certificate. #GOP #tcot #teaparty,0\n",
      "123,\"RT @debv219: #edshow Whenever Obama tells the truth about the Gop, they boo hoo hoo and call him a bully.\",0\n",
      "122,\"RT @JeffersonObama: 62% of U.S. Jews would reelect Obama, 4% say Israel is most important issue - Haaretz http://t.co/VhURDtdO http://t.co/gIGmn5kE\",1\n",
      "121,RT @PeteXU: Obama wants Romney to release his tax return that will show an effective tax rate of under 15% and how little US citizens understand taxes.,1\n",
      "120,\"RT @MusicandFaith: Judicial Watch: $500,000 of Your Money to Send Michelle to Africa http://t.co/DmMaGbBz via @Po_st\",0\n",
      "119,@AC360  President Obama is a Constitutional Law scholar - give him credit and the respect that he deserves.  @JaySekulow is annoying.,0\n",
      "118,\"RT @ohgirlphrase: American kid \"\"You're from the UK? Ohhh cool, So do you have tea with the Queen?\"\". British kid: \"\"Do you like, go to Mcdonalds with Obama?\",0\n",
      "117,\"RT @GottaLaff: RT @markknoller: Pres Obama sayd \"\"I cannot wait\"\" for the \"\"big important debate\"\" we are going to have on these issues.\",1\n",
      "116,I can't wait until Romney goes after Obama on NDAA. Oh wait.,0\n",
      "115,'Back Off' : McConnell Warns Obama Crossed 'Dangerous line'--Times  247 http://t.co/dFTjxuKB,0\n",
      "114,Impossible! RT @Fake_Dispatch: I think we are all in agreement that Rick Santorum could beat Obama... at bowling.,0\n",
      "113,\"@Fake_Dispatch no way, obama would school his ass! santorum has weak arms! lmao\",0\n",
      "112,\"RT @HarryFacts1D: ''Harry Styles describe a Michelle Obama como una mujer muy atractiva.'' OBAMA ESCONDE A TU ESPOSA Y A TUS HIJOS, STYLES VIENE EN CAMINO.\",0\n",
      "111,\"RT @wcptersn: If Obama were white, he'd be Mitt Romney.\",1\n",
      "110,Obama signs bill to boost business startups http://t.co/zq6zC4ZO,1\n",
      "109,RT @JeffersonObama: Arianna Huffington blasting President Obama at any chance and praising GOP. This pic explains things. http://t.co/Ov6I5CoS,1\n",
      "108,\"RT @ohgirlphrase: American kid \"\"You're from the UK? Ohhh cool, So do you have tea with the Queen?\"\". British kid: \"\"Do you like, go to Mcdonalds with Obama?\",0\n",
      "107,@gretawire @WhineNot This is the most transparent Obama has been since he was caught on an open mike with the Russian president.,1\n",
      "106,\"RT @ohgirlphrase: American kid \"\"You're from the UK? Ohhh cool, So do you have tea with the Queen?\"\". British kid: \"\"Do you like, go to Mcdonalds with Obama?\",0\n",
      "105,HE DIDN'T MEAN WHAT HE SAID! Obama's Constitutional law professor spins for him b/c he's a mind reader http://t.co/GTmqufBo #tcot #tlot,0\n",
      "104,\"RT @ohgirlphrase: American kid \"\"You're from the UK? Ohhh cool, So do you have tea with the Queen?\"\". British kid: \"\"Do you like, go to Mcdonalds with Obama?\",0\n",
      "103,\"@sgaut the Architects of the housing debacle were Schumer, Fwank, Dodd and Obama who forced banks to loan trillions to the poor. #edshow\",0\n",
      "102,\"RT @DrewMcKissick: Dapper Dan, and a comb.  And a thick oppo research file on Obama. #WhatsRomneyHiding\",0\n",
      "101,\"RT @ohgirlphrase: American kid \"\"You're from the UK? Ohhh cool, So do you have tea with the Queen?\"\". British kid: \"\"Do you like, go to Mcdonalds with Obama?\",0\n",
      "100,RT @GottaLaff: RT @markknoller: Pres Obama says it'll be a big debate and a fun debate because - he says - he has the truth on his side.,1\n",
      "99,Obama has approved more targeted assassinations than any modern US prez; READ & RT: http://t.co/bfC4gbBW,1\n",
      "98,vote for President Barack Obama and let's keep moving forward.@BarackObama,1\n",
      "97,\"RT @ohgirlphrase: American kid \"\"You're from the UK? Ohhh cool, So do you have tea with the Queen?\"\". British kid: \"\"Do you like, go to Mcdonalds with Obama?\",0\n",
      "96,\"RT @ohgirlphrase: American kid \"\"You're from the UK? Ohhh cool, So do you have tea with the Queen?\"\". British kid: \"\"Do you like, go to Mcdonalds with Obama?\",0\n",
      "95,RT @JennyErikson: Obama's college transcripts. #WhatsRomneyHiding,0\n",
      "94,\"RT @RobertoManzana: Obama Is Like The Worst President Ever ,\",0\n",
      "93,\"RT @markknoller: AT a campaign fundraiser tonight, Pres. Obama again denounced Mitt Romney by name for his support of the House-passed GOP Budget.\",1\n",
      "92,\"RT @edshow: Righties call Pres. Obama a \"\"thug\"\" and \"\"bully\"\" for comments on health care law hearings. Comment on FB or tweet so we can share on #edshow!\",0\n",
      "91,\"In his teen years, Obama has been known to use marijuana and cocaine.\",0\n",
      "90,\"Obama has called the GOP budget social Darwinism. Nice try, but they believe in social creationism.\",1\n",
      "89,\"RT @ohgirlphrase: American kid \"\"You're from the UK? Ohhh cool, So do you have tea with the Queen?\"\". British kid: \"\"Do you like, go to Mcdonalds with Obama?\",0\n",
      "88,RT @Fake_Dispatch: I think we are all in agreement that Rick Santorum could beat Obama... at bowling.,1\n",
      "87,\"RT @ohgirlphrase: American kid \"\"You're from the UK? Ohhh cool, So do you have tea with the Queen?\"\". British kid: \"\"Do you like, go to Mcdonalds with Obama?\",0\n",
      "86,\"RT @ChicoDelainky: Mitt Romney attacked President Obama for going to Harvard, yet, Romney spent 4 years at Harvard. What's wrong with this man?!\",0\n",
      "85,\"Obama says 2012 will be a \"\"fun debate\"\": President Barack Obama says the 2012 election will be a \"\"fun debate\"\" ove... http://t.co/OGi7SdUq\",2\n",
      "84,RT @markknoller: Obama Campaign says Romney should make public 23 years of tax returns so Americans can assess any conflicts of interest.,1\n",
      "83,\"Is #Syria Obama's trump card, or will civil nukes offer result in more futile sanctions on #Iran? http://t.co/7W5qni2S\",1\n",
      "82,Media Matters & Obama WH In Secret Meetings 2 Create Enemies List http://t.co/UlXo9kp3 #GOP #TCOT #TPP #Patriots #Teaparty #twisters #p2 #RS,0\n",
      "81,\"RT @ohgirlphrase: American kid \"\"You're from the UK? Ohhh cool, So do you have tea with the Queen?\"\". British kid: \"\"Do you like, go to Mcdonalds with Obama?\",0\n",
      "80,\"RT @djtechchicago: Apparently, he's hiding Barack Obama's copy of the Constitution. #WhatsRomneyHiding\",0\n",
      "79,RT @RealNichelle: I love that even most that don't agree with Pres Obama's politics could appreciate that he's a Trekker. That's what IDIC is all about.,2\n",
      "78,\"@billmaher Mr Maher I just seen the HBO documentary hot coffee.I feel so upset, we need four more years of President Obama 1000% certtain!\",0\n",
      "77,\"RT @ohgirlphrase: American kid \"\"You're from the UK? Ohhh cool, So do you have tea with the Queen?\"\". British kid: \"\"Do you like, go to Mcdonalds with Obama?\",0\n",
      "76,\"RT @ohgirlphrase: American kid \"\"You're from the UK? Ohhh cool, So do you have tea with the Queen?\"\". British kid: \"\"Do you like, go to Mcdonalds with Obama?\",0\n",
      "75,The only incompetent candidate for 2012 is Obama .  Vote NoObama in 2012,0\n",
      "74,\"RT @WhatTheFFacts: In his teen years, Obama has been known to use marijuana and cocaine.\",0\n",
      "73,\"American kid \"\"You're from the UK? Ohhh cool, So do you have tea with the Queen?\"\". British kid: \"\"Do you like, go to Mcdonalds with Obama?\",0\n",
      "72,#newbedon 4/6/2012 4:27:33 AM Obama Wins Landslide Presidential Election...With Online Gamers http://t.co/L5xqNFfD,0\n",
      "71,\"FSU Cultural Post: Re: Newt or Mitt VS Obama. Can either of 'em beat him?: What parts do you find distu... http://t.co/ie4ClOp9 , at RWD\",0\n",
      "70,\"Obama is a great president. He's honest, loyal, friends, smart, and wants the BEST for EVERYONE in this country, not just the rich.\",2\n",
      "69,#edshow Obama is passionate about healthcare - that doesn't make him a bully.,0\n",
      "68,\"RT @ohgirlphrase: American kid \"\"You're from the UK? Ohhh cool, So do you have tea with the Queen?\"\". British kid: \"\"Do you like, go to Mcdonalds with Obama?\",0\n",
      "67,RT @TrentOn_YouOff: Why Barack Obama trying to start stuff with our future President? Have some respect for Mitt Romney.,0\n",
      "66,@kellieo79 save it for michelle Obama.,0\n",
      "65,RT @jennykassan: President Obama: for the first time ordinary Americans will be able to invest in companies they believe in #crowdfunding,2\n",
      "64,\"RT @Tortured_Verse: Romney has TWO Harvard degrees and he says Obama spent \"\"too much time at Harvard?\"\"  http://t.co/J4bep9Q0 #p2 #tcot #wiunion #ocra #TWISTERS\",0\n",
      "63,RT @LiberalMel: REPUBLICANS WANT TO TAKE AWAY FREE HEALTHCARE AND SEND PUT PEOPLE IN JAIL FOR FIGHTING. REPUBLICANS ARE AHOLES!!! #DEM #OBAMA #OBAMA2012,1\n",
      "62,Attorney Mario Apuzzo Files Ballot Access Challenge Against Obama Today in New Jersey http://t.co/06rD6lCL,0\n",
      "61,\"RT @1Directionality: \"\"Harry styles described Michelle Obama as a very attractive older woman\"\" OBAMA HIDE YOUR WIFE, STYLES IS COMING!\"\"\",1\n",
      "60,RT @HeidiForLiberty: RT @Libertarian_76: I can't wait until Romney goes after Obama on NDAA. Oh wait,0\n",
      "59,These Trending Topics on #Obama and #Romney signal the start of the presidential campaign. Officially paying attention.,0\n",
      "58,#KimKardashiansNextBoyFriend Obama,0\n",
      "57,RT @Talkmaster: Oh now I get it. Obama was talking in shorthand and we were just too dumb to understand how smart he really is.  Gagme.,1\n",
      "56,Obama has a billion dollar war chest for his reelection.  When were through with vetting him it might as well be Monopoly $ #Resist44,1\n",
      "55,\"Barack Obama Mir laechelt kein Fruhling, WoO 25 Sheet Music: Digital Sheet Music of Mir laechelt kein Fruhling, ... http://t.co/cuHdVHYv\",0\n",
      "54,\"Barack Obama LONGBOARD Package CORE 7\"\" TRUCKS 76mm BIGFOOT WHEELS: The newest addition to the Bigfoot Collection... http://t.co/cnHRuUBZ\",0\n",
      "53,RT @TXGaryM: Yes #WHFail RT @jltho: This #WhatsRomneyHiding hashtag is entertaining. Is this another social media backfire from the Obama administration?,1\n",
      "52,Barack Obama President Ronald Reagan's Initial Actions Project: President Ronald Reagan was also facing an econo... http://t.co/8Go8oCpf,0\n",
      "51,Barack Obama The Triumph of Caesar: A Novel of Ancient Rome [With Earbuds] (Playaway Adult Fiction): The Roman c... http://t.co/EbEYonbx,1\n",
      "50,\"Barack Obama The Pictures Generation, 1974-1984 (Metropolitan Museum of Art): This handsome book is the first co... http://t.co/TGgLdkOo\",1\n",
      "49,\"RT @ohgirlphrase: American kid \"\"You're from the UK? Ohhh cool, So do you have tea with the Queen?\"\". British kid: \"\"Do you like, go to Mcdonalds with Obama?\",0\n",
      "48,\"@edshow If Obama is a \"\"thug\"\" and a \"\"bully\"\" then I'm not sure what to call Rush Limbaugh and Bill O.\",0\n",
      "47,\"@BarackObama like what are you hiding, Obama?!? You are TOO MUCH!! @MittRomney\",0\n",
      "46,@JoeSixpackSays Our Troops NEED TO COME HOME !!!! BRING OUR TROOPS HOME NOW OBAMA YOU BASTARD OOOORAH SEMPER FI,0\n",
      "45,RT @Justgod007: RT @NBCNews: President Obama signs law to prohibit insider trading by members of Congress: http://t.co/sCw6mZVz,0\n",
      "44,RT @Kerryepp: #WhatsRomneyHiding that he can throw a baseball like a man and not like a girl like Obama...,0\n",
      "43,@edshow The Right has been crying about unelected judges legislation from  bench forever all of a sudden Obama says same thing he is a Thug,1\n",
      "42,RT @BunkerBlast: RT @teacherspets Obama's Budget: 'Interest Payments Will Exceed Defense Budget' in 2019  http://t.co/uddCXCjt,2\n",
      "41,#whatsObamahiding Kryptonite for the Grand Old Party! Obama 2012,1\n",
      "40,\"RT @ohgirlphrase: American kid \"\"You're from the UK? Ohhh cool, So do you have tea with the Queen?\"\". British kid: \"\"Do you like, go to Mcdonalds with Obama?\",0\n",
      "39,\"Obama, Romney agree: Admit women to Augusta golf club: US President Barack Obama believes women should be allowe... http://t.co/PVKrepqI\",0\n",
      "38,Obama And The Democrats Shocked By Constitutional Restraint http://t.co/RhSzoEU7 via @IBDinvestors,1\n",
      "37,#KimKardashiansNextBoyFriend Obama lol Michelle ain't goin 4 dat,0\n",
      "36,RT @Libertarian_76: I can't wait until Romney goes after Obama on NDAA. Oh wait.,0\n",
      "35,Even CBS won't buy bogus WH explanation of Obama Supreme Court comments - at http://t.co/rkNdEmIy #withnewt #tpn #tcot #tlot #tpp #sgp,1\n",
      "34,RT @EMcLean1982: #WhatsRomneyHiding Obama's Mom Jeans,0\n",
      "33,RT @Un_Progressive: .@ResistTyranny @freegalt Easy. Obama is hiding everything. Always has.,1\n",
      "32,If Obama win 2012 Election wait til 2016 he will have full white hair! just like Bill clinton!,2\n",
      "31,\"#edshow  My President is standing up,speaking up,fighting back and I am so glad he has taken the gloves off. OBAMA 2012 @edshow\",1\n",
      "30,\"RT @0ryuge: #WhatsRomneyHiding The videotape of Barack Obama sucking up to radical Rashid Khalidi. Oh wait, that's the LATimes #VetThePress #VetThePres\",0\n",
      "29,\"RT @haymakers: When RWers whine \"\"What's Obama doing about gas prices!?\"\" Tell them, \"\"Nothing. That's how the free-market works. What are you? A socialist?\"\"\",0\n",
      "28,Thanks for the shout out in this recap of #JOBSAct signing! http://t.co/njCfZuSd via @MiamiHerald,0\n",
      "27,\"RT @Professor_Why: #WhatsRomneyHiding - his plan to push bad loans through for Green energy just to see 'em go bankrupt... Oops, that's Obama again!\",0\n",
      "26,@edshow the direspect of President #Obama is based on racism. They do not want a Black PRESIDENT. #edshow,0\n",
      "25,#WhatsRomneyHiding Obama's birth certificate.,0\n",
      "24,RT @RandallHoven: Nixon was missing 18 minutes. Obama is missing 18 years.,0\n",
      "23,\"RT @mlake9: Love how the #Obama campaign's #WhatsRomneyHiding back fired, now #WhatsObamaHiding is trending. Seeing a lot of birth certificate tweets.\",1\n",
      "22,\"RT @ohgirlphrase: American kid \"\"You're from the UK? Ohhh cool, So do you have tea with the Queen?\"\". British kid: \"\"Do you like, go to Mcdonalds with Obama?\",0\n",
      "21,RT @wilycyotee Pres. Obama's ongoing support of women is another reason I am so proud he is my President!  @edshow #Obama2012,2\n",
      "20,RT @FrankConniff: Harvard graduate Romney slammed Obama for going to Harvard. Good to know that Mitt Romney hates people like Mitt Romney.,1\n",
      "19,@katie_larson It was Obama's hashtag--conservatives turned it into a game (again) :) It's funny ;),0\n",
      "18,\"RT @mlake9: Love how the #Obama campaign's #WhatsRomneyHiding back fired, now #WhatsObamaHiding is trending. Seeing a lot of birth certificate tweets.\",1\n",
      "17,Pravda Endorses and Supports Obama   http://t.co/G68JEmkz,0\n",
      "16,\"of course..I blame HAARP, sinners, aliens, Bush and Obama for all this.  :P....&gt;&gt; http://t.co/7eq8nebt\",0\n",
      "15,\"RT @ohgirlphrase: American kid \"\"You're from the UK? Ohhh cool, So do you have tea with the Queen?\"\". British kid: \"\"Do you like, go to Mcdonalds with Obama?\",0\n",
      "14,RT @GregWHoward: Obama inherited (if you want to use his lame wording) $10.6 trillion in debt and turned it into $15.2 trillion. #tcot #p2 #ocra #teaparty,0\n",
      "13,RealClearPolitics - Obama's Organizational Advantage on Full ...: As a small but electorally significant state t... http://t.co/3Ax22aBB,2\n",
      "12,Here's How Obama and the Democrats Will Win in 2012: Let's start by going back to the assorted polls questioning... http://t.co/zpg0TVm3,1\n",
      "11,#WhatsRomneyHiding? Obama's dignity and sense of humor? #p2 #tcot,2\n",
      "10,Obama's Gender Advantage Extends to the States - 2012 Decoded: New detail on recent swing state polling further ... http://t.co/8iSanDGS,1\n",
      "9,President Obama &lt; Lindsay Lohan RUMORS beginning cross shape lights on ST &lt; 1987 Analyst64 DC bicycle courier &lt; Video changes to scramble.,0\n",
      "8,A valid explanation for why Obama won't let women on the golf course.   #WhatsRomneyHiding,1\n",
      "7,\"RT @ohgirlphrase: American kid \"\"You're from the UK? Ohhh cool, So do you have tea with the Queen?\"\". British kid: \"\"Do you like, go to Mcdonalds with Obama?\",0\n",
      "6,\"one Chicago kid who says \"\"Obama is my man\"\" tells Jesse Watters that the gun violence in Chicago is like \"\"World War 17\"\"\",0\n",
      "5,Video shows federal officials joking about cost of lavish conference http://t.co/2i4SmoPM #obama #crime #p2 #news #tcot #teaparty,0\n",
      "4,RT @wardollarshome: Obama has approved more targeted assassinations than any modern US prez; READ & RT: http://t.co/bfC4gbBW,1\n",
      "3,\"RT @Professor_Why: #WhatsRomneyHiding - his connection to supporters of Critical Race Theory.... Oh wait, that was Obama, not Romney...\",0\n",
      "2,\"IPA Congratulates President Barack Obama for Leadership Regarding JOBS Act: WASHINGTON, Apr 05, 2012 (BUSINESS W... http://t.co/8le3DC8E\",0\n",
      "1,\"In his teen years, Obama has been known to use marijuana and cocaine.\",0\n",
      "0,\"Obama has called the GOP budget social Darwinism. Nice try, but they believe in social creationism.\",1\n",
      ",tweets,labels\n"
     ]
    }
   ],
   "source": [
    "# write a python program to print file's contents in reversed order\n",
    "def reverse_order(file_name):\n",
    "    for line in reversed(list(open(file_name))):\n",
    "        print(line.rstrip())\n",
    "        \n",
    "reverse_order(\"tweets.csv\")"
   ]
  },
  {
   "cell_type": "markdown",
   "metadata": {},
   "source": [
    "30."
   ]
  },
  {
   "cell_type": "code",
   "execution_count": 140,
   "metadata": {},
   "outputs": [
    {
     "data": {
      "text/plain": [
       "'Valid IPv4'"
      ]
     },
     "execution_count": 140,
     "metadata": {},
     "output_type": "execute_result"
    }
   ],
   "source": [
    "# write a python program to validate IP address provided by user\n",
    "import re\n",
    "\n",
    "def validate_ip(address):\n",
    "    regex_ipv4 = \"(([0-9]|[1-9][0-9]|1[0-9][0-9]|\"\\\n",
    "            \"2[0-4][0-9]|25[0-5])\\\\.){3}\"\\\n",
    "            \"([0-9]|[1-9][0-9]|1[0-9][0-9]|\"\\\n",
    "            \"2[0-4][0-9]|25[0-5])\"\n",
    "\n",
    "    regex_ipv6 = \"((([0-9a-fA-F]){1,4})\\\\:){7}\"\\\n",
    "             \"([0-9a-fA-F]){1,4}\"\n",
    "     \n",
    "    ipv4 = re.compile(regex_ipv4)\n",
    "    ipv6 = re.compile(regex_ipv6)\n",
    "\n",
    "    if (re.search(ipv4, address)):\n",
    "        return \"Valid IPv4\"\n",
    "\n",
    "    elif (re.search(ipv6, address)):\n",
    "        return \"Valid IPv6\"\n",
    "\n",
    "    return \"Invalid IP\"\n",
    "\n",
    "address = \"203.120.223.13\"\n",
    "validate_ip(address)"
   ]
  },
  {
   "cell_type": "markdown",
   "metadata": {},
   "source": [
    "31."
   ]
  },
  {
   "cell_type": "code",
   "execution_count": 142,
   "metadata": {},
   "outputs": [
    {
     "data": {
      "text/plain": [
       "False"
      ]
     },
     "execution_count": 142,
     "metadata": {},
     "output_type": "execute_result"
    }
   ],
   "source": [
    "# write a python program to validate MAC address provided by user\n",
    "import re\n",
    " \n",
    "def isValidMACAddress(address): \n",
    "    regex = (\"^([0-9A-Fa-f]{2}[:-])\" +\n",
    "             \"{5}([0-9A-Fa-f]{2})|\" +\n",
    "             \"([0-9a-fA-F]{4}\\\\.\" +\n",
    "             \"[0-9a-fA-F]{4}\\\\.\" +\n",
    "             \"[0-9a-fA-F]{4})$\")\n",
    "\n",
    "    p = re.compile(regex)\n",
    "\n",
    "    if (address == None):\n",
    "        return False\n",
    "\n",
    "    if(re.search(p, address)):\n",
    "        return True\n",
    "    else:\n",
    "        return False\n",
    "\n",
    "address = \"01-23-45-67-89-AH\"\n",
    "isValidMACAddress(address)"
   ]
  },
  {
   "cell_type": "markdown",
   "metadata": {},
   "source": [
    "32."
   ]
  },
  {
   "cell_type": "code",
   "execution_count": 144,
   "metadata": {},
   "outputs": [
    {
     "data": {
      "text/plain": [
       "False"
      ]
     },
     "execution_count": 144,
     "metadata": {},
     "output_type": "execute_result"
    }
   ],
   "source": [
    "# write a python program to validate time in 24-hour format\n",
    "import re\n",
    "\n",
    "def isValid_24hr_Time(time):\n",
    "    regex = \"^([01]?[0-9]|2[0-3]):[0-5][0-9]$\"\n",
    "\n",
    "    p = re.compile(regex)\n",
    "  \n",
    "    if (time == \"\") :\n",
    "        return False\n",
    "\n",
    "    m = re.search(p, time)\n",
    "\n",
    "    if m is None:\n",
    "        return False\n",
    "    else:\n",
    "        return True\n",
    "\n",
    "time = \"25:00\"\n",
    "isValid_24hr_Time(time)"
   ]
  },
  {
   "cell_type": "markdown",
   "metadata": {},
   "source": [
    "33."
   ]
  },
  {
   "cell_type": "code",
   "execution_count": 146,
   "metadata": {},
   "outputs": [
    {
     "data": {
      "text/plain": [
       "'2020-12-20 21:37:00'"
      ]
     },
     "execution_count": 146,
     "metadata": {},
     "output_type": "execute_result"
    }
   ],
   "source": [
    "# write a python program to return current date and time\n",
    "import datetime\n",
    "\n",
    "def current_date_time():\n",
    "    return datetime.datetime.now().strftime(\"%Y-%m-%d %H:%M:%S\")\n",
    "\n",
    "current_date_time()"
   ]
  },
  {
   "cell_type": "markdown",
   "metadata": {},
   "source": [
    "34."
   ]
  },
  {
   "cell_type": "code",
   "execution_count": 152,
   "metadata": {},
   "outputs": [
    {
     "data": {
      "text/plain": [
       "5.2"
      ]
     },
     "execution_count": 152,
     "metadata": {},
     "output_type": "execute_result"
    }
   ],
   "source": [
    "# write a python program to calculate mean of a sample\n",
    "def calculate_mean(sample):\n",
    "    return sum(sample) / len(sample)\n",
    "\n",
    "sample = [4, 8, 6, 5, 3, 2, 8, 9, 2, 5]\n",
    "calculate_mean(sample)"
   ]
  },
  {
   "cell_type": "markdown",
   "metadata": {},
   "source": [
    "35."
   ]
  },
  {
   "cell_type": "code",
   "execution_count": 157,
   "metadata": {},
   "outputs": [
    {
     "data": {
      "text/plain": [
       "[8, 5, 2]"
      ]
     },
     "execution_count": 157,
     "metadata": {},
     "output_type": "execute_result"
    }
   ],
   "source": [
    "# write a python program to calculate mode of a sample\n",
    "from collections import Counter\n",
    "\n",
    "def calculate_mode(sample):\n",
    "    c = Counter(sample)\n",
    "    return [k for k, v in c.items() if v == c.most_common(1)[0][1]]\n",
    "\n",
    "sample = [4, 8, 6, 5, 3, 2, 8, 9, 2, 5]\n",
    "calculate_mode(sample)"
   ]
  },
  {
   "cell_type": "markdown",
   "metadata": {},
   "source": [
    "36."
   ]
  },
  {
   "cell_type": "code",
   "execution_count": 153,
   "metadata": {},
   "outputs": [
    {
     "data": {
      "text/plain": [
       "5.0"
      ]
     },
     "execution_count": 153,
     "metadata": {},
     "output_type": "execute_result"
    }
   ],
   "source": [
    "# write a python program to calculate median of a sample\n",
    "def calculate_median(sample):\n",
    "    n = len(sample)\n",
    "    index = n // 2\n",
    "    if n % 2:\n",
    "        return sorted(sample)[index]\n",
    "    return sum(sorted(sample)[index - 1:index + 1]) / 2\n",
    "\n",
    "sample = [4, 8, 6, 5, 3, 2, 8, 9, 2, 5]\n",
    "calculate_median(sample)"
   ]
  },
  {
   "cell_type": "markdown",
   "metadata": {},
   "source": [
    "37."
   ]
  },
  {
   "cell_type": "code",
   "execution_count": 158,
   "metadata": {},
   "outputs": [
    {
     "data": {
      "text/plain": [
       "5.76"
      ]
     },
     "execution_count": 158,
     "metadata": {},
     "output_type": "execute_result"
    }
   ],
   "source": [
    "# write a python program to calculate variance of a sample\n",
    "def calculate_variance(sample):\n",
    "    n = len(sample)\n",
    "    mean = sum(sample) / n\n",
    "    deviations = [(x - mean) ** 2 for x in sample]\n",
    "    variance = sum(deviations) / n\n",
    "    return variance\n",
    "\n",
    "sample = [4, 8, 6, 5, 3, 2, 8, 9, 2, 5]\n",
    "calculate_variance(sample)"
   ]
  },
  {
   "cell_type": "markdown",
   "metadata": {},
   "source": [
    "38."
   ]
  },
  {
   "cell_type": "code",
   "execution_count": 160,
   "metadata": {},
   "outputs": [
    {
     "data": {
      "text/plain": [
       "2.4"
      ]
     },
     "execution_count": 160,
     "metadata": {},
     "output_type": "execute_result"
    }
   ],
   "source": [
    "# write a python program to calculate standard deviation of a sample\n",
    "import math\n",
    "\n",
    "def calculate_standard_deviation(sample):\n",
    "    var = calculate_variance(sample)\n",
    "    std_dev = math.sqrt(var)\n",
    "    return std_dev\n",
    "\n",
    "sample = [4, 8, 6, 5, 3, 2, 8, 9, 2, 5]\n",
    "calculate_standard_deviation(sample)"
   ]
  },
  {
   "cell_type": "markdown",
   "metadata": {},
   "source": [
    "39."
   ]
  },
  {
   "cell_type": "code",
   "execution_count": 164,
   "metadata": {},
   "outputs": [
    {
     "data": {
      "text/plain": [
       "True"
      ]
     },
     "execution_count": 164,
     "metadata": {},
     "output_type": "execute_result"
    }
   ],
   "source": [
    "# write a python program to validate pin code of India\n",
    "import re\n",
    "\n",
    "def isValidPinCode(pinCode): \n",
    "    regex = \"^[1-9]{1}[0-9]{2}\\\\s{0,1}[0-9]{3}$\"\n",
    "\n",
    "    p = re.compile(regex)\n",
    "\n",
    "    if (pinCode == ''):\n",
    "        return False\n",
    "\n",
    "    m = re.match(p, pinCode)\n",
    "\n",
    "    if m is None:\n",
    "        return False\n",
    "    else:\n",
    "        return True\n",
    "    \n",
    "pincode = \"560135\"; \n",
    "isValidPinCode(pincode)"
   ]
  },
  {
   "cell_type": "markdown",
   "metadata": {},
   "source": [
    "40."
   ]
  },
  {
   "cell_type": "code",
   "execution_count": 167,
   "metadata": {},
   "outputs": [
    {
     "data": {
      "text/plain": [
       "True"
      ]
     },
     "execution_count": 167,
     "metadata": {},
     "output_type": "execute_result"
    }
   ],
   "source": [
    "# write a python program to validate VISA card number\n",
    "import re\n",
    "\n",
    "def isValidVisaCardNo(card_number): \n",
    "    regex = \"^4[0-9]{12}(?:[0-9]{3})?$\"\n",
    "    \n",
    "    p = re.compile(regex)\n",
    "\n",
    "    if (card_number == ''):\n",
    "        return False\n",
    "\n",
    "    m = re.match(p, card_number)\n",
    "\n",
    "    if m is None:\n",
    "        return False\n",
    "    else:\n",
    "        return True\n",
    "\n",
    "card_number = \"4155279860457201\"; \n",
    "isValidVisaCardNo(card_number)"
   ]
  },
  {
   "cell_type": "markdown",
   "metadata": {},
   "source": [
    "41."
   ]
  },
  {
   "cell_type": "code",
   "execution_count": 168,
   "metadata": {},
   "outputs": [
    {
     "data": {
      "text/plain": [
       "True"
      ]
     },
     "execution_count": 168,
     "metadata": {},
     "output_type": "execute_result"
    }
   ],
   "source": [
    "# write a python program to validate Indian passport number\n",
    "import re\n",
    "\n",
    "def isValidPassportNo(passport_number):\n",
    "    regex = \"^[A-PR-WYa-pr-wy][1-9]\\\\d\" +\\\n",
    "            \"\\\\s?\\\\d{4}[1-9]$\"\n",
    "\n",
    "    p = re.compile(regex)\n",
    "\n",
    "    if (passport_number == ''):\n",
    "        return False\n",
    "\n",
    "    m = re.match(p, passport_number)\n",
    "\n",
    "    if m is None:\n",
    "        return False\n",
    "    else:\n",
    "        return True\n",
    "\n",
    "passport_number = \"A21 90457\"; \n",
    "isValidPassportNo(passport_number)"
   ]
  },
  {
   "cell_type": "markdown",
   "metadata": {},
   "source": [
    "42."
   ]
  },
  {
   "cell_type": "code",
   "execution_count": 171,
   "metadata": {},
   "outputs": [
    {
     "data": {
      "text/plain": [
       "True"
      ]
     },
     "execution_count": 171,
     "metadata": {},
     "output_type": "execute_result"
    }
   ],
   "source": [
    "# write a python program to validate PAN card number\n",
    "import re\n",
    "\n",
    "def isValidPanCardNumber(pancard_number):\n",
    "    regex = \"[A-Z]{5}[0-9]{4}[A-Z]{1}\"\n",
    "\n",
    "    p = re.compile(regex)\n",
    "\n",
    "    if(pancard_number == None):\n",
    "        return False\n",
    "\n",
    "    if(re.search(p, pancard_number) and len(pancard_number) == 10):\n",
    "        return True\n",
    "    else:\n",
    "        return False\n",
    "    \n",
    "pancard_number = \"BNZAA2318J\"\n",
    "isValidPanCardNumber(pancard_number)"
   ]
  },
  {
   "cell_type": "markdown",
   "metadata": {},
   "source": [
    "43."
   ]
  },
  {
   "cell_type": "code",
   "execution_count": 173,
   "metadata": {},
   "outputs": [
    {
     "data": {
      "text/plain": [
       "True"
      ]
     },
     "execution_count": 173,
     "metadata": {},
     "output_type": "execute_result"
    }
   ],
   "source": [
    "# write a python program to validate GST number\n",
    "import re\n",
    "\n",
    "def isValidGSTNumber(gst_number):\n",
    "    regex = \"^[0-9]{2}[A-Z]{5}[0-9]{4}\" +\\\n",
    "            \"[A-Z]{1}[1-9A-Z]{1}\" +\\\n",
    "            \"Z[0-9A-Z]{1}$\"\n",
    "     \n",
    "    p = re.compile(regex)\n",
    "\n",
    "    if (gst_number == None):\n",
    "        return False\n",
    "\n",
    "    if(re.search(p, gst_number)):\n",
    "        return True\n",
    "    else:\n",
    "        return False\n",
    "    \n",
    "gst_number = \"06BZAHM6385P6Z2\"\n",
    "isValidGSTNumber(gst_number)"
   ]
  },
  {
   "cell_type": "markdown",
   "metadata": {},
   "source": [
    "44."
   ]
  },
  {
   "cell_type": "code",
   "execution_count": 174,
   "metadata": {},
   "outputs": [
    {
     "data": {
      "text/plain": [
       "True"
      ]
     },
     "execution_count": 174,
     "metadata": {},
     "output_type": "execute_result"
    }
   ],
   "source": [
    "# write a python program to validate domain name\n",
    "import re\n",
    "\n",
    "def isValidDomain(domain_name):\n",
    "    regex = \"^((?!-)[A-Za-z0-9-]\" +\\\n",
    "            \"{1,63}(?<!-)\\\\.)\" +\\\n",
    "            \"+[A-Za-z]{2,6}\"\n",
    "     \n",
    "    p = re.compile(regex)\n",
    " \n",
    "    if (domain_name == None):\n",
    "        return False\n",
    " \n",
    "    if(re.search(p, domain_name)):\n",
    "        return True\n",
    "    else:\n",
    "        return False\n",
    "    \n",
    "domain_name = \"google.com\"\n",
    "isValidDomain(domain_name)"
   ]
  },
  {
   "cell_type": "markdown",
   "metadata": {},
   "source": [
    "45."
   ]
  },
  {
   "cell_type": "code",
   "execution_count": 175,
   "metadata": {},
   "outputs": [
    {
     "data": {
      "text/plain": [
       "True"
      ]
     },
     "execution_count": 175,
     "metadata": {},
     "output_type": "execute_result"
    }
   ],
   "source": [
    "# write a python program to validate SSN number\n",
    "import re\n",
    "\n",
    "def isValidSSN(ssn):\n",
    "    regex = \"^(?!666|000|9\\\\d{2})\\\\d{3}-(?!00)\\\\d{2}-(?!0{4})\\\\d{4}$\"\n",
    "     \n",
    "    p = re.compile(regex)\n",
    " \n",
    "    if (ssn == None):\n",
    "        return False\n",
    " \n",
    "    if(re.search(p, ssn)):\n",
    "        return True\n",
    "    else:\n",
    "        return False\n",
    "\n",
    "ssn = \"856-45-6789\"\n",
    "isValidSSN(ssn)"
   ]
  },
  {
   "cell_type": "markdown",
   "metadata": {},
   "source": [
    "46."
   ]
  },
  {
   "cell_type": "code",
   "execution_count": 206,
   "metadata": {},
   "outputs": [
    {
     "data": {
      "text/plain": [
       "True"
      ]
     },
     "execution_count": 206,
     "metadata": {},
     "output_type": "execute_result"
    }
   ],
   "source": [
    "# write a python program to validate time in 12-hour format\n",
    "import re\n",
    "\n",
    "def isValid12hrTime(time):\n",
    "    regexPattern = \"(1[012]|[1-9]):\"+ \"[0-5][0-9](\\\\s)\"+ \"?(?i)(am|pm)\"\n",
    "   \n",
    "    compiledPattern = re.compile(regexPattern);  \n",
    "  \n",
    "    if (time == None):\n",
    "        return False \n",
    "      \n",
    "    if re.search(compiledPattern,time):\n",
    "        return True\n",
    "    else:\n",
    "        return False\n",
    "    \n",
    "time = \"9:45 PM\"\n",
    "isValid12hrTime(time)"
   ]
  },
  {
   "cell_type": "markdown",
   "metadata": {},
   "source": [
    "47."
   ]
  },
  {
   "cell_type": "code",
   "execution_count": 179,
   "metadata": {},
   "outputs": [
    {
     "data": {
      "text/plain": [
       "'(321) 963-0612'"
      ]
     },
     "execution_count": 179,
     "metadata": {},
     "output_type": "execute_result"
    }
   ],
   "source": [
    "# write a python program to convert 10-digit phone number into US format\n",
    "import re\n",
    "\n",
    "def convert_phone_number(phone_number): \n",
    "  num = re.sub(r'(?<!\\S)(\\d{3})-', r'(\\1) ', phone_number)  \n",
    "  return num\n",
    "\n",
    "phone_number = \"321-963-0612\"\n",
    "convert_phone_number(phone_number)"
   ]
  },
  {
   "cell_type": "markdown",
   "metadata": {},
   "source": [
    "48."
   ]
  },
  {
   "cell_type": "code",
   "execution_count": 180,
   "metadata": {},
   "outputs": [
    {
     "data": {
      "text/plain": [
       "True"
      ]
     },
     "execution_count": 180,
     "metadata": {},
     "output_type": "execute_result"
    }
   ],
   "source": [
    "# write a python program to validate Indian driving license number\n",
    "import re\n",
    "\n",
    "def isValidLicenseNumber(driving_license_number):\n",
    "    regex = (\"^(([A-Z]{2}[0-9]{2})\" +\\\n",
    "             \"( )|([A-Z]{2}-[0-9]\" +\\\n",
    "             \"{2}))((19|20)[0-9]\" +\\\n",
    "             \"[0-9])[0-9]{7}$\")\n",
    "     \n",
    "    p = re.compile(regex)\n",
    " \n",
    "    if (driving_license_number == None):\n",
    "        return False\n",
    " \n",
    "    if(re.search(p, driving_license_number)):\n",
    "        return True\n",
    "    else:\n",
    "        return False\n",
    "\n",
    "driving_license_number = \"UP14 20160034761\"\n",
    "isValidLicenseNumber(driving_license_number)"
   ]
  },
  {
   "cell_type": "markdown",
   "metadata": {},
   "source": [
    "49."
   ]
  },
  {
   "cell_type": "code",
   "execution_count": 181,
   "metadata": {},
   "outputs": [
    {
     "data": {
      "text/plain": [
       "'assignment my doing am I'"
      ]
     },
     "execution_count": 181,
     "metadata": {},
     "output_type": "execute_result"
    }
   ],
   "source": [
    "# write a python program to reverse words in a sentence provided by user\n",
    "def reverse_sentence(sentence):  \n",
    "    words = sentence.split(' ')\n",
    "    reverse_sentence = ' '.join(reversed(words))\n",
    "  \n",
    "    return reverse_sentence\n",
    "\n",
    "sentence = \"I am doing my assignment\"\n",
    "reverse_sentence(sentence)"
   ]
  },
  {
   "cell_type": "markdown",
   "metadata": {},
   "source": [
    "50."
   ]
  },
  {
   "cell_type": "code",
   "execution_count": 188,
   "metadata": {},
   "outputs": [
    {
     "data": {
      "text/plain": [
       "'somkorada'"
      ]
     },
     "execution_count": 188,
     "metadata": {},
     "output_type": "execute_result"
    }
   ],
   "source": [
    "# write a python program to remove character from a string from the index (starting from 0) provided by user\n",
    "def remove_character(user_string, index):\n",
    "    return ''.join([user_string[i] for i in range(len(user_string)) if i != index])\n",
    "\n",
    "user_string = \"somakorada\"\n",
    "remove_character(user_string, 3)"
   ]
  },
  {
   "cell_type": "markdown",
   "metadata": {},
   "source": [
    "51."
   ]
  },
  {
   "cell_type": "code",
   "execution_count": 192,
   "metadata": {},
   "outputs": [
    {
     "data": {
      "text/plain": [
       "True"
      ]
     },
     "execution_count": 192,
     "metadata": {},
     "output_type": "execute_result"
    }
   ],
   "source": [
    "# write a python program to check if a substring provided by user is present in a string provided by user\n",
    "def check_substring(user_string, substring):\n",
    "    if (user_string.count(substring) > 0): \n",
    "        return True\n",
    "    else: \n",
    "        return False\n",
    "\n",
    "user_string = \"soma korada\"\n",
    "substring = \"soma\"\n",
    "check_substring(user_string, substring)"
   ]
  },
  {
   "cell_type": "markdown",
   "metadata": {},
   "source": [
    "52."
   ]
  },
  {
   "cell_type": "code",
   "execution_count": 193,
   "metadata": {},
   "outputs": [
    {
     "data": {
      "text/plain": [
       "'SomakoradaIsLearningPython'"
      ]
     },
     "execution_count": 193,
     "metadata": {},
     "output_type": "execute_result"
    }
   ],
   "source": [
    "# write a python program to convert from snake case to Pascal case\n",
    "import string\n",
    "\n",
    "def convert_to_pascal(user_string):\n",
    "    return string.capwords(user_string.replace(\"_\", \" \")).replace(\" \", \"\")\n",
    "\n",
    "user_string = \"somakorada_is_learning_python\"\n",
    "convert_to_pascal(user_string)"
   ]
  },
  {
   "cell_type": "markdown",
   "metadata": {},
   "source": [
    "53."
   ]
  },
  {
   "cell_type": "code",
   "execution_count": 195,
   "metadata": {},
   "outputs": [
    {
     "data": {
      "text/plain": [
       "10"
      ]
     },
     "execution_count": 195,
     "metadata": {},
     "output_type": "execute_result"
    }
   ],
   "source": [
    "# write a python program to find length of a string provided by user\n",
    "def length_string(user_string):\n",
    "    return len(user_string)\n",
    "\n",
    "user_string = \"somakorada\"\n",
    "length_string(user_string)"
   ]
  },
  {
   "cell_type": "markdown",
   "metadata": {},
   "source": [
    "54."
   ]
  },
  {
   "cell_type": "code",
   "execution_count": 197,
   "metadata": {},
   "outputs": [
    {
     "data": {
      "text/plain": [
       "['Python', 'assignment', 'sample', 'code']"
      ]
     },
     "execution_count": 197,
     "metadata": {},
     "output_type": "execute_result"
    }
   ],
   "source": [
    "# write a python program to print even length words in a string provided by user\n",
    "def even_len_words(user_string):\n",
    "    result = []\n",
    "    user_string = user_string.split(' ')  \n",
    "      \n",
    "    for word in user_string:   \n",
    "        if len(word) % 2 == 0: \n",
    "            result.append(word)\n",
    "    return result\n",
    "\n",
    "user_string = \"Doing Python assignment for writing sample code\"\n",
    "even_len_words(user_string)"
   ]
  },
  {
   "cell_type": "markdown",
   "metadata": {},
   "source": [
    "55."
   ]
  },
  {
   "cell_type": "code",
   "execution_count": 200,
   "metadata": {},
   "outputs": [
    {
     "data": {
      "text/plain": [
       "2"
      ]
     },
     "execution_count": 200,
     "metadata": {},
     "output_type": "execute_result"
    }
   ],
   "source": [
    "# write a python program to print count of unique vowels in a string provided by user\n",
    "def count_unique_vowels(user_string):\n",
    "    user_string = user_string.lower() \n",
    "    vowels = set(\"aeiou\") \n",
    "    s = set({}) \n",
    "  \n",
    "    for char in user_string : \n",
    "        if char in vowels: \n",
    "            s.add(char) \n",
    "        else: \n",
    "            pass\n",
    "              \n",
    "    return len(s)\n",
    "\n",
    "user_string = \"somakorada\"\n",
    "count_unique_vowels(user_string)"
   ]
  },
  {
   "cell_type": "markdown",
   "metadata": {},
   "source": [
    "56."
   ]
  },
  {
   "cell_type": "code",
   "execution_count": 201,
   "metadata": {},
   "outputs": [
    {
     "data": {
      "text/plain": [
       "5"
      ]
     },
     "execution_count": 201,
     "metadata": {},
     "output_type": "execute_result"
    }
   ],
   "source": [
    "# write a python program to print count of all vowels in a string provided by user\n",
    "def count_all_vowels(user_string):\n",
    "    user_string = user_string.lower() \n",
    "\n",
    "    vowels = set(\"aeiou\") \n",
    "\n",
    "    s = []\n",
    "\n",
    "    for char in user_string : \n",
    "        if char in vowels: \n",
    "            s.append(char) \n",
    "        else: \n",
    "            pass\n",
    "              \n",
    "    return len(s)\n",
    "\n",
    "user_string = \"somakorada\"\n",
    "count_all_vowels(user_string)"
   ]
  },
  {
   "cell_type": "markdown",
   "metadata": {},
   "source": [
    "57."
   ]
  },
  {
   "cell_type": "code",
   "execution_count": 207,
   "metadata": {},
   "outputs": [
    {
     "data": {
      "text/plain": [
       "'somakrd'"
      ]
     },
     "execution_count": 207,
     "metadata": {},
     "output_type": "execute_result"
    }
   ],
   "source": [
    "# write a python program to remove duplicates from a string provided by user\n",
    "def remove_duplicate_char(user_string):\n",
    "    s = set(user_string) \n",
    "    s = \"\".join(s) \n",
    "    t = \"\" \n",
    "    for i in user_string: \n",
    "        if(i in t): \n",
    "            pass\n",
    "        else: \n",
    "            t = t + i \n",
    "    return t\n",
    "\n",
    "user_string = \"somakorada\"\n",
    "remove_duplicate_char(user_string)"
   ]
  },
  {
   "cell_type": "markdown",
   "metadata": {},
   "source": [
    "58."
   ]
  },
  {
   "cell_type": "code",
   "execution_count": 216,
   "metadata": {},
   "outputs": [
    {
     "data": {
      "text/plain": [
       "'s'"
      ]
     },
     "execution_count": 216,
     "metadata": {},
     "output_type": "execute_result"
    }
   ],
   "source": [
    "# write a python program to print the first least frequent character in a string provided by user\n",
    "def least_frequent_char(user_string):\n",
    "    all_freq = {} \n",
    "    for i in user_string: \n",
    "        if i in all_freq: \n",
    "            all_freq[i] += 1\n",
    "        else: \n",
    "            all_freq[i] = 1\n",
    "    res = min(all_freq, key = all_freq.get)\n",
    "    return res\n",
    "    \n",
    "user_string = \"somakorada\"\n",
    "least_frequent_char(user_string)"
   ]
  },
  {
   "cell_type": "markdown",
   "metadata": {},
   "source": [
    "59."
   ]
  },
  {
   "cell_type": "code",
   "execution_count": 222,
   "metadata": {},
   "outputs": [
    {
     "data": {
      "text/plain": [
       "'a'"
      ]
     },
     "execution_count": 222,
     "metadata": {},
     "output_type": "execute_result"
    }
   ],
   "source": [
    "# write a python program to print the last most frequent character in a string provided by user\n",
    "def most_frequent_char(user_string):\n",
    "    all_freq = {} \n",
    "    for i in user_string: \n",
    "        if i in all_freq: \n",
    "            all_freq[i] += 1\n",
    "        else: \n",
    "            all_freq[i] = 1\n",
    "    res = max(all_freq, key = all_freq.get)\n",
    "    return res\n",
    "    \n",
    "user_string = \"somakorada\"\n",
    "most_frequent_char(user_string)"
   ]
  },
  {
   "cell_type": "markdown",
   "metadata": {},
   "source": [
    "60."
   ]
  },
  {
   "cell_type": "code",
   "execution_count": 223,
   "metadata": {},
   "outputs": [
    {
     "data": {
      "text/plain": [
       "2"
      ]
     },
     "execution_count": 223,
     "metadata": {},
     "output_type": "execute_result"
    }
   ],
   "source": [
    "# write a python program to print the count of matching characters in two strings provided by user\n",
    "def count_matching_chars(string1, string2):\n",
    "    set_string1 = set(string1) \n",
    "    set_string2 = set(string2) \n",
    "\n",
    "    matched_characters = set_string1 & set_string2 \n",
    "  \n",
    "    return len(matched_characters)\n",
    "\n",
    "string1 = \"soma\"\n",
    "string2 = \"korada\"\n",
    "count_matching_chars(string1, string2)"
   ]
  },
  {
   "cell_type": "markdown",
   "metadata": {},
   "source": [
    "61."
   ]
  },
  {
   "cell_type": "code",
   "execution_count": 224,
   "metadata": {},
   "outputs": [
    {
     "data": {
      "text/plain": [
       "{'a', 'o'}"
      ]
     },
     "execution_count": 224,
     "metadata": {},
     "output_type": "execute_result"
    }
   ],
   "source": [
    "# write a python program to print the matching characters in two strings provided by user\n",
    "def matching_chars(string1, string2):\n",
    "    set_string1 = set(string1) \n",
    "    set_string2 = set(string2) \n",
    "\n",
    "    matched_characters = set_string1 & set_string2 \n",
    "  \n",
    "    return matched_characters\n",
    "\n",
    "string1 = \"soma\"\n",
    "string2 = \"korada\"\n",
    "matching_chars(string1, string2)"
   ]
  },
  {
   "cell_type": "markdown",
   "metadata": {},
   "source": [
    "62."
   ]
  },
  {
   "cell_type": "code",
   "execution_count": 227,
   "metadata": {},
   "outputs": [
    {
     "data": {
      "text/plain": [
       "True"
      ]
     },
     "execution_count": 227,
     "metadata": {},
     "output_type": "execute_result"
    }
   ],
   "source": [
    "# write a python program to check if a string provided by user contains any special character\n",
    "import re\n",
    "\n",
    "def check_special_chars(user_string):\n",
    "    regex = re.compile('[@_!#$%^&*()<>?/\\|}{~:]') \n",
    "    \n",
    "    if(regex.search(user_string) == None): \n",
    "        return False \n",
    "    else: \n",
    "        return True\n",
    "\n",
    "user_string = \"soma@korada\"\n",
    "check_special_chars(user_string)"
   ]
  },
  {
   "cell_type": "markdown",
   "metadata": {},
   "source": [
    "63."
   ]
  },
  {
   "cell_type": "code",
   "execution_count": 230,
   "metadata": {},
   "outputs": [
    {
     "data": {
      "text/plain": [
       "['www.google.com']"
      ]
     },
     "execution_count": 230,
     "metadata": {},
     "output_type": "execute_result"
    }
   ],
   "source": [
    "# write a python program to find URL from string provided by user\n",
    "def find_url(user_string):\n",
    "    regex = r\"(?i)\\b((?:https?://|www\\d{0,3}[.]|[a-z0-9.\\-]+[.][a-z]{2,4}/)(?:[^\\s()<>]+|\\(([^\\s()<>]+|(\\([^\\s()<>]+\\)))*\\))+(?:\\(([^\\s()<>]+|(\\([^\\s()<>]+\\)))*\\)|[^\\s`!()\\[\\]{};:'\\\".,<>?«»“”‘’]))\"\n",
    "    url = re.findall(regex, user_string)       \n",
    "    return [x[0] for x in url]\n",
    "\n",
    "user_string = \"Programmers generally refer to www.google.com\"\n",
    "find_url(user_string)"
   ]
  },
  {
   "cell_type": "markdown",
   "metadata": {},
   "source": [
    "64."
   ]
  },
  {
   "cell_type": "code",
   "execution_count": 231,
   "metadata": {},
   "outputs": [
    {
     "data": {
      "text/plain": [
       "' soma learning a great language'"
      ]
     },
     "execution_count": 231,
     "metadata": {},
     "output_type": "execute_result"
    }
   ],
   "source": [
    "# write a python program to find uncommon words from two strings provided by user\n",
    "def find_uncommon_words(string1, string2):\n",
    "    list1 = string1.split() \n",
    "    list2 = string2.split() \n",
    "    uc = '' \n",
    "    for i in list1: \n",
    "        if i not in list2: \n",
    "            uc = uc + \" \" + i \n",
    "    for j in list2: \n",
    "        if j not in list1: \n",
    "            uc = uc + \" \" + j \n",
    "\n",
    "    return uc\n",
    "\n",
    "string1 = \"soma is learning Python\"\n",
    "string2 = \"Python is a great language\"\n",
    "find_uncommon_words(string1, string2)"
   ]
  },
  {
   "cell_type": "markdown",
   "metadata": {},
   "source": [
    "65."
   ]
  },
  {
   "cell_type": "code",
   "execution_count": 234,
   "metadata": {},
   "outputs": [
    {
     "data": {
      "text/plain": [
       "' is Python Python is'"
      ]
     },
     "execution_count": 234,
     "metadata": {},
     "output_type": "execute_result"
    }
   ],
   "source": [
    "# write a python program to find all common words from two strings provided by user\n",
    "def find_all_common_words(string1, string2):\n",
    "    list1 = string1.split() \n",
    "    list2 = string2.split() \n",
    "    uc = '' \n",
    "    for i in list1: \n",
    "        if i in list2: \n",
    "            uc = uc + \" \" + i \n",
    "    for j in list2: \n",
    "        if j in list1: \n",
    "            uc = uc + \" \" + j \n",
    "\n",
    "    return uc\n",
    "\n",
    "string1 = \"soma is learning Python\"\n",
    "string2 = \"Python is a great language\"\n",
    "find_common_words(string1, string2)"
   ]
  },
  {
   "cell_type": "markdown",
   "metadata": {},
   "source": [
    "66."
   ]
  },
  {
   "cell_type": "code",
   "execution_count": 236,
   "metadata": {},
   "outputs": [
    {
     "data": {
      "text/plain": [
       "{'Python', 'is'}"
      ]
     },
     "execution_count": 236,
     "metadata": {},
     "output_type": "execute_result"
    }
   ],
   "source": [
    "# write a python program to find unique common words from two strings provided by user\n",
    "def find_unique_common_words(string1, string2):\n",
    "    list1 = string1.split() \n",
    "    list2 = string2.split() \n",
    "    uc = set({}) \n",
    "    for i in list1: \n",
    "        if i in list2: \n",
    "            uc.add(i)\n",
    "    for j in list2: \n",
    "        if j in list1: \n",
    "            uc.add(j) \n",
    "\n",
    "    return uc\n",
    "\n",
    "string1 = \"soma is learning Python\"\n",
    "string2 = \"Python is a great language\"\n",
    "find_unique_common_words(string1, string2)"
   ]
  },
  {
   "cell_type": "code",
   "execution_count": null,
   "metadata": {},
   "outputs": [],
   "source": []
  },
  {
   "cell_type": "code",
   "execution_count": null,
   "metadata": {},
   "outputs": [],
   "source": []
  }
 ],
 "metadata": {
  "kernelspec": {
   "display_name": "Python 3",
   "language": "python",
   "name": "python3"
  },
  "language_info": {
   "codemirror_mode": {
    "name": "ipython",
    "version": 3
   },
   "file_extension": ".py",
   "mimetype": "text/x-python",
   "name": "python",
   "nbconvert_exporter": "python",
   "pygments_lexer": "ipython3",
   "version": "3.7.4"
  }
 },
 "nbformat": 4,
 "nbformat_minor": 4
}
