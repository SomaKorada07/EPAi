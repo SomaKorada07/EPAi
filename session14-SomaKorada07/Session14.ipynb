{
 "cells": [
  {
   "cell_type": "code",
   "execution_count": 1,
   "metadata": {},
   "outputs": [],
   "source": [
    "from polygon import Polygon\n",
    "from polygonsequence import PolySeq"
   ]
  },
  {
   "cell_type": "code",
   "execution_count": 2,
   "metadata": {},
   "outputs": [],
   "source": [
    "p1 = Polygon(10, 15) # No. of edges: 10, circumradius: 15\n",
    "p2 = Polygon(10, 15) # No. of edges: 10, circumradius: 15\n",
    "p3 = Polygon(12, 25) # No. of edges: 12, circumradius: 25"
   ]
  },
  {
   "cell_type": "code",
   "execution_count": 3,
   "metadata": {},
   "outputs": [
    {
     "data": {
      "text/plain": [
       "Polygon class with 10 edges, 15 circumradius, 144.0 interior angle, 9.270509831248422 edge length, 14.265847744427303 apothem, 66.12584088290322 area and 92.70509831248421 perimeter"
      ]
     },
     "execution_count": 3,
     "metadata": {},
     "output_type": "execute_result"
    }
   ],
   "source": [
    "p1"
   ]
  },
  {
   "cell_type": "code",
   "execution_count": 4,
   "metadata": {},
   "outputs": [
    {
     "data": {
      "text/plain": [
       "Polygon class with 10 edges, 15 circumradius, 144.0 interior angle, 9.270509831248422 edge length, 14.265847744427303 apothem, 66.12584088290322 area and 92.70509831248421 perimeter"
      ]
     },
     "execution_count": 4,
     "metadata": {},
     "output_type": "execute_result"
    }
   ],
   "source": [
    "p2"
   ]
  },
  {
   "cell_type": "code",
   "execution_count": 5,
   "metadata": {},
   "outputs": [
    {
     "data": {
      "text/plain": [
       "Polygon class with 12 edges, 25 circumradius, 150.0 interior angle, 12.940952255126037 edge length, 24.148145657226706 apothem, 156.24999999999997 area and 155.29142706151245 perimeter"
      ]
     },
     "execution_count": 5,
     "metadata": {},
     "output_type": "execute_result"
    }
   ],
   "source": [
    "p3"
   ]
  },
  {
   "cell_type": "code",
   "execution_count": 6,
   "metadata": {},
   "outputs": [
    {
     "name": "stdout",
     "output_type": "stream",
     "text": [
      "Polygon P1\n",
      "Number of Vertices: 10\n",
      "Number of edges: 10\n",
      "Circumradius: 15\n",
      "Interior angle: 144.0\n",
      "Edge length: 9.270509831248422\n",
      "Apothem: 14.265847744427303\n",
      "Area: 66.12584088290322\n",
      "Perimeter: 92.70509831248421\n"
     ]
    }
   ],
   "source": [
    "print(\"Polygon P1\")\n",
    "print(f\"Number of Vertices: {p1.num_vertices}\")\n",
    "print(f\"Number of edges: {p1.num_edges}\")\n",
    "print(f\"Circumradius: {p1.circumradius}\")\n",
    "print(f\"Interior angle: {p1.int_angle}\")\n",
    "print(f\"Edge length: {p1.edge_len}\")\n",
    "print(f\"Apothem: {p1.apothem}\")\n",
    "print(f\"Area: {p1.area}\")\n",
    "print(f\"Perimeter: {p1.perimeter}\")"
   ]
  },
  {
   "cell_type": "code",
   "execution_count": 7,
   "metadata": {},
   "outputs": [
    {
     "data": {
      "text/plain": [
       "True"
      ]
     },
     "execution_count": 7,
     "metadata": {},
     "output_type": "execute_result"
    }
   ],
   "source": [
    "p1 == p2"
   ]
  },
  {
   "cell_type": "code",
   "execution_count": 8,
   "metadata": {},
   "outputs": [
    {
     "data": {
      "text/plain": [
       "False"
      ]
     },
     "execution_count": 8,
     "metadata": {},
     "output_type": "execute_result"
    }
   ],
   "source": [
    "p2 == p3"
   ]
  },
  {
   "cell_type": "code",
   "execution_count": 9,
   "metadata": {},
   "outputs": [
    {
     "data": {
      "text/plain": [
       "True"
      ]
     },
     "execution_count": 9,
     "metadata": {},
     "output_type": "execute_result"
    }
   ],
   "source": [
    "p3 > p1"
   ]
  },
  {
   "cell_type": "code",
   "execution_count": 10,
   "metadata": {},
   "outputs": [
    {
     "data": {
      "text/plain": [
       "True"
      ]
     },
     "execution_count": 10,
     "metadata": {},
     "output_type": "execute_result"
    }
   ],
   "source": [
    "p2 < p3"
   ]
  },
  {
   "cell_type": "markdown",
   "metadata": {},
   "source": [
    "Objective 2"
   ]
  },
  {
   "cell_type": "code",
   "execution_count": 11,
   "metadata": {},
   "outputs": [],
   "source": [
    "seq = PolySeq(25, 10)"
   ]
  },
  {
   "cell_type": "code",
   "execution_count": 12,
   "metadata": {},
   "outputs": [
    {
     "data": {
      "text/plain": [
       "23"
      ]
     },
     "execution_count": 12,
     "metadata": {},
     "output_type": "execute_result"
    }
   ],
   "source": [
    "len(seq)"
   ]
  },
  {
   "cell_type": "code",
   "execution_count": 13,
   "metadata": {},
   "outputs": [
    {
     "name": "stdout",
     "output_type": "stream",
     "text": [
      "0\n",
      "0\n",
      "0\n",
      "0.8333333333333336\n",
      "0.8838834764831845\n",
      "0.8090169943749473\n",
      "0.7216878364870324\n",
      "0.6435491913588709\n",
      "0.5774247078195542\n",
      "0.5220514559921715\n",
      "0.4755282581475767\n",
      "0.43613316982477146\n",
      "0.40246909428711175\n",
      "0.37343916054848153\n",
      "0.34818854006493705\n",
      "0.3260492002446019\n",
      "0.3064954001260095\n",
      "0.28910973520114763\n",
      "0.2735577091700578\n",
      "0.259568764053348\n",
      "0.24692208514878447\n",
      "0.235435911005983\n",
      "0.22495941860930288\n",
      "0.215366510007898\n",
      "0.20655101278621052\n",
      "0.19842294026289556\n"
     ]
    }
   ],
   "source": [
    "for polygon in seq:\n",
    "    print(polygon)"
   ]
  },
  {
   "cell_type": "code",
   "execution_count": 14,
   "metadata": {},
   "outputs": [
    {
     "data": {
      "text/plain": [
       "Polygon class with 4 edges, 10 circumradius, 90.0 interior angle, 14.142135623730951 edge length, 7.0710678118654755 apothem, 50.00000000000001 area and 56.568542494923804 perimeter"
      ]
     },
     "execution_count": 14,
     "metadata": {},
     "output_type": "execute_result"
    }
   ],
   "source": [
    "seq.max_efficiency_polygon"
   ]
  },
  {
   "cell_type": "code",
   "execution_count": null,
   "metadata": {},
   "outputs": [],
   "source": []
  }
 ],
 "metadata": {
  "kernelspec": {
   "display_name": "Python 3",
   "language": "python",
   "name": "python3"
  },
  "language_info": {
   "codemirror_mode": {
    "name": "ipython",
    "version": 3
   },
   "file_extension": ".py",
   "mimetype": "text/x-python",
   "name": "python",
   "nbconvert_exporter": "python",
   "pygments_lexer": "ipython3",
   "version": "3.7.4"
  }
 },
 "nbformat": 4,
 "nbformat_minor": 4
}
